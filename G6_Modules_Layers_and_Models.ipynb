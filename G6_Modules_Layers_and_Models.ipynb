{
 "cells": [
  {
   "cell_type": "markdown",
   "metadata": {},
   "source": [
    "### **Introduction**\n"
   ]
  },
  {
   "cell_type": "markdown",
   "metadata": {},
   "source": [
    "**A model is, abstractly:**\n",
    "\n",
    "* A function that computes something on tensors (a forward pass)\n",
    "* Some variables that can be updated in response to training"
   ]
  },
  {
   "cell_type": "markdown",
   "metadata": {},
   "source": [
    "### **Setup**\n"
   ]
  },
  {
   "cell_type": "code",
   "execution_count": 1,
   "metadata": {},
   "outputs": [
    {
     "name": "stdout",
     "output_type": "stream",
     "text": [
      "2.7.0\n",
      "2.6.0\n"
     ]
    }
   ],
   "source": [
    "import tensorflow as tf\n",
    "from datetime import datetime\n",
    "import random as ra\n",
    "import tensorboard as tb\n",
    "\n",
    "print(tb.__version__)\n",
    "print(tf.__version__)"
   ]
  },
  {
   "cell_type": "markdown",
   "metadata": {},
   "source": [
    "### **Defining Models and Layers in TensorFlow**\n",
    "**Layers are functions with a known `mathematical structure` that can be reused and have `trainable variables`.**"
   ]
  },
  {
   "cell_type": "code",
   "execution_count": 2,
   "metadata": {},
   "outputs": [
    {
     "data": {
      "text/plain": [
       "20.0"
      ]
     },
     "execution_count": 2,
     "metadata": {},
     "output_type": "execute_result"
    }
   ],
   "source": [
    "# Creating a simple Model using tf.Module\n",
    "class Module(tf.Module):\n",
    "    def __init__(self, name):\n",
    "        super().__init__(name= name)\n",
    "        self.tr_var = tf.Variable(5.0, name= 'train_me')\n",
    "        self.non_tr_var = tf.Variable(5.0, trainable=False , name= 'not_train')\n",
    "\n",
    "    def __call__(self, x):\n",
    "        return self.tr_var * x + self.non_tr_var\n",
    "\n",
    "model = Module('SimpleModel')\n",
    "model(tf.constant(3.)).numpy()"
   ]
  },
  {
   "cell_type": "code",
   "execution_count": 3,
   "metadata": {},
   "outputs": [
    {
     "name": "stdout",
     "output_type": "stream",
     "text": [
      "Trainable variables:  (<tf.Variable 'train_me:0' shape=() dtype=float32, numpy=5.0>,)\n",
      "Non-Trainable variables (<tf.Variable 'not_train:0' shape=() dtype=float32, numpy=5.0>,)\n",
      "\n",
      "All variables: \n",
      "<tf.Variable 'not_train:0' shape=() dtype=float32, numpy=5.0>\n",
      "<tf.Variable 'train_me:0' shape=() dtype=float32, numpy=5.0>\n"
     ]
    }
   ],
   "source": [
    "# Printing trainable & non_trainable variables\n",
    "print('Trainable variables: ', model.trainable_variables)\n",
    "print('Non-Trainable variables', model.non_trainable_variables)\n",
    "print()\n",
    "print('All variables: ')\n",
    "for var in model.variables:\n",
    "    print(var)"
   ]
  },
  {
   "cell_type": "markdown",
   "metadata": {},
   "source": [
    "> **Creating a two-layer linear layer model made out of modules.**"
   ]
  },
  {
   "cell_type": "code",
   "execution_count": 4,
   "metadata": {},
   "outputs": [],
   "source": [
    "# Creating a dense layer\n",
    "class Dense(tf.Module):\n",
    "    def __init__(self, in_fea, out_fea,name=None):\n",
    "        super().__init__(name)\n",
    "        self.wei = tf.Variable(\n",
    "            tf.random.normal([in_fea, out_fea], name= 'weights')\n",
    "        )\n",
    "        self.bias = tf.Variable(\n",
    "            tf.zeros([out_fea], name='bias')\n",
    "        )\n",
    "\n",
    "    def __call__(self, x_ten):\n",
    "        # Computation: Y = Matrix multiplication (x & weights) plus the model bias\n",
    "        # Computation: tf.nn.relu(Y)\n",
    "        y = (x_ten @ self.wei) + self.bias\n",
    "        return tf.nn.relu(y)"
   ]
  },
  {
   "cell_type": "code",
   "execution_count": 5,
   "metadata": {},
   "outputs": [
    {
     "data": {
      "text/plain": [
       "array([[13.139297,  0.      ],\n",
       "       [18.169588,  0.      ],\n",
       "       [17.761112,  0.      ]], dtype=float32)"
      ]
     },
     "execution_count": 5,
     "metadata": {},
     "output_type": "execute_result"
    }
   ],
   "source": [
    "class Sequential(tf.Module):\n",
    "    def __init__(self, name=None):\n",
    "        super().__init__(name)\n",
    "        \n",
    "        self.dense1 = Dense(3, 3, 'InputLayer')\n",
    "        self.dense2 = Dense(3, 2, 'OutputLayer')\n",
    "        \n",
    "    def __call__(self, tx):\n",
    "        y = self.dense1(tx)\n",
    "        return self.dense2(y)\n",
    "\n",
    "my_model = Sequential('AI_Model')\n",
    "# Model acceptable shape [n x 3]\n",
    "my_model(tf.random.poisson([2, 3], 5.5)) \n",
    "my_model(tf.random.normal([3, 3], mean=17, stddev=3.5)).numpy()\n"
   ]
  },
  {
   "cell_type": "code",
   "execution_count": 6,
   "metadata": {},
   "outputs": [
    {
     "name": "stdout",
     "output_type": "stream",
     "text": [
      "<__main__.Dense object at 0x00000272C0BC4E20>\n",
      "<__main__.Dense object at 0x0000027293F19EE0>\n",
      "\n",
      "var: [0. 0. 0.]\n",
      "\n",
      "var: [[-0.39903533  2.8584285  -0.28828472]\n",
      " [ 0.97410417  1.6884475  -1.436763  ]\n",
      " [-1.2081252  -0.09072787 -1.5433416 ]]\n",
      "\n",
      "var: [0. 0.]\n",
      "\n",
      "var: [[ 1.1347665   1.6179154 ]\n",
      " [ 0.22295702 -1.4868757 ]\n",
      " [-0.4721579  -0.1772938 ]]\n",
      "\n"
     ]
    }
   ],
   "source": [
    "# Printing Model submodules\n",
    "for mod in my_model.submodules:\n",
    "    print(mod)\n",
    "print()\n",
    "\n",
    "# Printing model Variables\n",
    "for var in  my_model.variables: \n",
    "    print(f'var: {var.numpy()}\\n')\n",
    "\n"
   ]
  },
  {
   "cell_type": "markdown",
   "metadata": {},
   "source": [
    "* ##### **Waiting to create variables**\n"
   ]
  },
  {
   "cell_type": "code",
   "execution_count": 7,
   "metadata": {},
   "outputs": [],
   "source": [
    "# The Input shape of the layers is dynamically inferered at the runtime by the size of the incoming tensor..\n",
    "class dyn_Layer(tf.Module):\n",
    "    def __init__(self, outCh, name=None):\n",
    "        super().__init__(name)\n",
    "        self.is_built = False \n",
    "        self.out_channels = outCh\n",
    "    \n",
    "    def __call__(self, tx):\n",
    "        if not self.is_built:\n",
    "            self.is_built = True\n",
    "            self.wei = tf.Variable(\n",
    "                tf.random.normal([tx.shape[-1], self.out_channels]), name='Weights'\n",
    "            )\n",
    "            self.bias = tf.Variable(\n",
    "                tf.zeros([self.out_channels], name='bias')\n",
    "            )\n",
    "        \n",
    "        y = tx @ self.wei + self.bias\n",
    "        return tf.nn.relu(y)\n",
    "    \n",
    "class dyn_SeqModel(tf.Module):\n",
    "    def __init__(self, name=None):\n",
    "        super().__init__(name)\n",
    "        \n",
    "        self.dense1 = dyn_Layer(12, 'Input_Layer')\n",
    "        self.dense2 = dyn_Layer(3, 'Output_Layer')\n",
    "        \n",
    "    def __call__(self, tx):\n",
    "        tx = self.dense1(tx)\n",
    "        return self.dense2(tx)"
   ]
  },
  {
   "cell_type": "code",
   "execution_count": 8,
   "metadata": {},
   "outputs": [
    {
     "name": "stdout",
     "output_type": "stream",
     "text": [
      "InChanels for this Model 1\n",
      "tf.Tensor(\n",
      "[[  0.       128.71495   69.367096]\n",
      " [  0.       156.39355   73.65257 ]\n",
      " [  0.       156.72723   79.726494]\n",
      " [  0.       167.1547    74.67707 ]\n",
      " [  0.       164.22754   80.34685 ]\n",
      " [  0.       160.38048   83.29672 ]], shape=(6, 3), dtype=float32)\n",
      "InChanels for this Model 6\n",
      "tf.Tensor(\n",
      "[[ 0.6829262  0.        12.774567 ]\n",
      " [ 0.         0.         7.1609077]\n",
      " [ 1.662302   0.         3.6560783]\n",
      " [ 1.0417137  0.        16.508053 ]\n",
      " [ 0.         0.         3.7840614]\n",
      " [ 7.532221   0.        16.858067 ]], shape=(6, 3), dtype=float32)\n",
      "InChanels for this Model 4\n",
      "tf.Tensor(\n",
      "[[ 0.         7.5912714 59.240707 ]\n",
      " [ 0.        28.03339   19.110558 ]\n",
      " [ 0.        25.52978   35.754654 ]\n",
      " [ 0.         3.8108416 85.12776  ]\n",
      " [ 0.         0.        67.24708  ]\n",
      " [ 0.        29.605312  26.638424 ]], shape=(6, 3), dtype=float32)\n",
      "InChanels for this Model 5\n",
      "tf.Tensor(\n",
      "[[149.4383     0.         0.      ]\n",
      " [159.87935    0.         0.      ]\n",
      " [ 80.19273    0.         0.      ]\n",
      " [119.16541    0.         0.      ]\n",
      " [114.91611    0.         0.      ]\n",
      " [120.849045   0.         0.      ]], shape=(6, 3), dtype=float32)\n",
      "InChanels for this Model 8\n",
      "tf.Tensor(\n",
      "[[136.44876   36.78733  129.64194 ]\n",
      " [129.95146   43.43857   43.130356]\n",
      " [152.11505   18.294546 142.38919 ]\n",
      " [119.44342   78.00369    0.      ]\n",
      " [114.838455  45.63146   33.35868 ]\n",
      " [136.48604   21.387253 104.82204 ]], shape=(6, 3), dtype=float32)\n",
      "InChanels for this Model 4\n",
      "tf.Tensor(\n",
      "[[ 0.          1.3174014  37.661453  ]\n",
      " [ 0.          1.4152117  10.371573  ]\n",
      " [ 0.          2.057124   25.18167   ]\n",
      " [ 0.          0.12346911 31.516102  ]\n",
      " [ 0.          1.0900924   9.140153  ]\n",
      " [ 0.          1.0359564  38.013554  ]], shape=(6, 3), dtype=float32)\n",
      "InChanels for this Model 6\n",
      "tf.Tensor(\n",
      "[[  0.      211.05673   0.     ]\n",
      " [  0.      139.27669   0.     ]\n",
      " [  0.      113.5394    0.     ]\n",
      " [  0.      121.11715   0.     ]\n",
      " [  0.      176.60732   0.     ]\n",
      " [  0.      191.56601   0.     ]], shape=(6, 3), dtype=float32)\n",
      "InChanels for this Model 15\n",
      "tf.Tensor(\n",
      "[[160.49857 279.8354    0.     ]\n",
      " [200.7741  265.9792    0.     ]\n",
      " [208.39938 313.53583   0.     ]\n",
      " [193.6148  302.46854   0.     ]\n",
      " [163.24625 303.09735   0.     ]\n",
      " [147.66971 219.44295   0.     ]], shape=(6, 3), dtype=float32)\n",
      "InChanels for this Model 8\n",
      "tf.Tensor(\n",
      "[[  0.       295.46875  282.3537  ]\n",
      " [  0.       262.0014   283.34436 ]\n",
      " [  0.       184.72836  231.02226 ]\n",
      " [  0.       293.61023  323.78784 ]\n",
      " [  8.681957 191.1041   228.91612 ]\n",
      " [  9.997295 194.63843  231.11885 ]], shape=(6, 3), dtype=float32)\n",
      "InChanels for this Model 8\n",
      "tf.Tensor(\n",
      "[[ 2.0439987  0.         0.       ]\n",
      " [19.452091   0.         0.       ]\n",
      " [30.785408   0.         0.       ]\n",
      " [18.112514   0.         0.       ]\n",
      " [ 0.         0.         0.       ]\n",
      " [25.97435    0.         0.       ]], shape=(6, 3), dtype=float32)\n"
     ]
    }
   ],
   "source": [
    "# Calling the dynamic model on different sets of inputs\n",
    "for i in range(10):\n",
    "    in_chs = ra.randint(1,15)\n",
    "    print('InChanels for this Model', in_chs)\n",
    "    model = dyn_SeqModel('AdaptiveModel')\n",
    "    tx = tf.random.uniform([6, 6], minval=16, maxval=32)\n",
    "    print(model(tx))\n",
    "\n",
    "# Our model is working...\n",
    "\n"
   ]
  },
  {
   "cell_type": "markdown",
   "metadata": {},
   "source": [
    "### **Saving Weights**"
   ]
  },
  {
   "cell_type": "code",
   "execution_count": 10,
   "metadata": {},
   "outputs": [
    {
     "data": {
      "text/plain": [
       "[('_CHECKPOINTABLE_OBJECT_GRAPH', []),\n",
       " ('model/dense1/bias/.ATTRIBUTES/VARIABLE_VALUE', [12]),\n",
       " ('model/dense1/wei/.ATTRIBUTES/VARIABLE_VALUE', [6, 12]),\n",
       " ('model/dense2/bias/.ATTRIBUTES/VARIABLE_VALUE', [3]),\n",
       " ('model/dense2/wei/.ATTRIBUTES/VARIABLE_VALUE', [12, 3])]"
      ]
     },
     "execution_count": 10,
     "metadata": {},
     "output_type": "execute_result"
    }
   ],
   "source": [
    "# Create a dir to save weights\n",
    "chk_path = 'Weights_checkpoint'\n",
    "checkpoint = tf.train.Checkpoint(model=model)\n",
    "\n",
    "# Using this Command, the weights are stored into the file.\n",
    "checkpoint.write(chk_path)\n",
    "tf.train.list_variables(chk_path)\n",
    "\n",
    "# Creating a new Model ans assigning the SAME WEIGHTS\n",
    "new_mod = dyn_SeqModel('Dynamic_Seq2')\n",
    "checkpoint2 = tf.train.Checkpoint(model=new_mod)\n",
    "\n",
    "# Reloading the previous weights\n",
    "\n"
   ]
  },
  {
   "cell_type": "markdown",
   "metadata": {},
   "source": [
    "### **Saving Functions**"
   ]
  },
  {
   "cell_type": "markdown",
   "metadata": {},
   "source": [
    "* ##### **Creating a saved Model**\n"
   ]
  },
  {
   "cell_type": "markdown",
   "metadata": {},
   "source": [
    "### **Keras Models and Layers**"
   ]
  },
  {
   "cell_type": "markdown",
   "metadata": {},
   "source": [
    "* ##### **Keras Layers**"
   ]
  },
  {
   "cell_type": "markdown",
   "metadata": {},
   "source": [
    "* ##### **The build step**\n"
   ]
  },
  {
   "cell_type": "markdown",
   "metadata": {},
   "source": [
    "* ##### **Keras Models**\n"
   ]
  },
  {
   "cell_type": "markdown",
   "metadata": {},
   "source": [
    "### **Saving Keras Model**"
   ]
  },
  {
   "cell_type": "markdown",
   "metadata": {},
   "source": [
    "### **`Sonnet`: Alternate deep-learning API for building ML Models**\n",
    "> **By DeepMind,**\n",
    "> **Based on tf.Module**"
   ]
  }
 ],
 "metadata": {
  "interpreter": {
   "hash": "445be380edc556d8a8859931574c9be2b357dc49fbb96280944087ec4ff5e718"
  },
  "kernelspec": {
   "display_name": "Python 3.8.11 64-bit ('OCR': conda)",
   "language": "python",
   "name": "python3"
  },
  "language_info": {
   "codemirror_mode": {
    "name": "ipython",
    "version": 3
   },
   "file_extension": ".py",
   "mimetype": "text/x-python",
   "name": "python",
   "nbconvert_exporter": "python",
   "pygments_lexer": "ipython3",
   "version": "3.8.11"
  },
  "orig_nbformat": 4
 },
 "nbformat": 4,
 "nbformat_minor": 2
}
