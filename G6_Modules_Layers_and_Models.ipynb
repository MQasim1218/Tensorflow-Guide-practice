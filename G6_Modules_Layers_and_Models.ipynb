{
 "cells": [
  {
   "cell_type": "markdown",
   "metadata": {},
   "source": [
    "### **Introduction**\n"
   ]
  },
  {
   "cell_type": "markdown",
   "metadata": {},
   "source": [
    "**A model is, abstractly:**\n",
    "\n",
    "* A function that computes something on tensors (a forward pass)\n",
    "* Some variables that can be updated in response to training"
   ]
  },
  {
   "cell_type": "markdown",
   "metadata": {},
   "source": [
    "### **Setup**\n"
   ]
  },
  {
   "cell_type": "code",
   "execution_count": 1,
   "metadata": {},
   "outputs": [
    {
     "name": "stdout",
     "output_type": "stream",
     "text": [
      "2.7.0\n",
      "2.6.0\n"
     ]
    }
   ],
   "source": [
    "import tensorflow as tf\n",
    "from datetime import datetime\n",
    "import random as ra\n",
    "import tensorboard as tb\n",
    "\n",
    "print(tb.__version__)\n",
    "print(tf.__version__)"
   ]
  },
  {
   "cell_type": "markdown",
   "metadata": {},
   "source": [
    "### **Defining Models and Layers in TensorFlow**\n",
    "**Layers are functions with a known `mathematical structure` that can be reused and have `trainable variables`.**"
   ]
  },
  {
   "cell_type": "code",
   "execution_count": 2,
   "metadata": {},
   "outputs": [
    {
     "data": {
      "text/plain": [
       "20.0"
      ]
     },
     "execution_count": 2,
     "metadata": {},
     "output_type": "execute_result"
    }
   ],
   "source": [
    "# Creating a simple Model using tf.Module\n",
    "class Module(tf.Module):\n",
    "    def __init__(self, name):\n",
    "        super().__init__(name= name)\n",
    "        self.tr_var = tf.Variable(5.0, name= 'train_me')\n",
    "        self.non_tr_var = tf.Variable(5.0, trainable=False , name= 'not_train')\n",
    "\n",
    "    def __call__(self, x):\n",
    "        return self.tr_var * x + self.non_tr_var\n",
    "\n",
    "model = Module('SimpleModel')\n",
    "model(tf.constant(3.)).numpy()"
   ]
  },
  {
   "cell_type": "code",
   "execution_count": 3,
   "metadata": {},
   "outputs": [
    {
     "name": "stdout",
     "output_type": "stream",
     "text": [
      "Trainable variables:  (<tf.Variable 'train_me:0' shape=() dtype=float32, numpy=5.0>,)\n",
      "Non-Trainable variables (<tf.Variable 'not_train:0' shape=() dtype=float32, numpy=5.0>,)\n",
      "\n",
      "All variables: \n",
      "<tf.Variable 'not_train:0' shape=() dtype=float32, numpy=5.0>\n",
      "<tf.Variable 'train_me:0' shape=() dtype=float32, numpy=5.0>\n"
     ]
    }
   ],
   "source": [
    "# Printing trainable & non_trainable variables\n",
    "print('Trainable variables: ', model.trainable_variables)\n",
    "print('Non-Trainable variables', model.non_trainable_variables)\n",
    "print()\n",
    "print('All variables: ')\n",
    "for var in model.variables:\n",
    "    print(var)"
   ]
  },
  {
   "cell_type": "markdown",
   "metadata": {},
   "source": [
    "> **Creating a two-layer linear layer model made out of modules.**"
   ]
  },
  {
   "cell_type": "code",
   "execution_count": 4,
   "metadata": {},
   "outputs": [],
   "source": [
    "# Creating a dense layer\n",
    "class Dense(tf.Module):\n",
    "    def __init__(self, in_fea, out_fea,name=None):\n",
    "        super().__init__(name)\n",
    "        self.wei = tf.Variable(\n",
    "            tf.random.normal([in_fea, out_fea], name= 'weights')\n",
    "        )\n",
    "        self.bias = tf.Variable(\n",
    "            tf.zeros([out_fea], name='bias')\n",
    "        )\n",
    "\n",
    "    def __call__(self, x_ten):\n",
    "        # Computation: Y = Matrix multiplication (x & weights) plus the model bias\n",
    "        # Computation: tf.nn.relu(Y)\n",
    "        y = (x_ten @ self.wei) + self.bias\n",
    "        return tf.nn.relu(y)"
   ]
  },
  {
   "cell_type": "code",
   "execution_count": 5,
   "metadata": {},
   "outputs": [
    {
     "data": {
      "text/plain": [
       "array([[13.139297,  0.      ],\n",
       "       [18.169588,  0.      ],\n",
       "       [17.761112,  0.      ]], dtype=float32)"
      ]
     },
     "execution_count": 5,
     "metadata": {},
     "output_type": "execute_result"
    }
   ],
   "source": [
    "class Sequential(tf.Module):\n",
    "    def __init__(self, name=None):\n",
    "        super().__init__(name)\n",
    "        \n",
    "        self.dense1 = Dense(3, 3, 'InputLayer')\n",
    "        self.dense2 = Dense(3, 2, 'OutputLayer')\n",
    "        \n",
    "    def __call__(self, tx):\n",
    "        y = self.dense1(tx)\n",
    "        return self.dense2(y)\n",
    "\n",
    "my_model = Sequential('AI_Model')\n",
    "# Model acceptable shape [n x 3]\n",
    "my_model(tf.random.poisson([2, 3], 5.5)) \n",
    "my_model(tf.random.normal([3, 3], mean=17, stddev=3.5)).numpy()\n"
   ]
  },
  {
   "cell_type": "code",
   "execution_count": 6,
   "metadata": {},
   "outputs": [
    {
     "name": "stdout",
     "output_type": "stream",
     "text": [
      "<__main__.Dense object at 0x00000272C0BC4E20>\n",
      "<__main__.Dense object at 0x0000027293F19EE0>\n",
      "\n",
      "var: [0. 0. 0.]\n",
      "\n",
      "var: [[-0.39903533  2.8584285  -0.28828472]\n",
      " [ 0.97410417  1.6884475  -1.436763  ]\n",
      " [-1.2081252  -0.09072787 -1.5433416 ]]\n",
      "\n",
      "var: [0. 0.]\n",
      "\n",
      "var: [[ 1.1347665   1.6179154 ]\n",
      " [ 0.22295702 -1.4868757 ]\n",
      " [-0.4721579  -0.1772938 ]]\n",
      "\n"
     ]
    }
   ],
   "source": [
    "# Printing Model submodules\n",
    "for mod in my_model.submodules:\n",
    "    print(mod)\n",
    "print()\n",
    "\n",
    "# Printing model Variables\n",
    "for var in  my_model.variables: \n",
    "    print(f'var: {var.numpy()}\\n')\n",
    "\n"
   ]
  },
  {
   "cell_type": "markdown",
   "metadata": {},
   "source": [
    "* ##### **Waiting to create variables**\n"
   ]
  },
  {
   "cell_type": "code",
   "execution_count": 7,
   "metadata": {},
   "outputs": [],
   "source": [
    "# The Input shape of the layers is dynamically inferered at the runtime by the size of the incoming tensor..\n",
    "class dyn_Layer(tf.Module):\n",
    "    def __init__(self, outCh, name=None):\n",
    "        super().__init__(name)\n",
    "        self.is_built = False \n",
    "        self.out_channels = outCh\n",
    "    \n",
    "    def __call__(self, tx):\n",
    "        if not self.is_built:\n",
    "            self.is_built = True\n",
    "            self.wei = tf.Variable(\n",
    "                tf.random.normal([tx.shape[-1], self.out_channels]), name='Weights'\n",
    "            )\n",
    "            self.bias = tf.Variable(\n",
    "                tf.zeros([self.out_channels], name='bias')\n",
    "            )\n",
    "        \n",
    "        y = tx @ self.wei + self.bias\n",
    "        return tf.nn.relu(y)\n",
    "    \n",
    "class dyn_SeqModel(tf.Module):\n",
    "    def __init__(self, name=None):\n",
    "        super().__init__(name)\n",
    "        \n",
    "        self.dense1 = dyn_Layer(12, 'Input_Layer')\n",
    "        self.dense2 = dyn_Layer(3, 'Output_Layer')\n",
    "        \n",
    "    def __call__(self, tx):\n",
    "        tx = self.dense1(tx)\n",
    "        return self.dense2(tx)"
   ]
  },
  {
   "cell_type": "code",
   "execution_count": 14,
   "metadata": {},
   "outputs": [
    {
     "name": "stdout",
     "output_type": "stream",
     "text": [
      "InChanels for this Model 4\n",
      "tf.Tensor(\n",
      "[[112.34303   31.89849    0.      ]\n",
      " [ 49.45166   16.688194   0.      ]\n",
      " [184.91444   49.052467   0.      ]\n",
      " [  8.073273  37.397232   0.      ]\n",
      " [172.96603   64.098335   0.      ]\n",
      " [130.6224    42.597404   0.      ]], shape=(6, 3), dtype=float32)\n",
      "InChanels for this Model 6\n",
      "tf.Tensor(\n",
      "[[  0.        0.      107.33208]\n",
      " [  0.        0.       92.74916]\n",
      " [  0.        0.      123.94803]\n",
      " [  0.        0.      108.56564]\n",
      " [  0.        0.      138.75296]\n",
      " [  0.        0.      111.43582]], shape=(6, 3), dtype=float32)\n",
      "InChanels for this Model 3\n",
      "tf.Tensor(\n",
      "[[0.0000000e+00 3.0769348e-02 2.3706627e-01]\n",
      " [0.0000000e+00 3.0286556e+01 2.1176590e+01]\n",
      " [0.0000000e+00 0.0000000e+00 0.0000000e+00]\n",
      " [0.0000000e+00 2.6353718e+01 0.0000000e+00]\n",
      " [0.0000000e+00 2.3954599e+01 1.0207842e+01]\n",
      " [0.0000000e+00 3.3641621e+01 1.2226410e+01]], shape=(6, 3), dtype=float32)\n",
      "InChanels for this Model 7\n",
      "tf.Tensor(\n",
      "[[340.33902   0.      576.4308 ]\n",
      " [313.21524   0.      521.9188 ]\n",
      " [237.4354    0.      403.945  ]\n",
      " [242.97522   0.      429.6484 ]\n",
      " [224.03532   0.      407.43228]\n",
      " [241.77042   0.      452.79654]], shape=(6, 3), dtype=float32)\n",
      "InChanels for this Model 7\n",
      "tf.Tensor(\n",
      "[[ 0.         0.         4.334938 ]\n",
      " [ 0.         0.        28.197258 ]\n",
      " [ 0.         0.         0.       ]\n",
      " [ 0.         0.         1.2780304]\n",
      " [ 0.         0.        19.261612 ]\n",
      " [ 0.         0.         0.       ]], shape=(6, 3), dtype=float32)\n",
      "InChanels for this Model 10\n",
      "tf.Tensor(\n",
      "[[260.2951     0.        82.296364]\n",
      " [182.17374    0.        36.196636]\n",
      " [246.84413    0.        82.99035 ]\n",
      " [191.18439    0.        36.080345]\n",
      " [163.17392    0.        72.10915 ]\n",
      " [279.3867     0.        60.55961 ]], shape=(6, 3), dtype=float32)\n",
      "InChanels for this Model 3\n",
      "tf.Tensor(\n",
      "[[ 0.        0.       12.302902]\n",
      " [ 0.        0.        0.      ]\n",
      " [ 0.        0.        2.446291]\n",
      " [ 0.        0.       11.101749]\n",
      " [ 0.        0.       30.852684]\n",
      " [ 0.        0.       27.842281]], shape=(6, 3), dtype=float32)\n",
      "InChanels for this Model 10\n",
      "tf.Tensor(\n",
      "[[ 54.990173   0.       150.63562 ]\n",
      " [123.04494    0.       242.96497 ]\n",
      " [106.09148    0.       214.09596 ]\n",
      " [ 92.08185    0.       205.42026 ]\n",
      " [ 86.43422    0.       218.5418  ]\n",
      " [ 65.33214    0.       188.94269 ]], shape=(6, 3), dtype=float32)\n",
      "InChanels for this Model 5\n",
      "tf.Tensor(\n",
      "[[ 0.         0.        43.304966 ]\n",
      " [ 0.         0.        46.398426 ]\n",
      " [ 0.         0.         0.       ]\n",
      " [ 0.         0.         0.       ]\n",
      " [ 0.         0.         0.7276077]\n",
      " [ 0.         0.        26.9382   ]], shape=(6, 3), dtype=float32)\n",
      "InChanels for this Model 4\n",
      "tf.Tensor(\n",
      "[[ 98.38965   34.18181  126.955215]\n",
      " [ 56.986366   0.       120.04741 ]\n",
      " [ 63.527267   0.       131.88281 ]\n",
      " [ 69.06548    9.734043 108.34789 ]\n",
      " [ 46.22735    0.       103.134895]\n",
      " [100.5963    28.95602  108.85946 ]], shape=(6, 3), dtype=float32)\n"
     ]
    }
   ],
   "source": [
    "# Calling the dynamic model on different sets of inputs\n",
    "for i in range(10):\n",
    "    in_chs = ra.randint(1,15)\n",
    "    print('InChanels for this Model', in_chs)\n",
    "    model = dyn_SeqModel('AdaptiveModel')\n",
    "    tx = tf.random.uniform([6, 6], minval=16, maxval=32)\n",
    "    print(model(tx))\n",
    "\n",
    "# Our model is working...\n",
    "\n"
   ]
  },
  {
   "cell_type": "markdown",
   "metadata": {},
   "source": [
    "### **Saving Weights**"
   ]
  },
  {
   "cell_type": "code",
   "execution_count": 15,
   "metadata": {},
   "outputs": [
    {
     "name": "stdout",
     "output_type": "stream",
     "text": [
      "Previous Model results:\n",
      " [[ 98.38965   34.18181  126.955215]\n",
      " [ 56.986366   0.       120.04741 ]\n",
      " [ 63.527267   0.       131.88281 ]\n",
      " [ 69.06548    9.734043 108.34789 ]\n",
      " [ 46.22735    0.       103.134895]\n",
      " [100.5963    28.95602  108.85946 ]]\n",
      "\n",
      "New Model result after restoring weights:\n",
      " [[ 98.38965   34.18181  126.955215]\n",
      " [ 56.986366   0.       120.04741 ]\n",
      " [ 63.527267   0.       131.88281 ]\n",
      " [ 69.06548    9.734043 108.34789 ]\n",
      " [ 46.22735    0.       103.134895]\n",
      " [100.5963    28.95602  108.85946 ]]\n",
      "It worked\n"
     ]
    }
   ],
   "source": [
    "# Create a dir to save weights\n",
    "chk_path = 'Weights_checkpoint'\n",
    "checkpoint = tf.train.Checkpoint(model=model)\n",
    "\n",
    "# Using this Command, the weights are stored into the file.\n",
    "checkpoint.write(chk_path)\n",
    "tf.train.list_variables(chk_path)\n",
    "\n",
    "# Creating a new Model and assigning the `SAME WEIGHTS`\n",
    "new_mod = dyn_SeqModel('Dynamic_Seq2')\n",
    "checkpoint2 = tf.train.Checkpoint(model=new_mod)\n",
    "\n",
    "# Reloading the previous weights\n",
    "checkpoint2.restore('Weights_checkpoint')\n",
    "\n",
    "# Testing the new Model on previous input, should be able to produce same output\n",
    "print(f'Previous Model results:\\n {model(tx).numpy()}\\n')\n",
    "print(f'New Model result after restoring weights:\\n {new_mod(tx).numpy()}')\n",
    "\n",
    "print(\"It worked\")\n"
   ]
  },
  {
   "cell_type": "markdown",
   "metadata": {},
   "source": [
    "### **Saving Functions**"
   ]
  },
  {
   "cell_type": "markdown",
   "metadata": {},
   "source": [
    "* ##### **Creating a saved Model**\n"
   ]
  },
  {
   "cell_type": "markdown",
   "metadata": {},
   "source": [
    "### **Keras Models and Layers**"
   ]
  },
  {
   "cell_type": "markdown",
   "metadata": {},
   "source": [
    "* ##### **Keras Layers**"
   ]
  },
  {
   "cell_type": "markdown",
   "metadata": {},
   "source": [
    "* ##### **The build step**\n"
   ]
  },
  {
   "cell_type": "markdown",
   "metadata": {},
   "source": [
    "* ##### **Keras Models**\n"
   ]
  },
  {
   "cell_type": "markdown",
   "metadata": {},
   "source": [
    "### **Saving Keras Model**"
   ]
  },
  {
   "cell_type": "markdown",
   "metadata": {},
   "source": [
    "### **`Sonnet`: Alternate deep-learning API for building ML Models**\n",
    "> **By DeepMind,**\n",
    "> **Based on tf.Module**"
   ]
  }
 ],
 "metadata": {
  "interpreter": {
   "hash": "445be380edc556d8a8859931574c9be2b357dc49fbb96280944087ec4ff5e718"
  },
  "kernelspec": {
   "display_name": "Python 3.8.11 64-bit ('OCR': conda)",
   "language": "python",
   "name": "python3"
  },
  "language_info": {
   "codemirror_mode": {
    "name": "ipython",
    "version": 3
   },
   "file_extension": ".py",
   "mimetype": "text/x-python",
   "name": "python",
   "nbconvert_exporter": "python",
   "pygments_lexer": "ipython3",
   "version": "3.8.11"
  },
  "orig_nbformat": 4
 },
 "nbformat": 4,
 "nbformat_minor": 2
}
