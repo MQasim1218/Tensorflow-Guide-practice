{
 "cells": [
  {
   "cell_type": "markdown",
   "metadata": {},
   "source": [
    "### **Introduction**\n"
   ]
  },
  {
   "cell_type": "markdown",
   "metadata": {},
   "source": [
    "**A model is, abstractly:**\n",
    "\n",
    "* A function that computes something on tensors (a forward pass)\n",
    "* Some variables that can be updated in response to training"
   ]
  },
  {
   "cell_type": "markdown",
   "metadata": {},
   "source": [
    "### **Setup**\n"
   ]
  },
  {
   "cell_type": "code",
   "execution_count": 24,
   "metadata": {},
   "outputs": [
    {
     "name": "stdout",
     "output_type": "stream",
     "text": [
      "2.7.0\n",
      "2.6.0\n"
     ]
    }
   ],
   "source": [
    "import tensorflow as tf\n",
    "from datetime import datetime\n",
    "import random as ra\n",
    "import numpy as np\n",
    "import tensorboard as tb\n",
    "\n",
    "print(tb.__version__)\n",
    "print(tf.__version__)"
   ]
  },
  {
   "cell_type": "markdown",
   "metadata": {},
   "source": [
    "### **Defining Models and Layers in TensorFlow**\n",
    "**Layers are functions with a known `mathematical structure` that can be reused and have `trainable variables`.**"
   ]
  },
  {
   "cell_type": "code",
   "execution_count": 4,
   "metadata": {},
   "outputs": [
    {
     "data": {
      "text/plain": [
       "20.0"
      ]
     },
     "execution_count": 4,
     "metadata": {},
     "output_type": "execute_result"
    }
   ],
   "source": [
    "# Creating a simple Model using tf.Module\n",
    "class Module(tf.Module):\n",
    "    def __init__(self, name):\n",
    "        super().__init__(name= name)\n",
    "        self.tr_var = tf.Variable(5.0, name= 'train_me')\n",
    "        self.non_tr_var = tf.Variable(5.0, trainable=False , name= 'not_train')\n",
    "\n",
    "    def __call__(self, x):\n",
    "        return self.tr_var * x + self.non_tr_var\n",
    "\n",
    "model = Module('SimpleModel')\n",
    "model(tf.constant(3.)).numpy()"
   ]
  },
  {
   "cell_type": "code",
   "execution_count": 5,
   "metadata": {},
   "outputs": [
    {
     "name": "stdout",
     "output_type": "stream",
     "text": [
      "Trainable variables:  (<tf.Variable 'train_me:0' shape=() dtype=float32, numpy=5.0>,)\n",
      "Non-Trainable variables (<tf.Variable 'not_train:0' shape=() dtype=float32, numpy=5.0>,)\n",
      "\n",
      "All variables: \n",
      "<tf.Variable 'not_train:0' shape=() dtype=float32, numpy=5.0>\n",
      "<tf.Variable 'train_me:0' shape=() dtype=float32, numpy=5.0>\n"
     ]
    }
   ],
   "source": [
    "# Printing trainable & non_trainable variables\n",
    "print('Trainable variables: ', model.trainable_variables)\n",
    "print('Non-Trainable variables', model.non_trainable_variables)\n",
    "print()\n",
    "print('All variables: ')\n",
    "for var in model.variables:\n",
    "    print(var)"
   ]
  },
  {
   "cell_type": "markdown",
   "metadata": {},
   "source": [
    "> **Creating a two-layer linear layer model made out of modules.**"
   ]
  },
  {
   "cell_type": "code",
   "execution_count": 6,
   "metadata": {},
   "outputs": [],
   "source": [
    "# Creating a dense layer\n",
    "class Dense(tf.Module):\n",
    "    def __init__(self, in_fea, out_fea,name=None):\n",
    "        super().__init__(name)\n",
    "        self.wei = tf.Variable(\n",
    "            tf.random.normal([in_fea, out_fea], name= 'weights')\n",
    "        )\n",
    "        self.bias = tf.Variable(\n",
    "            tf.zeros([out_fea], name='bias')\n",
    "        )\n",
    "\n",
    "    def __call__(self, x_ten):\n",
    "        # Computation: Y = Matrix multiplication (x & weights) plus the model bias\n",
    "        # Computation: tf.nn.relu(Y)\n",
    "        y = (x_ten @ self.wei) + self.bias\n",
    "        return tf.nn.relu(y)"
   ]
  },
  {
   "cell_type": "code",
   "execution_count": 7,
   "metadata": {},
   "outputs": [
    {
     "data": {
      "text/plain": [
       "array([[1.0707111 , 0.        ],\n",
       "       [0.        , 0.38128853],\n",
       "       [0.        , 1.5856438 ]], dtype=float32)"
      ]
     },
     "execution_count": 7,
     "metadata": {},
     "output_type": "execute_result"
    }
   ],
   "source": [
    "class Sequential(tf.Module):\n",
    "    def __init__(self, name=None):\n",
    "        super().__init__(name)\n",
    "        \n",
    "        self.dense1 = Dense(3, 3, 'InputLayer')\n",
    "        self.dense2 = Dense(3, 2, 'OutputLayer')\n",
    "        \n",
    "    def __call__(self, tx):\n",
    "        y = self.dense1(tx)\n",
    "        return self.dense2(y)\n",
    "\n",
    "my_model = Sequential('AI_Model')\n",
    "# Model acceptable shape [n x 3]\n",
    "my_model(tf.random.poisson([2, 3], 5.5)) \n",
    "my_model(tf.random.normal([3, 3], mean=17, stddev=3.5)).numpy()\n"
   ]
  },
  {
   "cell_type": "code",
   "execution_count": 8,
   "metadata": {},
   "outputs": [
    {
     "name": "stdout",
     "output_type": "stream",
     "text": [
      "<__main__.Dense object at 0x0000021292F171C0>\n",
      "<__main__.Dense object at 0x00000212E4A477C0>\n",
      "\n",
      "var: [0. 0. 0.]\n",
      "\n",
      "var: [[-1.774076    0.59840745  0.21302606]\n",
      " [-0.3786077  -1.1040999  -0.96917003]\n",
      " [ 3.1212523  -0.48174986  1.1038833 ]]\n",
      "\n",
      "var: [0. 0.]\n",
      "\n",
      "var: [[ 0.4495117 -0.306142 ]\n",
      " [ 1.7382188  1.2382319]\n",
      " [-1.3513367  0.6562064]]\n",
      "\n"
     ]
    }
   ],
   "source": [
    "# Printing Model submodules\n",
    "for mod in my_model.submodules:\n",
    "    print(mod)\n",
    "print()\n",
    "\n",
    "# Printing model Variables\n",
    "for var in  my_model.variables: \n",
    "    print(f'var: {var.numpy()}\\n')\n",
    "\n"
   ]
  },
  {
   "cell_type": "markdown",
   "metadata": {},
   "source": [
    "* ##### **Waiting to create variables**\n"
   ]
  },
  {
   "cell_type": "code",
   "execution_count": 9,
   "metadata": {},
   "outputs": [],
   "source": [
    "# The Input shape of the layers is dynamically inferered at the runtime by the size of the incoming tensor..\n",
    "class dyn_Layer(tf.Module):\n",
    "    def __init__(self, outCh, name=None):\n",
    "        super().__init__(name)\n",
    "        self.is_built = False \n",
    "        self.out_channels = outCh\n",
    "    \n",
    "    @tf.function\n",
    "    def __call__(self, tx):\n",
    "        if not self.is_built:\n",
    "            self.is_built = True\n",
    "            self.wei = tf.Variable(\n",
    "                tf.random.normal([tx.shape[-1], self.out_channels]), name='Weights'\n",
    "            )\n",
    "            self.bias = tf.Variable(\n",
    "                tf.zeros([self.out_channels], name='bias')\n",
    "            )\n",
    "        y = tx @ self.wei + self.bias\n",
    "        return tf.nn.relu(y)\n",
    "\n",
    "class dyn_SeqModel(tf.Module):\n",
    "    def __init__(self, name=None):\n",
    "        super().__init__(name)\n",
    "        self.dense1 = dyn_Layer(12, 'Input_Layer')\n",
    "        self.dense2 = dyn_Layer(3, 'Output_Layer')\n",
    "        \n",
    "    @tf.function\n",
    "    def __call__(self, tx):\n",
    "        tx = self.dense1(tx)\n",
    "        return self.dense2(tx)"
   ]
  },
  {
   "cell_type": "code",
   "execution_count": 10,
   "metadata": {},
   "outputs": [
    {
     "name": "stdout",
     "output_type": "stream",
     "text": [
      "InChanels for this Model 11\n",
      "tf.Tensor(\n",
      "[[  0.        0.      235.57759]\n",
      " [  0.        0.      187.48181]\n",
      " [  0.        0.      281.76666]\n",
      " [  0.        0.      227.95454]\n",
      " [  0.        0.      257.15887]\n",
      " [  0.        0.      228.90312]], shape=(6, 3), dtype=float32)\n",
      "InChanels for this Model 15\n",
      "tf.Tensor(\n",
      "[[ 81.58479   48.32749  365.38065 ]\n",
      " [ 86.1093    20.791538 321.01498 ]\n",
      " [ 62.526337  35.49463  291.2561  ]\n",
      " [ 75.085625  47.113598 351.09882 ]\n",
      " [ 80.2058     0.       260.7804  ]\n",
      " [ 82.53196    8.104778 360.18277 ]], shape=(6, 3), dtype=float32)\n",
      "InChanels for this Model 4\n",
      "tf.Tensor(\n",
      "[[  0.       165.62148   44.378143]\n",
      " [  0.       158.35931   17.842419]\n",
      " [  0.       168.06741   19.492168]\n",
      " [  0.       129.34972    0.      ]\n",
      " [  0.       171.94539   39.930893]\n",
      " [  0.       138.28317    0.      ]], shape=(6, 3), dtype=float32)\n",
      "InChanels for this Model 1\n",
      "tf.Tensor(\n",
      "[[ 38.845837    0.         98.548706 ]\n",
      " [143.84264     0.        113.61571  ]\n",
      " [ 25.82536    12.375169   83.284775 ]\n",
      " [ 37.89099     1.3770714  98.919044 ]\n",
      " [ 34.397804   27.921349  117.14052  ]\n",
      " [ 60.9915      0.        114.88136  ]], shape=(6, 3), dtype=float32)\n",
      "InChanels for this Model 11\n",
      "WARNING:tensorflow:5 out of the last 5 calls to <function dyn_SeqModel.__call__ at 0x00000212E3D75F70> triggered tf.function retracing. Tracing is expensive and the excessive number of tracings could be due to (1) creating @tf.function repeatedly in a loop, (2) passing tensors with different shapes, (3) passing Python objects instead of tensors. For (1), please define your @tf.function outside of the loop. For (2), @tf.function has experimental_relax_shapes=True option that relaxes argument shapes that can avoid unnecessary retracing. For (3), please refer to https://www.tensorflow.org/guide/function#controlling_retracing and https://www.tensorflow.org/api_docs/python/tf/function for  more details.\n",
      "tf.Tensor(\n",
      "[[51.704075 60.43554   0.      ]\n",
      " [52.899715 67.97682   0.      ]\n",
      " [16.239504 55.727684  0.      ]\n",
      " [33.921284 60.359394  0.      ]\n",
      " [46.161587 67.672035  0.      ]\n",
      " [45.653305 70.6726    0.      ]], shape=(6, 3), dtype=float32)\n",
      "InChanels for this Model 3\n",
      "WARNING:tensorflow:6 out of the last 6 calls to <function dyn_SeqModel.__call__ at 0x00000212E3D75F70> triggered tf.function retracing. Tracing is expensive and the excessive number of tracings could be due to (1) creating @tf.function repeatedly in a loop, (2) passing tensors with different shapes, (3) passing Python objects instead of tensors. For (1), please define your @tf.function outside of the loop. For (2), @tf.function has experimental_relax_shapes=True option that relaxes argument shapes that can avoid unnecessary retracing. For (3), please refer to https://www.tensorflow.org/guide/function#controlling_retracing and https://www.tensorflow.org/api_docs/python/tf/function for  more details.\n",
      "tf.Tensor(\n",
      "[[11.462547  0.       52.433544]\n",
      " [42.790947  0.       33.118923]\n",
      " [28.168896  0.       75.70177 ]\n",
      " [15.937136  0.       72.01935 ]\n",
      " [15.692219  0.       38.212917]\n",
      " [59.76256   0.       45.876793]], shape=(6, 3), dtype=float32)\n",
      "InChanels for this Model 12\n",
      "tf.Tensor(\n",
      "[[ 31.119526   0.         9.059708]\n",
      " [110.8542     0.        27.977295]\n",
      " [ 88.05832    0.         0.      ]\n",
      " [  9.124117   0.        77.55743 ]\n",
      " [ 52.647476   0.         0.      ]\n",
      " [ 31.808712   0.         0.      ]], shape=(6, 3), dtype=float32)\n",
      "InChanels for this Model 2\n",
      "tf.Tensor(\n",
      "[[0. 0. 0.]\n",
      " [0. 0. 0.]\n",
      " [0. 0. 0.]\n",
      " [0. 0. 0.]\n",
      " [0. 0. 0.]\n",
      " [0. 0. 0.]], shape=(6, 3), dtype=float32)\n",
      "InChanels for this Model 10\n",
      "tf.Tensor(\n",
      "[[  0.        200.65608   203.06161  ]\n",
      " [  0.        199.43857   209.10948  ]\n",
      " [  0.        148.23625   163.80687  ]\n",
      " [  0.        174.70026   149.97931  ]\n",
      " [  0.        207.42181   216.52924  ]\n",
      " [  7.1828384 185.2204    203.97073  ]], shape=(6, 3), dtype=float32)\n",
      "InChanels for this Model 13\n",
      "tf.Tensor(\n",
      "[[0.         0.         0.        ]\n",
      " [0.78588104 0.         0.        ]\n",
      " [0.         0.         0.        ]\n",
      " [0.         0.         0.        ]\n",
      " [0.         0.         0.        ]\n",
      " [0.         0.         0.        ]], shape=(6, 3), dtype=float32)\n"
     ]
    }
   ],
   "source": [
    "# Calling the dynamic model on different sets of inputs\n",
    "for i in range(10):\n",
    "    in_chs = ra.randint(1,15)\n",
    "    print('InChanels for this Model', in_chs)\n",
    "    model = dyn_SeqModel('AdaptiveModel')\n",
    "    tx = tf.random.uniform([6, 6], minval=16, maxval=32)\n",
    "    print(model(tx))\n",
    "\n",
    "# Our model is working...\n",
    "\n"
   ]
  },
  {
   "cell_type": "markdown",
   "metadata": {},
   "source": [
    "### **Saving Weights**"
   ]
  },
  {
   "cell_type": "code",
   "execution_count": 11,
   "metadata": {},
   "outputs": [
    {
     "name": "stdout",
     "output_type": "stream",
     "text": [
      "Previous Model results:\n",
      " [[0.         0.         0.        ]\n",
      " [0.78588104 0.         0.        ]\n",
      " [0.         0.         0.        ]\n",
      " [0.         0.         0.        ]\n",
      " [0.         0.         0.        ]\n",
      " [0.         0.         0.        ]]\n",
      "\n",
      "New Model result after restoring weights:\n",
      " [[0.         0.         0.        ]\n",
      " [0.78588104 0.         0.        ]\n",
      " [0.         0.         0.        ]\n",
      " [0.         0.         0.        ]\n",
      " [0.         0.         0.        ]\n",
      " [0.         0.         0.        ]]\n",
      "It worked\n"
     ]
    }
   ],
   "source": [
    "# Create a dir to save weights\n",
    "chk_path = 'Weights_checkpoint'\n",
    "checkpoint = tf.train.Checkpoint(model=model)\n",
    "\n",
    "# Using this Command, the weights are stored into the file.\n",
    "checkpoint.write(chk_path)\n",
    "tf.train.list_variables(chk_path)\n",
    "\n",
    "# Creating a new Model and assigning the `SAME WEIGHTS`\n",
    "new_mod = dyn_SeqModel('Dynamic_Seq2')\n",
    "checkpoint2 = tf.train.Checkpoint(model=new_mod)\n",
    "\n",
    "# Reloading the previous weights\n",
    "checkpoint2.restore('Weights_checkpoint')\n",
    "\n",
    "# Testing the new Model on previous input, should be able to produce same output\n",
    "print(f'Previous Model results:\\n {model(tx).numpy()}\\n')\n",
    "print(f'New Model result after restoring weights:\\n {new_mod(tx).numpy()}')\n",
    "\n",
    "print(\"It worked\")\n"
   ]
  },
  {
   "cell_type": "markdown",
   "metadata": {},
   "source": [
    "### **Saving Functions + Visualization using Tensorboard**"
   ]
  },
  {
   "cell_type": "code",
   "execution_count": 12,
   "metadata": {},
   "outputs": [
    {
     "name": "stdout",
     "output_type": "stream",
     "text": [
      "tf.Tensor(\n",
      "[[ 81.25644    0.         0.      ]\n",
      " [ 16.028282   0.         0.      ]\n",
      " [ 83.058716   0.         0.      ]\n",
      " [130.58557    0.         0.      ]], shape=(4, 3), dtype=float32)\n"
     ]
    }
   ],
   "source": [
    "# setting up logging\n",
    "timest = datetime.now().strftime(\"%Y%m%d-%H%M%S\")\n",
    "logs_dir = 'logs/func/%s' % timest\n",
    "writer = tf.summary.create_file_writer(logs_dir)\n",
    "\n",
    "# Create new model to get fresh trace\n",
    "SeqModel = dyn_SeqModel('Traced_Model')\n",
    "tf.summary.trace_on(graph= True)\n",
    "tf.profiler.experimental.start(logs_dir)\n",
    "\n",
    "# Only call one tf.function while tracing\n",
    "print(SeqModel(tf.random.uniform(shape=[4, 9], minval= 50, maxval= 70)))\n",
    "\n",
    "with writer.as_default():\n",
    "    tf.summary.trace_export(\n",
    "        name= 'Function Trace',\n",
    "        step= 0,\n",
    "        profiler_outdir= logs_dir\n",
    "    )"
   ]
  },
  {
   "cell_type": "markdown",
   "metadata": {},
   "source": [
    "> **Starting Tensorboard to visualize tracing results**"
   ]
  },
  {
   "cell_type": "code",
   "execution_count": 13,
   "metadata": {},
   "outputs": [
    {
     "name": "stderr",
     "output_type": "stream",
     "text": [
      "UsageError: Line magic function `%tensorboard` not found.\n"
     ]
    }
   ],
   "source": [
    "%tensorboard --logs/func\n",
    "\n",
    "# Masha-Allah it worked"
   ]
  },
  {
   "cell_type": "markdown",
   "metadata": {},
   "source": [
    "* ##### **Creating a saved Model**\n",
    "> The recommended way of sharing completely trained models is to use SavedModel. SavedModel contains both a collection of functions and a collection of weights."
   ]
  },
  {
   "cell_type": "code",
   "execution_count": 14,
   "metadata": {},
   "outputs": [
    {
     "name": "stdout",
     "output_type": "stream",
     "text": [
      "INFO:tensorflow:Assets written to: SavedModel\\assets\n"
     ]
    },
    {
     "data": {
      "text/plain": [
       "False"
      ]
     },
     "execution_count": 14,
     "metadata": {},
     "output_type": "execute_result"
    }
   ],
   "source": [
    "# Saving the Model.. A separate directory is created to store the saved Model \n",
    "tf.saved_model.save(SeqModel, 'SavedModel')\n",
    "\n",
    "# Reloading the saved Model. It is in Graph format with no knowledge of internal TensorFlow code.\n",
    "SeqMod2 = tf.saved_model.load('SavedModel')\n",
    "\n",
    "# Checking if the loaded model is an object of Sequential class \n",
    "isinstance(SeqMod2, dyn_SeqModel)\n"
   ]
  },
  {
   "cell_type": "markdown",
   "metadata": {},
   "source": [
    "> **The new model can only work with `pre-defined signatures` (input shape && data-type). It `cannot` be altered to perform on new signatures like Python Code.**"
   ]
  },
  {
   "cell_type": "code",
   "execution_count": 15,
   "metadata": {},
   "outputs": [
    {
     "name": "stdout",
     "output_type": "stream",
     "text": [
      "tf.Tensor(\n",
      "[[19.372972 24.694708 23.173527 18.843626 26.308035 31.051912]\n",
      " [18.846718 28.704638 18.931368 27.646376 24.772425 25.513197]\n",
      " [19.655659 24.778566 30.359911 17.207092 21.801762 18.40712 ]\n",
      " [26.617722 29.929058 22.761803 27.37734  22.628262 22.63971 ]\n",
      " [30.373575 24.196802 26.882948 27.649286 19.97745  30.08856 ]\n",
      " [16.944263 23.143307 20.68682  25.31832  29.440924 24.941862]], shape=(6, 6), dtype=float32)\n",
      "[[4.6377244  0.         0.        ]\n",
      " [3.25116    0.         0.        ]\n",
      " [1.2656194  0.         0.        ]\n",
      " [5.615899   0.         0.13157356]]\n",
      "Error Raised due to incompatible input signature!!\n",
      "\n"
     ]
    }
   ],
   "source": [
    "try:\n",
    "    print(tx)\n",
    "    # Sending in a known signature\n",
    "    print(SeqMod2(tf.random.uniform([4,9])).numpy())\n",
    "    \n",
    "    # Sending an unknown argument\n",
    "    print(SeqMod2(tf.constant(1.0)))\n",
    "    \n",
    "except:\n",
    "    print(\"Error Raised due to incompatible input signature!!\\n\")\n"
   ]
  },
  {
   "cell_type": "markdown",
   "metadata": {},
   "source": [
    "### **Keras Models and Layers**"
   ]
  },
  {
   "cell_type": "markdown",
   "metadata": {},
   "source": [
    "* ##### **Keras Layers**\n",
    "> **Keras Layers as based on TF.Module. One can easily swap out TF.Module with Keras.layers.Layer**"
   ]
  },
  {
   "cell_type": "code",
   "execution_count": 16,
   "metadata": {},
   "outputs": [
    {
     "data": {
      "text/plain": [
       "<tf.Tensor: shape=(3, 5), dtype=float32, numpy=\n",
       "array([[ 0.      ,  0.      ,  0.      , 42.338474,  0.      ],\n",
       "       [ 0.      ,  0.      ,  0.      , 27.794685,  0.      ],\n",
       "       [ 0.      ,  0.      ,  0.      , 43.56392 ,  0.      ]],\n",
       "      dtype=float32)>"
      ]
     },
     "execution_count": 16,
     "metadata": {},
     "output_type": "execute_result"
    }
   ],
   "source": [
    "class KerasDense(tf.keras.layers.Layer):\n",
    "    # In_features defines the number of rows for the Layer_Weights Matrix \n",
    "    # Out_features determines the number of columns for the Weights Matrix\n",
    "    def __init__(self, in_features, out_features, **args):\n",
    "        super().__init__(**args)\n",
    "        self.w = tf.Variable(\n",
    "            tf.random.normal([in_features, out_features], name='Lyr_Weights')\n",
    "        )\n",
    "        # Here we are setting the model bias to zero (will try with identity matrix soon)..\n",
    "        self.b = tf.Variable(\n",
    "            tf.zeros([out_features], name='Lyr_Bias')\n",
    "        )\n",
    "    @tf.function\n",
    "    def call(self, ten_x):\n",
    "        return tf.nn.relu((ten_x @ self.w) + self.b)\n",
    "\n",
    "\n",
    "denselayer = KerasDense(6, 5, name=\"Simple_Layer\")\n",
    "denselayer(tf.random.uniform([3, 6], minval=10, maxval=20))"
   ]
  },
  {
   "cell_type": "markdown",
   "metadata": {},
   "source": [
    "* ##### **The build step**\n"
   ]
  },
  {
   "cell_type": "code",
   "execution_count": 25,
   "metadata": {},
   "outputs": [
    {
     "name": "stdout",
     "output_type": "stream",
     "text": [
      "Printing Variables:  []\n",
      "Input_features: 4\n",
      "tf.Tensor(\n",
      "[[0.99878025 0.99550277 0.96360517 0.00484243]\n",
      " [0.96552706 0.99653614 0.9768597  0.00450647]\n",
      " [0.93478215 0.8688572  0.99999976 0.23803753]], shape=(3, 4), dtype=float32)\n",
      "highest Probability tensor: 10\n"
     ]
    }
   ],
   "source": [
    "# Adding the build function to out Keras based Layer\n",
    "# Called exactly once.\n",
    "# Used to adapt Variables to the input shape\n",
    "\n",
    "class dyn_KerasDense(tf.keras.layers.Layer):\n",
    "    def __init__(self, out_chs, **kwargs):\n",
    "        # in the constructor, only call \n",
    "        # the parent constructor and \n",
    "        # define the output-channels\n",
    "        super().__init__(**kwargs)\n",
    "        self.out_features = out_chs\n",
    "        \n",
    "    def build(self, in_shape):\n",
    "        print(f'Input_features: {in_shape[-1]}')\n",
    "        self.w = tf.Variable(\n",
    "            tf.random.normal([in_shape[-1], self.out_features]), \n",
    "            name='Lyr_Weights'\n",
    "        )\n",
    "        self.b = tf.Variable(\n",
    "            tf.zeros([self.out_features]), \n",
    "            name='Lyr_bias'\n",
    "        )\n",
    "    \n",
    "    def call(self, ten_x):\n",
    "        y = (ten_x @ self.w) + self.b\n",
    "        return tf.nn.sigmoid(y)\n",
    "    \n",
    "# Instantiating a flexible layer\n",
    "flexible_dense = dyn_KerasDense(out_chs= 4)\n",
    "# Checking variables to ensure none have been initialized by now \n",
    "print(\"Printing Variables: \",flexible_dense.variables)\n",
    "\n",
    "# Call the layer and recheck the variables\n",
    "# Calling the layer implicitly calls build method\n",
    "# which adapts the Layer to the incoming input_shape \n",
    "\n",
    "# For incoming tensor (m x n) && weights Matrix (in_F x out_F)\n",
    "# Expected Output shape (m x out_features)\n",
    "tx = tf.constant(\n",
    "    [\n",
    "        [2., 3., 4., 7.],\n",
    "        [8., 6., 3., 5.],\n",
    "        [5., 2., 7., 1.]\n",
    "    ]\n",
    ")\n",
    "\n",
    "output_ten = flexible_dense(tx)\n",
    "print(output_ten)\n",
    "highest_prob = np.argmax(output_ten)\n",
    "print(f'highest Probability tensor: {highest_prob}')"
   ]
  },
  {
   "cell_type": "markdown",
   "metadata": {},
   "source": [
    "* ##### **Keras Models**\n"
   ]
  },
  {
   "cell_type": "markdown",
   "metadata": {},
   "source": [
    "### **Saving Keras Model**"
   ]
  },
  {
   "cell_type": "markdown",
   "metadata": {},
   "source": [
    "### **`Sonnet`: Alternate deep-learning API for building ML Models**\n",
    "> **By DeepMind,**\n",
    "> **Based on tf.Module**"
   ]
  }
 ],
 "metadata": {
  "interpreter": {
   "hash": "445be380edc556d8a8859931574c9be2b357dc49fbb96280944087ec4ff5e718"
  },
  "kernelspec": {
   "display_name": "Python 3.8.11 64-bit ('OCR': conda)",
   "language": "python",
   "name": "python3"
  },
  "language_info": {
   "codemirror_mode": {
    "name": "ipython",
    "version": 3
   },
   "file_extension": ".py",
   "mimetype": "text/x-python",
   "name": "python",
   "nbconvert_exporter": "python",
   "pygments_lexer": "ipython3",
   "version": "3.8.11"
  },
  "orig_nbformat": 4
 },
 "nbformat": 4,
 "nbformat_minor": 2
}
