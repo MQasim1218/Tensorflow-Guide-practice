{
 "cells": [
  {
   "cell_type": "markdown",
   "metadata": {},
   "source": [
    "# **AutoDiff**\n",
    "Automatic differentiation is useful for implementing machine learning algorithms such as backpropagation for training neural networks."
   ]
  },
  {
   "cell_type": "markdown",
   "metadata": {},
   "source": [
    "#### **Setup**"
   ]
  },
  {
   "cell_type": "code",
   "execution_count": 3,
   "metadata": {},
   "outputs": [],
   "source": [
    "import tensorflow as tf\n",
    "import numpy as np\n",
    "import matplotlib.pyplot as pl"
   ]
  },
  {
   "cell_type": "markdown",
   "metadata": {},
   "source": [
    "#### **Computing Gradients**\n",
    "TensorFlow uses GradientTape function to compute the Gradients (loss fn, other values)"
   ]
  },
  {
   "cell_type": "markdown",
   "metadata": {},
   "source": [
    "#### **Gradient Tapes**"
   ]
  },
  {
   "cell_type": "code",
   "execution_count": 24,
   "metadata": {},
   "outputs": [
    {
     "data": {
      "text/plain": [
       "6.0"
      ]
     },
     "execution_count": 24,
     "metadata": {},
     "output_type": "execute_result"
    }
   ],
   "source": [
    "# Define a function for comoutation\n",
    "def fn(x_ten):\n",
    "    return x_ten**2\n",
    "\n",
    "x = tf.Variable(3.0)\n",
    "\n",
    "with tf.GradientTape() as tape:\n",
    "    # Use defined function to transform the input.\n",
    "    y = fn(x)\n",
    "\n",
    "# Use GradientTape() to compute gradient... \n",
    "tape.gradient(y, x).numpy()"
   ]
  },
  {
   "cell_type": "code",
   "execution_count": null,
   "metadata": {},
   "outputs": [],
   "source": [
    "### Gradients with nd-Variables\n",
    "v1 = tf.Variable(tf.random.normal([3,3], 3, 9,seed= 3, name= 'var1'))\n",
    "v2 = tf.Variable(tf.eye(3), name='var2')\n",
    "\n",
    "w = [[1. ,2. ,3. ]]\n",
    "\n",
    "# Recording operations onto `tape`\n",
    "with tf.GradientTape() as tape:\n",
    "    y = v1 * w + v2\n",
    "    loss = tf.reduce_mean(y**2)\n",
    "    \n",
    "# Computing gradients w.r.t...\n"
   ]
  },
  {
   "cell_type": "markdown",
   "metadata": {},
   "source": [
    "> **Using a dictionary of Variables with the same tape as above**"
   ]
  },
  {
   "cell_type": "code",
   "execution_count": null,
   "metadata": {},
   "outputs": [],
   "source": [
    "(dl_dv1, dl_dv2) = tape.gradient(loss, [v1, v2])\n",
    "  \n",
    "# np.argsort organizes the index bsaed on the sorted order of the tensor.\n",
    "np.argsort(tf.nn.softmax(dl_dv1.numpy()))\n",
    "dl_dv2.numpy()\n",
    "\n"
   ]
  },
  {
   "cell_type": "code",
   "execution_count": 42,
   "metadata": {},
   "outputs": [
    {
     "name": "stdout",
     "output_type": "stream",
     "text": [
      "{'dl_dw': <tf.Tensor: shape=(3, 3), dtype=float32, numpy=\n",
      "array([[  0.5811825 , -10.723121  ,   6.628027  ],\n",
      "       [  2.0538814 ,   8.9651165 ,  38.633232  ],\n",
      "       [  3.0487926 ,   0.34223557, -26.612106  ]], dtype=float32)>, 'dl_db': <tf.Tensor: shape=(3, 3), dtype=float32, numpy=\n",
      "array([[ 0.5811825 , -5.3615603 ,  2.2093422 ],\n",
      "       [ 2.0538814 ,  4.4825583 , 12.877744  ],\n",
      "       [ 3.0487926 ,  0.17111778, -8.870702  ]], dtype=float32)>}\n"
     ]
    },
    {
     "data": {
      "text/plain": [
       "<tf.Tensor: shape=(3, 3), dtype=float32, numpy=\n",
       "array([[ 0.5811825 , -5.3615603 ,  2.2093422 ],\n",
       "       [ 2.0538814 ,  4.4825583 , 12.877744  ],\n",
       "       [ 3.0487926 ,  0.17111778, -8.870702  ]], dtype=float32)>"
      ]
     },
     "execution_count": 42,
     "metadata": {},
     "output_type": "execute_result"
    }
   ],
   "source": [
    "my_vars = {\n",
    "    'dl_dw': v1,\n",
    "    'dl_db': v2\n",
    "}\n",
    "\n",
    "grad = tape.gradient(loss, my_vars)\n",
    "\n",
    "for i in grad:\n",
    "    print(f'The name of the tensor-Variable is: {i}')\n",
    "    print(grad[i].numpy())\n",
    "    print()\n",
    "\n",
    "np.argsort(tf.nn.softmax(grad['dl_db']).numpy())\n",
    "\n",
    "# We discovered a new problem here...  \n",
    "# If this problem occurs \n",
    "# 'A non-persistent GradientTape can only be used to compute one set of gradients (or jacobians)'\n",
    "# It means the tape has previously been used to compute the gradients, thus it can not be reused.\n",
    "\n",
    "\n"
   ]
  },
  {
   "cell_type": "markdown",
   "metadata": {},
   "source": [
    "#### **Model Gradients**"
   ]
  },
  {
   "cell_type": "code",
   "execution_count": 79,
   "metadata": {},
   "outputs": [
    {
     "data": {
      "text/plain": [
       "8"
      ]
     },
     "execution_count": 79,
     "metadata": {},
     "output_type": "execute_result"
    }
   ],
   "source": [
    "import tensorflow.keras.layers as lyrs\n",
    "import tensorflow.keras.activations as act\n",
    "\n",
    "D_layer = lyrs.Dense(32, activation= act.relu)\n",
    "x_ten = tf.cast(tf.linspace([1,5], [10, -4], 10), tf.float16)\n",
    "x_ten\n",
    "\n",
    "with tf.GradientTape() as tape2:\n",
    "    y = D_layer(x_ten)\n",
    "    loss = tf.reduce_mean(y ** 2)\n",
    "# Computing the gradient    \n",
    "grad = tape2.gradient(loss, D_layer.trainable_variables)\n",
    "\n",
    "# Displaying the Output\n",
    "tf.nn.softmax(grad[0]).numpy()\n",
    "np.argmax(tf.nn.softmax(grad[0]).numpy())\n"
   ]
  },
  {
   "cell_type": "code",
   "execution_count": 80,
   "metadata": {},
   "outputs": [
    {
     "name": "stdout",
     "output_type": "stream",
     "text": [
      "dense_23/kernel:0, shape: (2, 32)\n",
      "dense_23/bias:0, shape: (32,)\n"
     ]
    }
   ],
   "source": [
    "for var, g in zip(D_layer.trainable_variables, grad):\n",
    "  print(f'{var.name}, shape: {g.shape}')\n"
   ]
  },
  {
   "cell_type": "markdown",
   "metadata": {},
   "source": [
    "#### **Controlling what the tape watches**\n",
    "> The default behavior is to record all operations after accessing a **`trainable tf.Variable`**.\n",
    "\n",
    "> Tape cannot compute gradients for tesnors as thet're immutables"
   ]
  },
  {
   "cell_type": "code",
   "execution_count": 86,
   "metadata": {},
   "outputs": [
    {
     "name": "stdout",
     "output_type": "stream",
     "text": [
      "tf.Tensor(6.0, shape=(), dtype=float32)\n",
      "None\n",
      "None\n",
      "None\n"
     ]
    }
   ],
   "source": [
    "# The only trainable Variable\n",
    "var1 = tf.Variable(3.0)\n",
    "# Non-trainanle\n",
    "var2 = tf.Variable(5.0, trainable= False)\n",
    "\n",
    "# A constant tensor (no grads for tensors)\n",
    "ten1 = tf.constant(5.0)\n",
    "# Variable + constant = constant, thus below is also a tensor\n",
    "ten2 = tf.Variable(10.0) + 3.0\n",
    "\n",
    "with tf.GradientTape() as tape3:\n",
    "    y = (var1**2) + (var2**2) + (ten1**2) + ten2\n",
    "\n",
    "grads = tape3.gradient(y, [var1, var2, ten1, ten2])\n",
    "\n",
    "for gr in grads:\n",
    "    print(gr)\n"
   ]
  },
  {
   "cell_type": "markdown",
   "metadata": {},
   "source": [
    "List Variables watched by the tape"
   ]
  },
  {
   "cell_type": "code",
   "execution_count": 93,
   "metadata": {},
   "outputs": [
    {
     "name": "stdout",
     "output_type": "stream",
     "text": [
      "[<tf.Variable 'Variable:0' shape=() dtype=float32, numpy=3.0>]\n"
     ]
    },
    {
     "data": {
      "text/plain": [
       "['Variable:0']"
      ]
     },
     "execution_count": 93,
     "metadata": {},
     "output_type": "execute_result"
    }
   ],
   "source": [
    "print([var for var in tape3.watched_variables()])\n",
    "[var.name for var in tape3.watched_variables()]\n"
   ]
  },
  {
   "cell_type": "markdown",
   "metadata": {},
   "source": [
    "> **To record gradients with respect to a tf.Tensor, you need to call `GradientTape.watch(x)`**"
   ]
  },
  {
   "cell_type": "code",
   "execution_count": 120,
   "metadata": {},
   "outputs": [
    {
     "name": "stdout",
     "output_type": "stream",
     "text": [
      "tf.Tensor(\n",
      "[[842.26544 154.64954 706.1339 ]\n",
      " [926.0429  298.74033 326.2389 ]\n",
      " [845.9513  426.66037 588.9402 ]], shape=(3, 3), dtype=float32)\n",
      "tf.Tensor(\n",
      "[[1. 0. 0.]\n",
      " [1. 0. 0.]\n",
      " [1. 0. 0.]], shape=(3, 3), dtype=float32)\n",
      "0\n"
     ]
    }
   ],
   "source": [
    "rten = tf.random.uniform([3, 3], 0, 20, seed= 3)\n",
    "\n",
    "tf.transpose(rten)\n",
    "\n",
    "with tf.GradientTape() as ten_tape:\n",
    "    ten_tape.watch(rten)\n",
    "    y = rten @ (tf.transpose(rten) *  tf.random.normal([3, 3], 10, 5))\n",
    "\n",
    "dy_dx = ten_tape.gradient(y, rten)\n",
    "print(dy_dx)\n",
    "print(tf.nn.softmax(dy_dx))\n",
    "print(np.argmax(tf.nn.softmax(dy_dx)))\n"
   ]
  },
  {
   "cell_type": "markdown",
   "metadata": {},
   "source": [
    "> **To disable default behaviuor of Gradient-Tape, use `watch_accessed_variables=False` paramater**"
   ]
  },
  {
   "cell_type": "code",
   "execution_count": 134,
   "metadata": {},
   "outputs": [
    {
     "name": "stdout",
     "output_type": "stream",
     "text": [
      "Printing Gradients for each variable\n",
      "Variable1\n",
      "None\n",
      "\n",
      "Variable2\n",
      "tf.Tensor(43.4, shape=(), dtype=float32)\n",
      "\n",
      "[<tf.Variable 'var2:0' shape=() dtype=float32, numpy=21.7>]\n",
      "This shows that only var2 is being watched\n"
     ]
    }
   ],
   "source": [
    "v1 = tf.Variable(31.4, name= 'var1')\n",
    "v2 = tf.Variable(21.7, name= 'var2')\n",
    "\n",
    "with tf.GradientTape(watch_accessed_variables= False) as gt:\n",
    "    gt.watch(v2)\n",
    "    y = v1**2 + v2**2\n",
    "\n",
    "vars = {\n",
    "    'Variable1' : v1,\n",
    "    'Variable2' : v2\n",
    "}\n",
    "\n",
    "grz = gt.gradient(y, vars)\n",
    "\n",
    "print(\"Printing Gradients for each variable\")\n",
    "for gr in grz:\n",
    "    print(gr)\n",
    "    print(grz[gr])\n",
    "    print()\n",
    "\n",
    "\n",
    "# Printing all watched variables\n",
    "print([var for var in gt.watched_variables()])\n",
    "print(\"This shows that only var2 is being watched\")"
   ]
  },
  {
   "cell_type": "markdown",
   "metadata": {},
   "source": [
    "#### **Intermediate Results**"
   ]
  },
  {
   "cell_type": "code",
   "execution_count": 4,
   "metadata": {},
   "outputs": [
    {
     "data": {
      "text/plain": [
       "array([1. , 3.2, 5.4], dtype=float32)"
      ]
     },
     "execution_count": 4,
     "metadata": {},
     "output_type": "execute_result"
    }
   ],
   "source": [
    "xten = tf.constant([1, 3.2, 5.4])\n",
    "\n",
    "with tf.GradientTape() as gt:\n",
    "    gt.watch(xten)\n",
    "    y = xten ** 2\n",
    "    z = y * xten\n",
    "\n",
    "gt.gradient(z, y).numpy() "
   ]
  },
  {
   "cell_type": "code",
   "execution_count": 26,
   "metadata": {},
   "outputs": [
    {
     "name": "stdout",
     "output_type": "stream",
     "text": [
      "This is the main array\n",
      " [[[ 5.5       9.458824]\n",
      "  [13.417647 17.37647 ]\n",
      "  [21.335295 25.294119]]\n",
      "\n",
      " [[29.252941 33.211765]\n",
      "  [37.17059  41.129414]\n",
      "  [45.088238 49.047062]]\n",
      "\n",
      " [[53.005882 56.964706]\n",
      "  [60.92353  64.882355]\n",
      "  [68.84118  72.8     ]]]\n",
      "\n",
      "[[[-5.39861    5.39861  ]\n",
      "  [ 9.724726  -9.724726 ]\n",
      "  [ 7.136075  -7.136075 ]]\n",
      "\n",
      " [[-3.386214   3.3862143]\n",
      "  [ 1.8387884 -1.8387884]\n",
      "  [ 0.5631099 -0.5631094]]\n",
      "\n",
      " [[-3.006029   3.0060282]\n",
      "  [ 5.3085713 -5.3085713]\n",
      "  [ 8.977145  -8.977145 ]]]\n",
      "\n",
      "[[[ 0.0000000e+00 -2.8246850e-01]\n",
      "  [-0.0000000e+00  6.2194556e-02]\n",
      "  [-0.0000000e+00 -6.5302171e-02]]\n",
      "\n",
      " [[ 0.0000000e+00 -2.8457141e-01]\n",
      "  [-2.1457661e-06 -4.3686420e-02]\n",
      "  [-2.6601760e-02 -2.7351511e-01]]\n",
      "\n",
      " [[ 0.0000000e+00  2.9256722e-01]\n",
      "  [-0.0000000e+00  2.7639383e-01]\n",
      "  [-0.0000000e+00  2.7315727e-02]]]\n",
      "\n",
      "[[[ 0.04064255 -0.0406425 ]\n",
      "  [ 0.0019184  -0.0019184 ]\n",
      "  [ 0.00211517 -0.00211518]]\n",
      "\n",
      " [[ 0.0412682  -0.04126835]\n",
      "  [ 0.0009419  -0.0009419 ]\n",
      "  [ 0.01935778 -0.01935792]]\n",
      "\n",
      " [[ 0.04369489 -0.04369497]\n",
      "  [ 0.03886445 -0.03886461]\n",
      "  [ 0.00036966 -0.00036966]]]\n"
     ]
    }
   ],
   "source": [
    "ten1 = tf.cast(tf.linspace(5.5, 72.8, 18), tf.float32)\n",
    "ten1 = tf.reshape(ten1, shape=(3,3 , -1))\n",
    "print(\"This is the main array\\n\", ten1.numpy())\n",
    "\n",
    "def f(x):\n",
    "    return tf.nn.log_softmax(x) * 1.5 * tf.random.normal(shape=[3,3,2], mean=0, stddev= 5)\n",
    "\n",
    "def g(x):\n",
    "    return tf.tanh(x) ** 2\n",
    "\n",
    "with tf.GradientTape(persistent= True) as tx:\n",
    "    tx.watch(ten1)\n",
    "    y1 = f(ten1)\n",
    "    y2 = g(y1)\n",
    "\n",
    "print()    \n",
    "print(tx.gradient(y1, ten1).numpy())\n",
    "print()\n",
    "\n",
    "print()\n",
    "print(tx.gradient(y2, y1).numpy())\n",
    "\n",
    "print()\n",
    "print(tx.gradient(y2, ten1).numpy())\n"
   ]
  },
  {
   "cell_type": "markdown",
   "metadata": {},
   "source": [
    "#### **Note on Performance**"
   ]
  },
  {
   "cell_type": "code",
   "execution_count": null,
   "metadata": {},
   "outputs": [],
   "source": [
    "## There is a tiny overhead associated with doing operations inside a gradient tape context. \n",
    "#  For most eager execution this will not be a noticeable cost, but you should still use \n",
    "#  tape context around the areas only where it is required.\n",
    "\n",
    "## Gradient tapes use memory to store intermediate results, including inputs and outputs, \n",
    "#  for use during the backwards pass.\n",
    "\n"
   ]
  },
  {
   "cell_type": "markdown",
   "metadata": {},
   "source": [
    "#### **Gradients of non-scalar targets**\n",
    "> **MultiGradients**"
   ]
  },
  {
   "cell_type": "code",
   "execution_count": 16,
   "metadata": {},
   "outputs": [
    {
     "name": "stdout",
     "output_type": "stream",
     "text": [
      "Gradient(dy1_dx): [ 2.  8. 18.]\n",
      "Gradient(dy2_dx): [-2.         -0.03125    -0.00274348]\n",
      "Composite Gradients\n"
     ]
    }
   ],
   "source": [
    "x = tf.constant([1., 4., 9.])\n",
    "\n",
    "with tf.GradientTape(persistent=True) as gt:\n",
    "    gt.watch(x)\n",
    "    y1 = x * x\n",
    "    y2 = 1 / y1\n",
    "\n",
    "# Comuting Individual gradients...\n",
    "g1 = gt.gradient(y1 ,x)\n",
    "g2 = gt.gradient(y2, x)\n",
    "\n",
    "print(f'Gradient(dy1_dx): {g1}')\n",
    "print(f'Gradient(dy2_dx): {g2}')\n",
    "\n",
    "g_com = gt.gradient({'g1': y1, 'g2': y2}, x)\n",
    "\n",
    "print(\"Composite Gradients\")\n",
    "print(g_com.numpy())\n",
    "\n",
    "###  Computing the gradient of multiple targets, the result for each source is:\n",
    "#       The gradient of the sum of the targets, or equivalently\n",
    "#       The sum of the gradients of each target.\n",
    "del gt\n"
   ]
  },
  {
   "cell_type": "code",
   "execution_count": 22,
   "metadata": {},
   "outputs": [],
   "source": [
    "## If the target(s) are not scalar the gradient of the sum is calculated\n",
    "x = tf.Variable(2.0)\n",
    "\n",
    "with tf.GradientTape() as gt:\n",
    "    y = x * [3. , 4.]\n",
    "\n",
    "gt.gradient(y, x).numpy()\n",
    "\n",
    "del gt"
   ]
  },
  {
   "cell_type": "markdown",
   "metadata": {},
   "source": [
    " > **For an element-wise calculation, the gradient of the sum gives the derivative of each element with respect to its input-element, since each element is independent**"
   ]
  },
  {
   "cell_type": "code",
   "execution_count": 28,
   "metadata": {},
   "outputs": [
    {
     "data": {
      "image/png": "[encoded data removed]",
      "text/plain": [
       "<Figure size 432x288 with 1 Axes>"
      ]
     },
     "metadata": {
      "needs_background": "light"
     },
     "output_type": "display_data"
    }
   ],
   "source": [
    "x = tf.linspace(-10, 10, 101)\n",
    "x.numpy()\n",
    "\n",
    "with tf.GradientTape() as gt:\n",
    "    gt.watch(x)\n",
    "    y = tf.nn.sigmoid(x)\n",
    "    \n",
    "der = gt.gradient(y, x)\n",
    "der \n",
    "\n",
    "pl.plot(x, y, 'b', label= 'y')\n",
    "pl.plot(x, der, 'r', label= 'derivative_y')\n",
    "pl.xlabel('Data-Values')\n",
    "pl.ylabel('Computed-Values')\n",
    "pl.legend()\n",
    "pl.show()\n",
    "\n",
    "del gt\n"
   ]
  },
  {
   "cell_type": "markdown",
   "metadata": {},
   "source": [
    "#### **Control Flow**\n",
    "> How the gradients are computed incase of branched operations within the GradientTape (`if/else, loops`)"
   ]
  },
  {
   "cell_type": "code",
   "execution_count": null,
   "metadata": {},
   "outputs": [
    {
     "name": "stdout",
     "output_type": "stream",
     "text": [
      "6.0\n",
      "None\n"
     ]
    }
   ],
   "source": [
    "# Because a gradient tape records operations as they are executed, \n",
    "# Python control flow is naturally handled\n",
    "\n",
    "x = 0\n",
    "\n",
    "v1 = tf.Variable(3.)\n",
    "v2 = tf.Variable([2.5, -2.5])\n",
    "\n",
    "with tf.GradientTape() as gt:\n",
    "    for i in range(3):\n",
    "        if x == 0:\n",
    "            y1 = v1**2\n",
    "            x = 1\n",
    "        else:\n",
    "            y1 = v2 / v1\n",
    "            x = 0\n",
    "\n",
    "[g1, g2] = gt.gradient(y1, [v1, v2])\n",
    "print(g1.numpy())\n",
    "print(g2)\n",
    "\n",
    "del gt\n",
    "            "
   ]
  },
  {
   "cell_type": "code",
   "execution_count": 33,
   "metadata": {},
   "outputs": [
    {
     "name": "stdout",
     "output_type": "stream",
     "text": [
      "6.0\n",
      "None\n"
     ]
    }
   ],
   "source": [
    "# Because a gradient tape records operations as they are executed, \n",
    "# Python control flow is naturally handled\n",
    "\n",
    "x = 0\n",
    "\n",
    "v1 = tf.Variable(3.)\n",
    "v2 = tf.Variable([2.5, -2.5])\n",
    "\n",
    "with tf.GradientTape() as gt:\n",
    "    for i in range(3):\n",
    "        if x == 0:\n",
    "            y1 = v1**2\n",
    "            x = 1\n",
    "        else:\n",
    "            y1 = v2 / v1\n",
    "            x = 0\n",
    "\n",
    "[g1, g2] = gt.gradient(y1, [v1, v2])\n",
    "print(g1.numpy())\n",
    "print(g2)\n",
    "\n",
    "del gt\n",
    "            "
   ]
  },
  {
   "cell_type": "markdown",
   "metadata": {},
   "source": [
    "#### **Getting Gradient of None**"
   ]
  },
  {
   "cell_type": "markdown",
   "metadata": {},
   "source": [
    "> ##### **When a target is not connected to a source you will get a gradient of None.**"
   ]
  },
  {
   "cell_type": "code",
   "execution_count": 37,
   "metadata": {},
   "outputs": [
    {
     "name": "stdout",
     "output_type": "stream",
     "text": [
      "None\n"
     ]
    }
   ],
   "source": [
    "x1 = tf.constant(2.)\n",
    "x2 = tf.constant(4.)\n",
    "\n",
    "with tf.GradientTape() as gt:\n",
    "    y = tf.tanh(x1)\n",
    "\n",
    "print(gt.gradient(y, x2)) \n"
   ]
  },
  {
   "cell_type": "markdown",
   "metadata": {},
   "source": [
    "> ##### **Replaced Variable with Tensor**"
   ]
  },
  {
   "cell_type": "code",
   "execution_count": 76,
   "metadata": {},
   "outputs": [
    {
     "name": "stdout",
     "output_type": "stream",
     "text": [
      "type of x ResourceVariable\n",
      "type of x ResourceVariable\n",
      "type of x ResourceVariable\n",
      "type of x EagerTensor\n",
      "tf.Tensor(0.0, shape=(), dtype=float32)\n"
     ]
    }
   ],
   "source": [
    "# One common error is to inadvertently replace a tf.Variable with a tf.Tensor, \n",
    "# instead of using Variable.assign to update the tf.Variable.\n",
    "# Eaxmple\n",
    "x = tf.Variable(4.0)\n",
    "with tf.GradientTape() as gt:\n",
    "    y = 0\n",
    "    for epochs in range(3):\n",
    "        y = tf.nn.sigmoid(x)\n",
    "        print(f'type of x {type(x).__name__}')\n",
    "    \n",
    "    x.assign_add(1.5) # Correct syntax\n",
    "    x = x + 1 # Here, x converts to a tensor\n",
    "\n",
    "    print(f'type of x {type(x).__name__}')\n",
    "\n",
    "g = gt.gradient(y, x)\n",
    "print(g)\n",
    "\n",
    "del gt\n"
   ]
  },
  {
   "cell_type": "markdown",
   "metadata": {},
   "source": [
    "> ##### **Working with Varibles out of TensorFlow**"
   ]
  },
  {
   "cell_type": "code",
   "execution_count": 52,
   "metadata": {},
   "outputs": [
    {
     "name": "stdout",
     "output_type": "stream",
     "text": [
      "None\n"
     ]
    }
   ],
   "source": [
    "x = tf.Variable([\n",
    "    [5,6,8,3,5],\n",
    "    [9,8,7,1,34]\n",
    "], dtype=tf.float32)\n",
    "\n",
    "with tf.GradientTape() as gt:\n",
    "    y = x*2\n",
    "    \n",
    "    y = np.mean(y, axis=0) # Numpy calculation\n",
    "    \n",
    "    y = tf.reduce_mean(y, axis= 0)\n",
    "\n",
    "print(gt.gradient(y, x))\n",
    "del gt"
   ]
  },
  {
   "cell_type": "markdown",
   "metadata": {},
   "source": [
    "> ##### **Gradients of an int or string is None**"
   ]
  },
  {
   "cell_type": "code",
   "execution_count": 58,
   "metadata": {},
   "outputs": [
    {
     "name": "stdout",
     "output_type": "stream",
     "text": [
      "WARNING:tensorflow:The dtype of the watched tensor must be floating (e.g. tf.float32), got tf.int32\n",
      "WARNING:tensorflow:The dtype of the target tensor must be floating (e.g. tf.float32) when calling GradientTape.gradient, got tf.int32\n",
      "WARNING:tensorflow:The dtype of the source tensor must be floating (e.g. tf.float32) when calling GradientTape.gradient, got tf.int32\n",
      "None\n"
     ]
    }
   ],
   "source": [
    "x = tf.constant(10)\n",
    "with tf.GradientTape() as gt:\n",
    "    gt.watch(x)\n",
    "    y = tf.transpose(x)\n",
    "\n",
    "print(gt.gradient(y,x))\n",
    "del gt\n"
   ]
  },
  {
   "cell_type": "markdown",
   "metadata": {},
   "source": [
    "> ##### **Taking Gradients through a stateful object**"
   ]
  },
  {
   "cell_type": "code",
   "execution_count": 61,
   "metadata": {},
   "outputs": [
    {
     "data": {
      "text/plain": [
       "(<tf.Tensor: shape=(), dtype=float32, numpy=-4.0>,\n",
       " <tf.Tensor: shape=(), dtype=float32, numpy=2.0>)"
      ]
     },
     "execution_count": 61,
     "metadata": {},
     "output_type": "execute_result"
    }
   ],
   "source": [
    "## State stops gradients. When you read from a stateful object, the tape can only observe \n",
    "#  the current state, not the history that lead to it.\n",
    "\n",
    "## A tf.Variable has internal state—its value. When you use the variable, the state is read. \n",
    "#  It's normal to calculate a gradient with respect to a variable, but the variable's state \n",
    "#  blocks gradient calculations from going farther back.\n",
    "\n",
    "a = tf.Variable(1.0)\n",
    "b = tf.Variable(3.0)\n",
    "\n",
    "with tf.GradientTape() as gt:\n",
    "    # The state of the Variable changes here\n",
    "    b.assign_sub(a)\n",
    "    # Tape Starts recording here\n",
    "    y = b * 2\n",
    "    y = y / a\n",
    "    \n",
    "d1, d2 = gt.gradient(y, [a,b])\n",
    "d1, d2    \n",
    "\n",
    "# For some reason, I'm not getting a `None` gradient"
   ]
  },
  {
   "cell_type": "code",
   "execution_count": null,
   "metadata": {},
   "outputs": [
    {
     "name": "stdout",
     "output_type": "stream",
     "text": [
      "type of x ResourceVariable\n",
      "type of x ResourceVariable\n",
      "type of x ResourceVariable\n",
      "type of x EagerTensor\n",
      "None\n"
     ]
    }
   ],
   "source": [
    "# One common error is to inadvertently replace a tf.Variable with a tf.Tensor, \n",
    "# instead of using Variable.assign to update the tf.Variable.\n",
    "\n",
    "# Eaxmple\n",
    "x = tf.Variable(4.0)\n",
    "with tf.GradientTape() as gt:\n",
    "    y = 0\n",
    "    for epochs in range(3):\n",
    "        y = tf.nn.sigmoid(x)\n",
    "        print(f'type of x {type(x).__name__}')\n",
    "        \n",
    "    x = x + 1 # Here, x converts to a tensor\n",
    "    print(f'type of x {type(x).__name__}')\n",
    "\n",
    "g = gt.gradient(y, x)\n",
    "print(g)\n"
   ]
  },
  {
   "cell_type": "markdown",
   "metadata": {},
   "source": [
    "#### **No Gradient registered**"
   ]
  },
  {
   "cell_type": "code",
   "execution_count": 68,
   "metadata": {},
   "outputs": [
    {
     "name": "stdout",
     "output_type": "stream",
     "text": [
      "LookupError :: gradient registry has no entry for: AdjustContrastv2\n"
     ]
    }
   ],
   "source": [
    "img = tf.constant([\n",
    "    [[0.5, 0., 0.]]\n",
    "])\n",
    "delta = tf.Variable(.20)\n",
    "\n",
    "with tf.GradientTape() as tape:\n",
    "  new_image = tf.image.adjust_contrast(img, delta)\n",
    "\n",
    "try:\n",
    "    tape.gradient(new_image, [img, delta])\n",
    "except LookupError as e:\n",
    "    print(f'{type(e).__name__} :: {e}')\n"
   ]
  },
  {
   "cell_type": "code",
   "execution_count": null,
   "metadata": {},
   "outputs": [],
   "source": []
  },
  {
   "cell_type": "markdown",
   "metadata": {},
   "source": [
    "#### **Zeros instead of None**\n",
    "> **In some cases it would be convenient to get `0 instead of None for unconnected gradients`. You can decide what to return when you have unconnected gradients using the `unconnected_gradients` argument**"
   ]
  },
  {
   "cell_type": "code",
   "execution_count": 74,
   "metadata": {},
   "outputs": [
    {
     "name": "stdout",
     "output_type": "stream",
     "text": [
      "In Normal case, Normally a None gradient shall be returned as z and x aren't connected!!\n",
      "None \n",
      "\n",
      "Using unconnected_gradients argument!!\n",
      "tf.Tensor([0. 0.], shape=(2,), dtype=float32)\n"
     ]
    }
   ],
   "source": [
    "x = tf.Variable([2., 2.])\n",
    "y = tf.Variable(3.)\n",
    "\n",
    "with tf.GradientTape(persistent=True) as tape:\n",
    "  z = y**2\n",
    "\n",
    "print(\"In Normal case, Normally a None gradient shall be returned as z and x aren't connected!!\")\n",
    "print(tape.gradient(z, x),'\\n')\n",
    "\n",
    "print('Using unconnected_gradients argument!!')\n",
    "print(tape.gradient(z, x, unconnected_gradients=tf.UnconnectedGradients.ZERO))\n"
   ]
  }
 ],
 "metadata": {
  "interpreter": {
   "hash": "445be380edc556d8a8859931574c9be2b357dc49fbb96280944087ec4ff5e718"
  },
  "kernelspec": {
   "display_name": "Python 3.8.11 64-bit ('OCR': conda)",
   "language": "python",
   "name": "python3"
  },
  "language_info": {
   "codemirror_mode": {
    "name": "ipython",
    "version": 3
   },
   "file_extension": ".py",
   "mimetype": "text/x-python",
   "name": "python",
   "nbconvert_exporter": "python",
   "pygments_lexer": "ipython3",
   "version": "3.8.11"
  },
  "orig_nbformat": 4
 },
 "nbformat": 4,
 "nbformat_minor": 2
}
