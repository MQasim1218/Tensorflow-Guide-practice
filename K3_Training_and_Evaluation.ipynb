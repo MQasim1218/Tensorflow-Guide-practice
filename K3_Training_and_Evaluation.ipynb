{
 "cells": [
  {
   "cell_type": "markdown",
   "metadata": {},
   "source": [
    "# **Training and Evaluation with build-in methods**"
   ]
  },
  {
   "cell_type": "markdown",
   "metadata": {},
   "source": [
    "## **Setup && Introduction**"
   ]
  },
  {
   "cell_type": "code",
   "execution_count": 1,
   "metadata": {},
   "outputs": [],
   "source": [
    "import tensorboard\n",
    "\n",
    "import tensorflow as tf\n",
    "import tensorflow.keras as tfk\n",
    "from tensorflow.keras import layers as lyrs\n",
    "\n",
    "import numpy as np\n",
    "import matplotlib.pyplot as plt"
   ]
  },
  {
   "cell_type": "code",
   "execution_count": 2,
   "metadata": {},
   "outputs": [],
   "source": [
    "# HYPERPARAMETERS uniform through out the code\n",
    "BS = 64 # Batch_Size\n",
    "EP = 10 # Epochs\n",
    "VB = 1 # Verbose"
   ]
  },
  {
   "cell_type": "markdown",
   "metadata": {},
   "source": [
    "## **API overview: An End-to-End Example**"
   ]
  },
  {
   "cell_type": "code",
   "execution_count": 3,
   "metadata": {},
   "outputs": [],
   "source": [
    "# Creating a basic Mnist Classifier for starting\n",
    "(tr_data, tr_lbls), (ts_data, ts_lbls) = tfk.datasets.mnist.load_data()\n",
    "\n",
    "tr_data = tr_data.reshape(-1, 28*28).astype('float32') / 255.0\n",
    "ts_data = ts_data.reshape(-1, 28*28).astype('float32') / 255.0\n",
    "\n",
    "val_data = tr_data[:-10000] # Reserve last 10,000 images for validation set\n",
    "val_lbls = tr_lbls[:-10000] # Take last 10,000 labels as-well."
   ]
  },
  {
   "cell_type": "code",
   "execution_count": 5,
   "metadata": {},
   "outputs": [
    {
     "name": "stdout",
     "output_type": "stream",
     "text": [
      "Model: \"Digits_Recognition_Model\"\n",
      "_________________________________________________________________\n",
      " Layer (type)                Output Shape              Param #   \n",
      "=================================================================\n",
      " InputLayer (Dense)          (None, 128)               100480    \n",
      "                                                                 \n",
      " Dense_1 (Dense)             (None, 64)                8256      \n",
      "                                                                 \n",
      " OutputLayer (Dense)         (None, 10)                650       \n",
      "                                                                 \n",
      "=================================================================\n",
      "Total params: 109,386\n",
      "Trainable params: 109,386\n",
      "Non-trainable params: 0\n",
      "_________________________________________________________________\n"
     ]
    }
   ],
   "source": [
    "# Define the Model Structure and Compile\n",
    "Model_mnist = tfk.Sequential(\n",
    "    [\n",
    "        lyrs.Dense(128, activation='relu', input_shape=(784,), name= 'InputLayer'),\n",
    "        lyrs.Dense(64, activation='relu', name= 'Dense_1'),\n",
    "        lyrs.Dense(10, activation='softmax', name= 'OutputLayer'),\n",
    "    ], name= 'Digits_Recognition_Model'\n",
    ")\n",
    "\n",
    "Model_mnist.summary()\n",
    "\n",
    "Model_mnist.compile(\n",
    "    optimizer=tfk.optimizers.Nadam(),\n",
    "    loss= tfk.losses.SparseCategoricalCrossentropy(),\n",
    "    metrics= [tfk.metrics.SparseCategoricalAccuracy()]\n",
    ")"
   ]
  },
  {
   "cell_type": "code",
   "execution_count": 6,
   "metadata": {},
   "outputs": [
    {
     "name": "stdout",
     "output_type": "stream",
     "text": [
      "Epoch 1/10\n",
      "938/938 [==============================] - 9s 8ms/step - loss: 0.2718 - sparse_categorical_accuracy: 0.9227 - val_loss: 0.1264 - val_sparse_categorical_accuracy: 0.9626\n",
      "Epoch 2/10\n",
      "938/938 [==============================] - 7s 7ms/step - loss: 0.1131 - sparse_categorical_accuracy: 0.9657 - val_loss: 0.0867 - val_sparse_categorical_accuracy: 0.9737\n",
      "Epoch 3/10\n",
      "938/938 [==============================] - 7s 7ms/step - loss: 0.0754 - sparse_categorical_accuracy: 0.9771 - val_loss: 0.0650 - val_sparse_categorical_accuracy: 0.9802\n",
      "Epoch 4/10\n",
      "938/938 [==============================] - 7s 7ms/step - loss: 0.0574 - sparse_categorical_accuracy: 0.9822 - val_loss: 0.0427 - val_sparse_categorical_accuracy: 0.9873\n",
      "Epoch 5/10\n",
      "938/938 [==============================] - 7s 7ms/step - loss: 0.0446 - sparse_categorical_accuracy: 0.9862 - val_loss: 0.0311 - val_sparse_categorical_accuracy: 0.9907\n",
      "Epoch 6/10\n",
      "938/938 [==============================] - 7s 7ms/step - loss: 0.0349 - sparse_categorical_accuracy: 0.9886 - val_loss: 0.0234 - val_sparse_categorical_accuracy: 0.9933\n",
      "Epoch 7/10\n",
      "938/938 [==============================] - 6s 7ms/step - loss: 0.0281 - sparse_categorical_accuracy: 0.9909 - val_loss: 0.0183 - val_sparse_categorical_accuracy: 0.9947\n",
      "Epoch 8/10\n",
      "938/938 [==============================] - 6s 7ms/step - loss: 0.0225 - sparse_categorical_accuracy: 0.9926 - val_loss: 0.0213 - val_sparse_categorical_accuracy: 0.9929\n",
      "Epoch 9/10\n",
      "938/938 [==============================] - 6s 7ms/step - loss: 0.0191 - sparse_categorical_accuracy: 0.9936 - val_loss: 0.0148 - val_sparse_categorical_accuracy: 0.9955\n",
      "Epoch 10/10\n",
      "938/938 [==============================] - 8s 8ms/step - loss: 0.0176 - sparse_categorical_accuracy: 0.9941 - val_loss: 0.0130 - val_sparse_categorical_accuracy: 0.9957\n"
     ]
    },
    {
     "data": {
      "text/plain": [
       "<keras.callbacks.History at 0x1f8064087f0>"
      ]
     },
     "execution_count": 6,
     "metadata": {},
     "output_type": "execute_result"
    }
   ],
   "source": [
    "# Training the Model and seeing the result!!\n",
    "Model_mnist.fit(\n",
    "    tr_data, tr_lbls,\n",
    "    validation_data= (val_data, val_lbls),\n",
    "    epochs= EP, verbose= VB,\n",
    "    batch_size= BS\n",
    ")"
   ]
  },
  {
   "cell_type": "code",
   "execution_count": 7,
   "metadata": {},
   "outputs": [
    {
     "name": "stdout",
     "output_type": "stream",
     "text": [
      "157/157 [==============================] - 1s 4ms/step - loss: 0.0906 - sparse_categorical_accuracy: 0.9763A: 0s - loss: 0.0977 - sparse_categorical_accuracy: 0.9\n"
     ]
    },
    {
     "data": {
      "text/plain": [
       "[0.09056906402111053, 0.9763000011444092]"
      ]
     },
     "execution_count": 7,
     "metadata": {},
     "output_type": "execute_result"
    }
   ],
   "source": [
    "# Evaluating the Model on Test Data!!\n",
    "Model_mnist.evaluate(ts_data, ts_lbls, verbose= VB, batch_size= BS)"
   ]
  },
  {
   "cell_type": "markdown",
   "metadata": {},
   "source": [
    "## **The Compile Method**"
   ]
  },
  {
   "cell_type": "code",
   "execution_count": 8,
   "metadata": {},
   "outputs": [],
   "source": [
    "# A vauge Compile Function\n",
    "Model_mnist.compile(\n",
    "    optimizer= 'Adam',\n",
    "    loss= 'MSE',\n",
    "    metrics= ['accuracy']\n",
    ")\n",
    "# Typically, the compile function takes 3 main arguments\n",
    "# OPTIMIZER, LOSS_FUNCTION,  and EVALUATION_METRIC(optional)\n",
    "\n",
    "def get_model():\n",
    "    Inp = tfk.Input(shape= (784, ))\n",
    "    lyr = lyrs.Dense(64, activation='relu')(Inp)\n",
    "    lyr = lyrs.Dense(64, activation='relu')(lyr)\n",
    "    Out = lyrs.Dense(10)(lyr)\n",
    "\n",
    "    return tfk.Model(inputs= Inp, outputs= Out)\n",
    "\n",
    "def compile_model(model):\n",
    "    model.compile(\n",
    "        optimizer= 'Adam',\n",
    "        loss= 'MSE',\n",
    "        metrics= ['accuracy']\n",
    "    )\n",
    "    return model\n",
    "\n",
    "# Once the Model is defined, it can be compiled\n",
    "compiled_model = compile_model(get_model())"
   ]
  },
  {
   "cell_type": "markdown",
   "metadata": {},
   "source": [
    "### **Built-in optimizers, losses and metrics**\n",
    "\n",
    "**Visit `https://keras.io/api/` for in-depth information on inbuilt losses, metrics etc**"
   ]
  },
  {
   "cell_type": "markdown",
   "metadata": {},
   "source": [
    "### **Custom Losses**\n",
    "> **2 Methods of creating custom losses**\n",
    "1. **Functional approach -- pass y_true and y_pred to a func and compute the difference between the two values**\n",
    "2. **Sub-classing approach -- Implement methods __init__() and call()**"
   ]
  },
  {
   "cell_type": "code",
   "execution_count": 11,
   "metadata": {},
   "outputs": [
    {
     "name": "stdout",
     "output_type": "stream",
     "text": [
      "Epoch 1/5\n",
      "938/938 [==============================] - 4s 3ms/step - loss: 0.0315A: 3s -  - ETA: \n",
      "Epoch 2/5\n",
      "938/938 [==============================] - 3s 4ms/step - loss: 0.0160\n",
      "Epoch 3/5\n",
      "938/938 [==============================] - 3s 3ms/step - loss: 0.0124\n",
      "Epoch 4/5\n",
      "938/938 [==============================] - 3s 3ms/step - loss: 0.0104\n",
      "Epoch 5/5\n",
      "938/938 [==============================] - 3s 3ms/step - loss: 0.0091\n"
     ]
    },
    {
     "data": {
      "text/plain": [
       "Ellipsis"
      ]
     },
     "execution_count": 11,
     "metadata": {},
     "output_type": "execute_result"
    }
   ],
   "source": [
    "# Functional Approach\n",
    "def Mean_SQ_Error(y_true, y_pred): \n",
    "    return tf.math.reduce_mean(tf.square(y_true - y_pred))\n",
    "\n",
    "\n",
    "# Getting a Vauge Model calling a previously created function\n",
    "model = get_model()\n",
    "\n",
    "# Defining prams for compile\n",
    "metric = tfk.metrics.SparseCategoricalAccuracy()\n",
    "opt = tfk.optimizers.Adamax()\n",
    "loss = Mean_SQ_Error\n",
    "\n",
    "model.compile(\n",
    "    optimizer= tfk.optimizers.Adamax(0.001),\n",
    "    loss= Mean_SQ_Error,\n",
    "    # metrics= [metric]\n",
    ")\n",
    "\n",
    "OneHot_lbls = tf.one_hot(tr_lbls, depth= 10)\n",
    "\n",
    "# model.fit(tr_data, OneHot_lbls, epochs= EP, batch_size= BS)\n",
    "model.fit(tr_data, OneHot_lbls, batch_size=64, epochs=5)\n",
    "\n",
    "# Sparse Catagorical Cross Entropy will not work here...\n",
    "...\n",
    "\n",
    "# Custom Loss not working so-far"
   ]
  },
  {
   "cell_type": "code",
   "execution_count": 14,
   "metadata": {},
   "outputs": [
    {
     "name": "stdout",
     "output_type": "stream",
     "text": [
      "Epoch 1/10\n",
      "938/938 [==============================] - 4s 3ms/step - loss: 0.0562\n",
      "Epoch 2/10\n",
      "938/938 [==============================] - 3s 4ms/step - loss: 0.0396\n",
      "Epoch 3/10\n",
      "938/938 [==============================] - 3s 3ms/step - loss: 0.0356\n",
      "Epoch 4/10\n",
      "938/938 [==============================] - 3s 3ms/step - loss: 0.0334\n",
      "Epoch 5/10\n",
      "938/938 [==============================] - 2s 3ms/step - loss: 0.0319\n",
      "Epoch 6/10\n",
      "938/938 [==============================] - 3s 3ms/step - loss: 0.0308\n",
      "Epoch 7/10\n",
      "938/938 [==============================] - 2s 3ms/step - loss: 0.0300A: 0s - los\n",
      "Epoch 8/10\n",
      "938/938 [==============================] - 2s 3ms/step - loss: 0.0294\n",
      "Epoch 9/10\n",
      "938/938 [==============================] - 2s 2ms/step - loss: 0.0290\n",
      "Epoch 10/10\n",
      "938/938 [==============================] - 2s 2ms/step - loss: 0.0286\n"
     ]
    },
    {
     "data": {
      "text/plain": [
       "<keras.callbacks.History at 0x1f808e3d580>"
      ]
     },
     "execution_count": 14,
     "metadata": {},
     "output_type": "execute_result"
    }
   ],
   "source": [
    "# Sub-Classing using tf.keras.losses.Loss class\n",
    "class MeSqEr_Custom(tfk.losses.Loss):\n",
    "    def init(self, regfac= 0.1):\n",
    "        super().__init__()\n",
    "        self.regularization_factor = regfac\n",
    "    \n",
    "    def call(self, ytrue, ypred):\n",
    "        SqErr1 = tf.square(ytrue - ypred)\n",
    "        mse = tf.reduce_mean(SqErr1)\n",
    "        \n",
    "        SqErr2 = tf.square(0.5 - ypred)\n",
    "        reg = tf.reduce_mean(SqErr2)\n",
    "        \n",
    "        cstm_loss = mse + reg * self.regularization_factor\n",
    "        return cstm_loss\n",
    "    \n",
    "\n",
    "class CustomMSE(tfk.losses.Loss):\n",
    "    def __init__(self, regularization_factor=0.1, name=\"custom_mse\"):\n",
    "        super().__init__(name=name)\n",
    "        self.regularization_factor = regularization_factor\n",
    "\n",
    "    def call(self, y_true, y_pred):\n",
    "        mse = tf.math.reduce_mean(tf.square(y_true - y_pred))\n",
    "        reg = tf.math.reduce_mean(tf.square(0.5 - y_pred))\n",
    "        return mse + reg * self.regularization_factor\n",
    "\n",
    "# Get a Model    \n",
    "model = get_model()\n",
    "\n",
    "# Define prams\n",
    "# optimizer and metric already defined from the last block: opt, metric\n",
    "# cstm_mse = MeSqEr_Custom(0.25)\n",
    "cstm_mse = CustomMSE()\n",
    "\n",
    "model.compile(\n",
    "    optimizer= opt,\n",
    "    loss= cstm_mse,\n",
    "    # metrics= [metric]\n",
    ")\n",
    "\n",
    "tr_lbls_OneHot = tf.one_hot(tr_lbls, depth= 10)\n",
    "model.fit(tr_data, tr_lbls_OneHot, epochs=EP, verbose=VB, batch_size=BS)\n",
    "\n",
    "# Custom Loss not working so-far"
   ]
  },
  {
   "cell_type": "markdown",
   "metadata": {},
   "source": [
    "### **Custom Metrics**"
   ]
  },
  {
   "cell_type": "code",
   "execution_count": 23,
   "metadata": {},
   "outputs": [],
   "source": [
    "'''\n",
    "    To implement custom metrics, you need to subclass the \n",
    "    tf.metrics.Metric class and implement 4 functions\n",
    "    1. init()   2. update_state()   3. reset_state()    4. result()  \n",
    "'''\n",
    "\n",
    "# Here's a simple example showing how to implement a CategoricalTruePositives metric \n",
    "# that counts how many samples were correctly classified as belonging to a given class\n",
    "\n",
    "class cstm_metric(tf.metrics.Metric):\n",
    "    def __init__(self): #  create state variables for your metric\n",
    "        super(cstm_metric, self).__init__()\n",
    "        self.true_positives = self.add_weight(\n",
    "            name= 'ctp',\n",
    "            initializer= 'zeros'\n",
    "        )\n",
    "        \n",
    "    # uses the targets y_true and the model predictions y_pred to update the state variables.\n",
    "    def update_state(self, y_true, y_pred, sample_weight= None):\n",
    "        y_pred = tf.reshape(\n",
    "            tf.argmax(y_pred, axis= 1), shape=(-1, 1)\n",
    "        )\n",
    "        \n",
    "        values = tf.cast(y_true, 'int32') == tf.cast(y_pred, 'int32')\n",
    "        values = tf.cast(values, 'float32')\n",
    "        \n",
    "        if sample_weight is not None:\n",
    "            sample_weight = tf.cast(sample_weight, 'float32')\n",
    "            values = values * sample_weight\n",
    "            \n",
    "        self.true_positives.assign_add(tf.reduce_sum(values))\n",
    "    \n",
    "    def result(self):  # Uses the state variables to compute the final results.\n",
    "        return self.true_positives\n",
    "    \n",
    "    def reset_state(self): # Reinitializes the state of the metric.\n",
    "        self.true_positives.assign_add(0.0)"
   ]
  },
  {
   "cell_type": "code",
   "execution_count": 24,
   "metadata": {},
   "outputs": [
    {
     "name": "stdout",
     "output_type": "stream",
     "text": [
      "Epoch 1/10\n",
      "1875/1875 [==============================] - 7s 3ms/step - loss: 2.0930 - cstm_metric_4: 39203.0000A: 1s - loss: 2.2932 -\n",
      "Epoch 2/10\n",
      "1875/1875 [==============================] - 5s 3ms/step - loss: 1.0989 - cstm_metric_4: 87185.0000\n",
      "Epoch 3/10\n",
      "1875/1875 [==============================] - 5s 3ms/step - loss: 0.9718 - cstm_metric_4: 138115.0000\n",
      "Epoch 4/10\n",
      "1875/1875 [==============================] - 6s 3ms/step - loss: 1.1591 - cstm_metric_4: 189174.0000\n",
      "Epoch 5/10\n",
      "1875/1875 [==============================] - 6s 3ms/step - loss: 1.4413 - cstm_metric_4: 239906.0000\n",
      "Epoch 6/10\n",
      "1875/1875 [==============================] - 5s 3ms/step - loss: 1.4619 - cstm_metric_4: 290638.0000\n",
      "Epoch 7/10\n",
      "1875/1875 [==============================] - 6s 3ms/step - loss: 1.6659 - cstm_metric_4: 339026.0000\n",
      "Epoch 8/10\n",
      "1875/1875 [==============================] - 5s 3ms/step - loss: 1.8644 - cstm_metric_4: 384502.0000\n",
      "Epoch 9/10\n",
      "1875/1875 [==============================] - 5s 3ms/step - loss: 1.8580 - cstm_metric_4: 431385.0000\n",
      "Epoch 10/10\n",
      "1875/1875 [==============================] - 5s 3ms/step - loss: 1.8112 - cstm_metric_4: 477949.0000: 0s - loss: 1.8100 - cstm_metric_4: 4\n"
     ]
    },
    {
     "data": {
      "text/plain": [
       "<keras.callbacks.History at 0x1f808dd0220>"
      ]
     },
     "execution_count": 24,
     "metadata": {},
     "output_type": "execute_result"
    }
   ],
   "source": [
    "# Testing the new Metric\n",
    "model = get_model()\n",
    "\n",
    "model.compile(\n",
    "    optimizer=opt,\n",
    "    loss= tfk.losses.SparseCategoricalCrossentropy(),\n",
    "    metrics= [cstm_metric()]\n",
    ")\n",
    "\n",
    "model.fit(tr_data, tr_lbls, epochs= EP)"
   ]
  },
  {
   "cell_type": "markdown",
   "metadata": {},
   "source": [
    "### **Handling losses and metrics that donot fit the standard signature**\n",
    "\n",
    "> **To achieve this, we call the add_loss() and add_metric() methods from within the call function of a custom Layer, and the metric and/or loss gets added to the main loss/metric passed to the model at the compile time**"
   ]
  },
  {
   "cell_type": "markdown",
   "metadata": {},
   "source": [
    "#### **Handling Loss**"
   ]
  },
  {
   "cell_type": "code",
   "execution_count": 26,
   "metadata": {},
   "outputs": [
    {
     "name": "stdout",
     "output_type": "stream",
     "text": [
      "Dealing loss here!!\n",
      "Epoch 1/10\n",
      "938/938 [==============================] - 5s 4ms/step - loss: 3.1213\n",
      "Epoch 2/10\n",
      "938/938 [==============================] - 4s 4ms/step - loss: 2.3093\n",
      "Epoch 3/10\n",
      "938/938 [==============================] - 3s 4ms/step - loss: 2.3040\n",
      "Epoch 4/10\n",
      "938/938 [==============================] - 4s 4ms/step - loss: 2.3025\n",
      "Epoch 5/10\n",
      "938/938 [==============================] - 3s 4ms/step - loss: 2.3020\n",
      "Epoch 6/10\n",
      "938/938 [==============================] - 3s 4ms/step - loss: 2.3018\n",
      "Epoch 7/10\n",
      "938/938 [==============================] - 3s 4ms/step - loss: 2.3018\n",
      "Epoch 8/10\n",
      "938/938 [==============================] - 3s 4ms/step - loss: 2.3017\n",
      "Epoch 9/10\n",
      "938/938 [==============================] - 4s 4ms/step - loss: 2.3017\n",
      "Epoch 10/10\n",
      "938/938 [==============================] - 4s 4ms/step - loss: 2.3017\n"
     ]
    },
    {
     "data": {
      "text/plain": [
       "<keras.callbacks.History at 0x1f80d7fd820>"
      ]
     },
     "execution_count": 26,
     "metadata": {},
     "output_type": "execute_result"
    }
   ],
   "source": [
    "print(\"Dealing loss here!!\")\n",
    "class ActReg(lyrs.Layer):\n",
    "    def call(self, inputs):\n",
    "        # Using add_los mothod here to alter loss computation...\n",
    "        self.add_loss(tf.reduce_sum(inputs) * 0.1)\n",
    "        return inputs # Just Pass through the Layer\n",
    "\n",
    "inp = tfk.Input(shape= (784, ))\n",
    "x_ten = lyrs.Dense(64, 'relu')(inp)\n",
    "x_ten = ActReg()(x_ten)\n",
    "\n",
    "x_ten = lyrs.Dense(64, 'relu')(x_ten)\n",
    "out = lyrs.Dense(10, 'relu')(x_ten)\n",
    "\n",
    "model = tfk.Model(inputs= inp, outputs= out)\n",
    "\n",
    "model.compile(\n",
    "    opt, \n",
    "    loss= tfk.losses.SparseCategoricalCrossentropy(from_logits= True)\n",
    ")\n",
    "\n",
    "model.fit(tr_data, tr_lbls, epochs= EP, verbose= VB, batch_size= BS)"
   ]
  },
  {
   "cell_type": "markdown",
   "metadata": {},
   "source": [
    "#### **Handling Metrcis**"
   ]
  },
  {
   "cell_type": "code",
   "execution_count": null,
   "metadata": {},
   "outputs": [],
   "source": [
    "print(\"Dealing metrics here!!\")\n",
    "class MetricLoggingLayer(tfk.layers.Layer):\n",
    "    #\n",
    "    #\n",
    "    def __init__(self):\n",
    "        super(MetricLoggingLayer, self).__init__()\n",
    "        \n",
    "        "
   ]
  },
  {
   "cell_type": "markdown",
   "metadata": {},
   "source": [
    "### **Automatically setting apart a validation holdout set**"
   ]
  },
  {
   "cell_type": "markdown",
   "metadata": {},
   "source": [
    "## **Training and Evaluation from tf.Datasets**\n"
   ]
  },
  {
   "cell_type": "markdown",
   "metadata": {},
   "source": [
    "### **Using a Validation dataset**"
   ]
  },
  {
   "cell_type": "markdown",
   "metadata": {},
   "source": [
    "## **Other supported input formats**"
   ]
  },
  {
   "cell_type": "markdown",
   "metadata": {},
   "source": [
    "## **Using tfk.utils.Sequence object as input**"
   ]
  },
  {
   "cell_type": "markdown",
   "metadata": {},
   "source": [
    "## **Using sample weighting and class weighting**"
   ]
  },
  {
   "cell_type": "markdown",
   "metadata": {},
   "source": [
    "### **Class Weights**"
   ]
  },
  {
   "cell_type": "markdown",
   "metadata": {},
   "source": [
    "### **Sample Weights**"
   ]
  },
  {
   "cell_type": "markdown",
   "metadata": {},
   "source": [
    "## **Passing data to multi-input/output models**"
   ]
  },
  {
   "cell_type": "markdown",
   "metadata": {},
   "source": [
    "## **Using Callbacks**"
   ]
  },
  {
   "cell_type": "markdown",
   "metadata": {},
   "source": [
    "### **Built-in callbacks**\n"
   ]
  },
  {
   "cell_type": "markdown",
   "metadata": {},
   "source": [
    "### **Writing custom callbacks**\n"
   ]
  },
  {
   "cell_type": "markdown",
   "metadata": {},
   "source": [
    "## **Model Checkpoints**"
   ]
  },
  {
   "cell_type": "markdown",
   "metadata": {},
   "source": [
    "## **Usign learning-rate schedules**"
   ]
  },
  {
   "cell_type": "markdown",
   "metadata": {},
   "source": [
    "### **Passing a schedule to an optimizer**"
   ]
  },
  {
   "cell_type": "markdown",
   "metadata": {},
   "source": [
    "### **Using callbacks to implement a dynamic learning rate schedule**"
   ]
  },
  {
   "cell_type": "markdown",
   "metadata": {},
   "source": [
    "## **Visualizing loss and metrics during training**"
   ]
  },
  {
   "cell_type": "markdown",
   "metadata": {},
   "source": [
    "### **Using Tensorboard callback**"
   ]
  },
  {
   "cell_type": "markdown",
   "metadata": {},
   "source": [
    "# **Wrapup**"
   ]
  }
 ],
 "metadata": {
  "interpreter": {
   "hash": "8b8b0bc04ec3d1dc0d456e2ffa50a3bb2db1f633383799a4f8b8e1b40d883f7f"
  },
  "kernelspec": {
   "display_name": "Python 3.8.8 ('Graphs_IDS')",
   "language": "python",
   "name": "python3"
  },
  "language_info": {
   "codemirror_mode": {
    "name": "ipython",
    "version": 3
   },
   "file_extension": ".py",
   "mimetype": "text/x-python",
   "name": "python",
   "nbconvert_exporter": "python",
   "pygments_lexer": "ipython3",
   "version": "3.8.8"
  },
  "orig_nbformat": 4
 },
 "nbformat": 4,
 "nbformat_minor": 2
}
