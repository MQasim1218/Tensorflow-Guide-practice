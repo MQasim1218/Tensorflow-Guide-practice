{
 "cells": [
  {
   "cell_type": "markdown",
   "metadata": {},
   "source": [
    "# **Training and Evaluation with build-in methods**"
   ]
  },
  {
   "cell_type": "markdown",
   "metadata": {},
   "source": [
    "## **Setup && Introduction**"
   ]
  },
  {
   "cell_type": "code",
   "execution_count": 1,
   "metadata": {},
   "outputs": [],
   "source": [
    "import tensorboard\n",
    "\n",
    "import tensorflow as tf\n",
    "import tensorflow.keras as tfk\n",
    "from tensorflow.keras import layers as lyrs\n",
    "\n",
    "import numpy as np\n",
    "import matplotlib.pyplot as plt"
   ]
  },
  {
   "cell_type": "code",
   "execution_count": 2,
   "metadata": {},
   "outputs": [],
   "source": [
    "# HYPERPARAMETERS uniform through out the code\n",
    "BS = 64 # Batch_Size\n",
    "EP = 10 # Epochs\n",
    "VB = 1 # Verbose"
   ]
  },
  {
   "cell_type": "markdown",
   "metadata": {},
   "source": [
    "## **API overview: An End-to-End Example**"
   ]
  },
  {
   "cell_type": "code",
   "execution_count": 3,
   "metadata": {},
   "outputs": [],
   "source": [
    "# Creating a basic Mnist Classifier for starting\n",
    "(tr_data, tr_lbls), (ts_data, ts_lbls) = tfk.datasets.mnist.load_data()\n",
    "\n",
    "tr_data = tr_data.reshape(-1, 28*28).astype('float32') / 255.0\n",
    "ts_data = ts_data.reshape(-1, 28*28).astype('float32') / 255.0\n",
    "\n",
    "val_data = tr_data[:-10000] # Reserve last 10,000 images for validation set\n",
    "val_lbls = tr_lbls[:-10000] # Take last 10,000 labels as-well."
   ]
  },
  {
   "cell_type": "code",
   "execution_count": 4,
   "metadata": {},
   "outputs": [
    {
     "name": "stdout",
     "output_type": "stream",
     "text": [
      "Model: \"Digits_Recognition_Model\"\n",
      "_________________________________________________________________\n",
      " Layer (type)                Output Shape              Param #   \n",
      "=================================================================\n",
      " InputLayer (Dense)          (None, 128)               100480    \n",
      "                                                                 \n",
      " Dense_1 (Dense)             (None, 64)                8256      \n",
      "                                                                 \n",
      " OutputLayer (Dense)         (None, 10)                650       \n",
      "                                                                 \n",
      "=================================================================\n",
      "Total params: 109,386\n",
      "Trainable params: 109,386\n",
      "Non-trainable params: 0\n",
      "_________________________________________________________________\n"
     ]
    }
   ],
   "source": [
    "# Define the Model Structure and Compile\n",
    "Model_mnist = tfk.Sequential(\n",
    "    [\n",
    "        lyrs.Dense(128, activation='relu', input_shape=(784,), name= 'InputLayer'),\n",
    "        lyrs.Dense(64, activation='relu', name= 'Dense_1'),\n",
    "        lyrs.Dense(10, activation='softmax', name= 'OutputLayer'),\n",
    "    ], name= 'Digits_Recognition_Model'\n",
    ")\n",
    "\n",
    "Model_mnist.summary()\n",
    "\n",
    "Model_mnist.compile(\n",
    "    optimizer=tfk.optimizers.Nadam(),\n",
    "    loss= tfk.losses.SparseCategoricalCrossentropy(),\n",
    "    metrics= [tfk.metrics.SparseCategoricalAccuracy()]\n",
    ")"
   ]
  },
  {
   "cell_type": "code",
   "execution_count": 5,
   "metadata": {},
   "outputs": [
    {
     "name": "stdout",
     "output_type": "stream",
     "text": [
      "Epoch 1/10\n",
      "938/938 [==============================] - 10s 7ms/step - loss: 0.2698 - sparse_categorical_accuracy: 0.9227 - val_loss: 0.1316 - val_sparse_categorical_accuracy: 0.9612\n",
      "Epoch 2/10\n",
      "938/938 [==============================] - 6s 7ms/step - loss: 0.1114 - sparse_categorical_accuracy: 0.9672 - val_loss: 0.0820 - val_sparse_categorical_accuracy: 0.9758\n",
      "Epoch 3/10\n",
      "938/938 [==============================] - 6s 7ms/step - loss: 0.0770 - sparse_categorical_accuracy: 0.9761 - val_loss: 0.0559 - val_sparse_categorical_accuracy: 0.9831\n",
      "Epoch 4/10\n",
      "938/938 [==============================] - 6s 7ms/step - loss: 0.0585 - sparse_categorical_accuracy: 0.9821 - val_loss: 0.0453 - val_sparse_categorical_accuracy: 0.9859\n",
      "Epoch 5/10\n",
      "938/938 [==============================] - 7s 7ms/step - loss: 0.0452 - sparse_categorical_accuracy: 0.9859 - val_loss: 0.0334 - val_sparse_categorical_accuracy: 0.9894\n",
      "Epoch 6/10\n",
      "938/938 [==============================] - 6s 7ms/step - loss: 0.0359 - sparse_categorical_accuracy: 0.9885 - val_loss: 0.0282 - val_sparse_categorical_accuracy: 0.9909\n",
      "Epoch 7/10\n",
      "938/938 [==============================] - 6s 7ms/step - loss: 0.0296 - sparse_categorical_accuracy: 0.9901 - val_loss: 0.0226 - val_sparse_categorical_accuracy: 0.9930\n",
      "Epoch 8/10\n",
      "938/938 [==============================] - 6s 6ms/step - loss: 0.0254 - sparse_categorical_accuracy: 0.9916 - val_loss: 0.0201 - val_sparse_categorical_accuracy: 0.9933\n",
      "Epoch 9/10\n",
      "938/938 [==============================] - 6s 7ms/step - loss: 0.0196 - sparse_categorical_accuracy: 0.9938 - val_loss: 0.0141 - val_sparse_categorical_accuracy: 0.9957\n",
      "Epoch 10/10\n",
      "938/938 [==============================] - 7s 8ms/step - loss: 0.0195 - sparse_categorical_accuracy: 0.9934 - val_loss: 0.0140 - val_sparse_categorical_accuracy: 0.9957\n"
     ]
    },
    {
     "data": {
      "text/plain": [
       "<keras.callbacks.History at 0x217c1183e50>"
      ]
     },
     "execution_count": 5,
     "metadata": {},
     "output_type": "execute_result"
    }
   ],
   "source": [
    "# Training the Model and seeing the result!!\n",
    "Model_mnist.fit(\n",
    "    tr_data, tr_lbls,\n",
    "    validation_data= (val_data, val_lbls),\n",
    "    epochs= EP, verbose= VB,\n",
    "    batch_size= BS\n",
    ")"
   ]
  },
  {
   "cell_type": "code",
   "execution_count": 6,
   "metadata": {},
   "outputs": [
    {
     "name": "stdout",
     "output_type": "stream",
     "text": [
      "157/157 [==============================] - 1s 4ms/step - loss: 0.0842 - sparse_categorical_accuracy: 0.9792A: 0s - loss: 0.0878 - sparse_categorical_accuracy: 0.97\n"
     ]
    },
    {
     "data": {
      "text/plain": [
       "[0.0842050313949585, 0.979200005531311]"
      ]
     },
     "execution_count": 6,
     "metadata": {},
     "output_type": "execute_result"
    }
   ],
   "source": [
    "# Evaluating the Model on Test Data!!\n",
    "Model_mnist.evaluate(ts_data, ts_lbls, verbose= VB, batch_size= BS)"
   ]
  },
  {
   "cell_type": "markdown",
   "metadata": {},
   "source": [
    "## **The Compile Method**"
   ]
  },
  {
   "cell_type": "code",
   "execution_count": 29,
   "metadata": {},
   "outputs": [
    {
     "name": "stdout",
     "output_type": "stream",
     "text": [
      "Model: \"model_16\"\n",
      "_________________________________________________________________\n",
      " Layer (type)                Output Shape              Param #   \n",
      "=================================================================\n",
      " input_13 (InputLayer)       [(None, 784)]             0         \n",
      "                                                                 \n",
      " dense_50 (Dense)            (None, 64)                50240     \n",
      "                                                                 \n",
      " dense_51 (Dense)            (None, 64)                4160      \n",
      "                                                                 \n",
      " dense_52 (Dense)            (None, 10)                650       \n",
      "                                                                 \n",
      "=================================================================\n",
      "Total params: 55,050\n",
      "Trainable params: 55,050\n",
      "Non-trainable params: 0\n",
      "_________________________________________________________________\n"
     ]
    }
   ],
   "source": [
    "# A vauge Compile Function\n",
    "Model_mnist.compile(\n",
    "    optimizer= 'Adam',\n",
    "    loss= 'MSE',\n",
    "    metrics= ['accuracy']\n",
    ")\n",
    "# Typically, the compile function takes 3 main arguments\n",
    "# OPTIMIZER, LOSS_FUNCTION,  and EVALUATION_METRIC(optional)\n",
    "\n",
    "def get_model():\n",
    "    Inp = tfk.Input(shape= (784, ))\n",
    "    lyr = lyrs.Dense(64, activation='relu')(Inp)\n",
    "    lyr = lyrs.Dense(64, activation='relu')(lyr)\n",
    "    Out = lyrs.Dense(10)(lyr)\n",
    "\n",
    "    return tfk.Model(inputs= Inp, outputs= Out)\n",
    "\n",
    "def compile_model(model):\n",
    "    model.summary()\n",
    "    \n",
    "    model.compile(\n",
    "        optimizer= 'Adam',\n",
    "        loss= 'MSE',\n",
    "        metrics= ['accuracy']\n",
    "    )\n",
    "    return model\n",
    "\n",
    "# Once the Model is defined, it can be compiled\n",
    "compiled_model = compile_model(get_model())"
   ]
  },
  {
   "cell_type": "markdown",
   "metadata": {},
   "source": [
    "### **Built-in optimizers, losses and metrics**\n",
    "\n",
    "**Visit `https://keras.io/api/` for in-depth information on inbuilt losses, metrics etc**"
   ]
  },
  {
   "cell_type": "markdown",
   "metadata": {},
   "source": [
    "### **Custom Losses**\n",
    "> **2 Methods of creating custom losses**\n",
    "1. **Functional approach -- pass y_true and y_pred to a func and compute the difference between the two values**\n",
    "2. **Sub-classing approach -- Implement methods __init__() and call()**"
   ]
  },
  {
   "cell_type": "code",
   "execution_count": 8,
   "metadata": {},
   "outputs": [
    {
     "name": "stdout",
     "output_type": "stream",
     "text": [
      "Epoch 1/5\n",
      "938/938 [==============================] - 4s 4ms/step - loss: 0.0337\n",
      "Epoch 2/5\n",
      "938/938 [==============================] - 4s 4ms/step - loss: 0.0172\n",
      "Epoch 3/5\n",
      "938/938 [==============================] - 4s 4ms/step - loss: 0.0133\n",
      "Epoch 4/5\n",
      "938/938 [==============================] - 4s 4ms/step - loss: 0.0110\n",
      "Epoch 5/5\n",
      "938/938 [==============================] - 4s 4ms/step - loss: 0.0095\n"
     ]
    },
    {
     "data": {
      "text/plain": [
       "Ellipsis"
      ]
     },
     "execution_count": 8,
     "metadata": {},
     "output_type": "execute_result"
    }
   ],
   "source": [
    "# Functional Approach\n",
    "def Mean_SQ_Error(y_true, y_pred): \n",
    "    return tf.math.reduce_mean(tf.square(y_true - y_pred))\n",
    "\n",
    "\n",
    "# Getting a Vauge Model calling a previously created function\n",
    "model = get_model()\n",
    "\n",
    "# Defining prams for compile\n",
    "metric = tfk.metrics.SparseCategoricalAccuracy()\n",
    "opt = tfk.optimizers.Adamax()\n",
    "loss = Mean_SQ_Error\n",
    "\n",
    "model.compile(\n",
    "    optimizer= tfk.optimizers.Adamax(0.001),\n",
    "    loss= Mean_SQ_Error,\n",
    "    # metrics= [metric]\n",
    ")\n",
    "\n",
    "OneHot_lbls = tf.one_hot(tr_lbls, depth= 10)\n",
    "\n",
    "# model.fit(tr_data, OneHot_lbls, epochs= EP, batch_size= BS)\n",
    "model.fit(tr_data, OneHot_lbls, batch_size=64, epochs=5)\n",
    "\n",
    "# Sparse Catagorical Cross Entropy will not work here...\n",
    "...\n",
    "\n",
    "# Custom Loss not working so-far"
   ]
  },
  {
   "cell_type": "code",
   "execution_count": 9,
   "metadata": {},
   "outputs": [
    {
     "name": "stdout",
     "output_type": "stream",
     "text": [
      "Epoch 1/10\n",
      "938/938 [==============================] - 4s 3ms/step - loss: 0.0520A: 1s - l - ETA\n",
      "Epoch 2/10\n",
      "938/938 [==============================] - 3s 3ms/step - loss: 0.0374\n",
      "Epoch 3/10\n",
      "938/938 [==============================] - 3s 3ms/step - loss: 0.0342\n",
      "Epoch 4/10\n",
      "938/938 [==============================] - 3s 3ms/step - loss: 0.0323\n",
      "Epoch 5/10\n",
      "938/938 [==============================] - 3s 3ms/step - loss: 0.0311\n",
      "Epoch 6/10\n",
      "938/938 [==============================] - 3s 3ms/step - loss: 0.0301\n",
      "Epoch 7/10\n",
      "938/938 [==============================] - 3s 3ms/step - loss: 0.0295\n",
      "Epoch 8/10\n",
      "938/938 [==============================] - 3s 3ms/step - loss: 0.0289\n",
      "Epoch 9/10\n",
      "938/938 [==============================] - 3s 3ms/step - loss: 0.0284\n",
      "Epoch 10/10\n",
      "938/938 [==============================] - 3s 3ms/step - loss: 0.0281\n"
     ]
    },
    {
     "data": {
      "text/plain": [
       "<keras.callbacks.History at 0x217c37c2130>"
      ]
     },
     "execution_count": 9,
     "metadata": {},
     "output_type": "execute_result"
    }
   ],
   "source": [
    "# Sub-Classing using tf.keras.losses.Loss class\n",
    "class MeSqEr_Custom(tfk.losses.Loss):\n",
    "    def init(self, regfac= 0.1):\n",
    "        super().__init__()\n",
    "        self.regularization_factor = regfac\n",
    "    \n",
    "    def call(self, ytrue, ypred):\n",
    "        SqErr1 = tf.square(ytrue - ypred)\n",
    "        mse = tf.reduce_mean(SqErr1)\n",
    "        \n",
    "        SqErr2 = tf.square(0.5 - ypred)\n",
    "        reg = tf.reduce_mean(SqErr2)\n",
    "        \n",
    "        cstm_loss = mse + reg * self.regularization_factor\n",
    "        return cstm_loss\n",
    "    \n",
    "\n",
    "class CustomMSE(tfk.losses.Loss):\n",
    "    def __init__(self, regularization_factor=0.1, name=\"custom_mse\"):\n",
    "        super().__init__(name=name)\n",
    "        self.regularization_factor = regularization_factor\n",
    "\n",
    "    def call(self, y_true, y_pred):\n",
    "        mse = tf.math.reduce_mean(tf.square(y_true - y_pred))\n",
    "        reg = tf.math.reduce_mean(tf.square(0.5 - y_pred))\n",
    "        return mse + reg * self.regularization_factor\n",
    "\n",
    "# Get a Model    \n",
    "model = get_model()\n",
    "\n",
    "# Define prams\n",
    "# optimizer and metric already defined from the last block: opt, metric\n",
    "# cstm_mse = MeSqEr_Custom(0.25)\n",
    "cstm_mse = CustomMSE()\n",
    "\n",
    "model.compile(\n",
    "    optimizer= opt,\n",
    "    loss= cstm_mse,\n",
    "    # metrics= [metric]\n",
    ")\n",
    "\n",
    "tr_lbls_OneHot = tf.one_hot(tr_lbls, depth= 10)\n",
    "model.fit(tr_data, tr_lbls_OneHot, epochs=EP, verbose=VB, batch_size=BS)\n",
    "\n",
    "# Custom Loss not working so-far"
   ]
  },
  {
   "cell_type": "markdown",
   "metadata": {},
   "source": [
    "### **Custom Metrics**"
   ]
  },
  {
   "cell_type": "code",
   "execution_count": 10,
   "metadata": {},
   "outputs": [],
   "source": [
    "'''\n",
    "    To implement custom metrics, you need to subclass the \n",
    "    tf.metrics.Metric class and implement 4 functions\n",
    "    1. init()   2. update_state()   3. reset_state()    4. result()  \n",
    "'''\n",
    "\n",
    "# Here's a simple example showing how to implement a CategoricalTruePositives metric \n",
    "# that counts how many samples were correctly classified as belonging to a given class\n",
    "\n",
    "class cstm_metric(tf.metrics.Metric):\n",
    "    def __init__(self): #  create state variables for your metric\n",
    "        super(cstm_metric, self).__init__()\n",
    "        self.true_positives = self.add_weight(\n",
    "            name= 'ctp',\n",
    "            initializer= 'zeros'\n",
    "        )\n",
    "        \n",
    "    # uses the targets y_true and the model predictions y_pred to update the state variables.\n",
    "    def update_state(self, y_true, y_pred, sample_weight= None):\n",
    "        y_pred = tf.reshape(\n",
    "            tf.argmax(y_pred, axis= 1), shape=(-1, 1)\n",
    "        )\n",
    "        \n",
    "        values = tf.cast(y_true, 'int32') == tf.cast(y_pred, 'int32')\n",
    "        values = tf.cast(values, 'float32')\n",
    "        \n",
    "        if sample_weight is not None:\n",
    "            sample_weight = tf.cast(sample_weight, 'float32')\n",
    "            values = values * sample_weight\n",
    "            \n",
    "        self.true_positives.assign_add(tf.reduce_sum(values))\n",
    "    \n",
    "    def result(self):  # Uses the state variables to compute the final results.\n",
    "        return self.true_positives\n",
    "    \n",
    "    def reset_state(self): # Reinitializes the state of the metric.\n",
    "        self.true_positives.assign_add(0.0)"
   ]
  },
  {
   "cell_type": "code",
   "execution_count": 11,
   "metadata": {},
   "outputs": [
    {
     "name": "stdout",
     "output_type": "stream",
     "text": [
      "Epoch 1/10\n",
      "1875/1875 [==============================] - 8s 4ms/step - loss: 2.5540 - cstm_metric: 33530.0000\n",
      "Epoch 2/10\n",
      "1875/1875 [==============================] - 6s 3ms/step - loss: 2.0895 - cstm_metric: 67447.0000\n",
      "Epoch 3/10\n",
      "1875/1875 [==============================] - 6s 3ms/step - loss: 2.1952 - cstm_metric: 98866.0000\n",
      "Epoch 4/10\n",
      "1875/1875 [==============================] - 6s 3ms/step - loss: 2.2547 - cstm_metric: 131537.0000\n",
      "Epoch 5/10\n",
      "1875/1875 [==============================] - 5s 3ms/step - loss: 2.2677 - cstm_metric: 162987.0000\n",
      "Epoch 6/10\n",
      "1875/1875 [==============================] - 7s 4ms/step - loss: 2.2530 - cstm_metric: 192627.0000: 0s - loss: 2.2541 - cstm_metric: 1\n",
      "Epoch 7/10\n",
      "1875/1875 [==============================] - 6s 3ms/step - loss: 2.2165 - cstm_metric: 221879.0000\n",
      "Epoch 8/10\n",
      "1875/1875 [==============================] - 7s 4ms/step - loss: 2.1430 - cstm_metric: 250499.0000\n",
      "Epoch 9/10\n",
      "1875/1875 [==============================] - 6s 3ms/step - loss: 2.0680 - cstm_metric: 278563.0000\n",
      "Epoch 10/10\n",
      "1875/1875 [==============================] - 6s 3ms/step - loss: 1.9746 - cstm_metric: 306789.0000: 0s - l\n"
     ]
    },
    {
     "data": {
      "text/plain": [
       "<keras.callbacks.History at 0x217c3b03a90>"
      ]
     },
     "execution_count": 11,
     "metadata": {},
     "output_type": "execute_result"
    }
   ],
   "source": [
    "# Testing the new Metric\n",
    "model = get_model()\n",
    "\n",
    "model.compile(\n",
    "    optimizer=opt,\n",
    "    loss= tfk.losses.SparseCategoricalCrossentropy(),\n",
    "    metrics= [cstm_metric()]\n",
    ")\n",
    "\n",
    "model.fit(tr_data, tr_lbls, epochs= EP)"
   ]
  },
  {
   "cell_type": "markdown",
   "metadata": {},
   "source": [
    "### **Handling losses and metrics that donot fit the standard signature**\n",
    "\n",
    "> **To achieve this, we call the add_loss() and add_metric() methods from within the call function of a custom Layer, and the metric and/or loss gets added to the main loss/metric passed to the model at the compile time**"
   ]
  },
  {
   "cell_type": "code",
   "execution_count": 13,
   "metadata": {},
   "outputs": [
    {
     "name": "stdout",
     "output_type": "stream",
     "text": [
      "Epoch 1/3\n",
      "1875/1875 [==============================] - 7s 3ms/step - loss: -15.4025 - accuracy: 0.0986\n",
      "Epoch 2/3\n",
      "1875/1875 [==============================] - 6s 3ms/step - loss: -231.3288 - accuracy: 0.1037A: 4s - loss\n",
      "Epoch 3/3\n",
      "1875/1875 [==============================] - 5s 3ms/step - loss: -518.1238 - accuracy: 0.1048A: 1s - loss: -487\n"
     ]
    },
    {
     "data": {
      "text/plain": [
       "<keras.callbacks.History at 0x217c3e60400>"
      ]
     },
     "execution_count": 13,
     "metadata": {},
     "output_type": "execute_result"
    }
   ],
   "source": [
    "class ActivityRegularizer(tfk.layers.Layer):\n",
    "    def call(self, inputs):\n",
    "        super(ActivityRegularizer, self).__init__()\n",
    "        self.add_loss(tf.reduce_mean(inputs) * 0.1)\n",
    "        return inputs\n",
    "\n",
    "# Test the layer!!\n",
    "inp = tfk.Input(shape= (784, ))\n",
    "model_1 = get_model()  \n",
    "\n",
    "reg_model = tfk.Sequential([\n",
    "    model_1,\n",
    "    ActivityRegularizer(),\n",
    "    tfk.layers.Dense(3)]\n",
    ")\n",
    "\n",
    "model_1 = compile_model(reg_model)\n",
    "\n",
    "model_1.fit(tr_data, tr_lbls, epochs=3, verbose= 1)\n",
    " "
   ]
  },
  {
   "cell_type": "markdown",
   "metadata": {},
   "source": [
    "#### **Handling Loss**"
   ]
  },
  {
   "cell_type": "code",
   "execution_count": 14,
   "metadata": {},
   "outputs": [
    {
     "name": "stdout",
     "output_type": "stream",
     "text": [
      "Dealing loss here!!\n",
      "Epoch 1/10\n",
      "938/938 [==============================] - 4s 4ms/step - loss: 3.2496A: 0s - los\n",
      "Epoch 2/10\n",
      "938/938 [==============================] - 3s 4ms/step - loss: 2.3102A: 2s - los - ET\n",
      "Epoch 3/10\n",
      "938/938 [==============================] - 3s 4ms/step - loss: 2.3039A: 0s - \n",
      "Epoch 4/10\n",
      "938/938 [==============================] - 3s 4ms/step - loss: 2.3023\n",
      "Epoch 5/10\n",
      "938/938 [==============================] - 4s 4ms/step - loss: 2.3018\n",
      "Epoch 6/10\n",
      "938/938 [==============================] - 4s 4ms/step - loss: 2.3017\n",
      "Epoch 7/10\n",
      "938/938 [==============================] - 4s 4ms/step - loss: 2.3017A: 0s \n",
      "Epoch 8/10\n",
      "938/938 [==============================] - 4s 4ms/step - loss: 2.3016\n",
      "Epoch 9/10\n",
      "938/938 [==============================] - 4s 4ms/step - loss: 2.3016\n",
      "Epoch 10/10\n",
      "938/938 [==============================] - 3s 4ms/step - loss: 2.3016\n"
     ]
    },
    {
     "data": {
      "text/plain": [
       "<keras.callbacks.History at 0x217c3f5d3a0>"
      ]
     },
     "execution_count": 14,
     "metadata": {},
     "output_type": "execute_result"
    }
   ],
   "source": [
    "print(\"Dealing loss here!!\")\n",
    "class ActReg(lyrs.Layer):\n",
    "    def call(self, inputs):\n",
    "        # Using add_los mothod here to alter loss computation...\n",
    "        self.add_loss(tf.reduce_sum(inputs) * 0.1)\n",
    "        return inputs # Just Pass through the Layer\n",
    "\n",
    "inp = tfk.Input(shape= (784, ))\n",
    "x_ten = lyrs.Dense(64, 'relu')(inp)\n",
    "x_ten = ActReg()(x_ten)\n",
    "\n",
    "x_ten = lyrs.Dense(64, 'relu')(x_ten)\n",
    "out = lyrs.Dense(10, 'relu')(x_ten)\n",
    "\n",
    "model = tfk.Model(inputs= inp, outputs= out)\n",
    "\n",
    "model.compile(\n",
    "    opt, \n",
    "    loss= tfk.losses.SparseCategoricalCrossentropy(from_logits= True)\n",
    ")\n",
    "\n",
    "model.fit(tr_data, tr_lbls, epochs= EP, verbose= VB, batch_size= BS)"
   ]
  },
  {
   "cell_type": "markdown",
   "metadata": {},
   "source": [
    "#### **Handling Metrcis**"
   ]
  },
  {
   "cell_type": "code",
   "execution_count": 15,
   "metadata": {},
   "outputs": [
    {
     "name": "stdout",
     "output_type": "stream",
     "text": [
      "Dealing metrics here!!\n",
      "Epoch 1/10\n",
      "750/750 [==============================] - 4s 4ms/step - loss: 0.3051 - accuracy: 0.9112 - val_loss: 0.1739 - val_accuracy: 0.9516\n",
      "Epoch 2/10\n",
      "750/750 [==============================] - 3s 3ms/step - loss: 0.1545 - accuracy: 0.9550 - val_loss: 0.1449 - val_accuracy: 0.9589\n",
      "Epoch 3/10\n",
      "750/750 [==============================] - 3s 4ms/step - loss: 0.1258 - accuracy: 0.9637 - val_loss: 0.1316 - val_accuracy: 0.9621\n",
      "Epoch 4/10\n",
      "750/750 [==============================] - 3s 4ms/step - loss: 0.1099 - accuracy: 0.9688 - val_loss: 0.1249 - val_accuracy: 0.9649\n",
      "Epoch 5/10\n",
      "750/750 [==============================] - 2s 3ms/step - loss: 0.1001 - accuracy: 0.9717 - val_loss: 0.1212 - val_accuracy: 0.9641\n",
      "Epoch 6/10\n",
      "750/750 [==============================] - 3s 4ms/step - loss: 0.0929 - accuracy: 0.9741 - val_loss: 0.1165 - val_accuracy: 0.9663\n",
      "Epoch 7/10\n",
      "750/750 [==============================] - 3s 4ms/step - loss: 0.0871 - accuracy: 0.9756 - val_loss: 0.1149 - val_accuracy: 0.9660\n",
      "Epoch 8/10\n",
      "750/750 [==============================] - 3s 4ms/step - loss: 0.0828 - accuracy: 0.9772 - val_loss: 0.1139 - val_accuracy: 0.9657\n",
      "Epoch 9/10\n",
      "750/750 [==============================] - 3s 4ms/step - loss: 0.0791 - accuracy: 0.9778 - val_loss: 0.1106 - val_accuracy: 0.9668\n",
      "Epoch 10/10\n",
      "750/750 [==============================] - 3s 4ms/step - loss: 0.0761 - accuracy: 0.9786 - val_loss: 0.1089 - val_accuracy: 0.9671\n"
     ]
    }
   ],
   "source": [
    "print(\"Dealing metrics here!!\")\n",
    "class MetricLoggingLayer(tfk.layers.Layer):\n",
    "    # The `aggregation` argument defines how to aggregate the \n",
    "    # per-batch values over each epoch\n",
    "    # Aggregation mean simply averages them.\n",
    "    def __init__(self, inputs):\n",
    "        super(MetricLoggingLayer, self).__init__()\n",
    "        self.add_metric(\n",
    "            tfk.backend.std(inputs), name='std_activation', aggregation= 'mean' \n",
    "        )\n",
    "        \n",
    "        return inputs\n",
    "    \n",
    "opt_sch = tfk.optimizers.schedules.InverseTimeDecay(\n",
    "    0.002,\n",
    "    decay_steps= 32 * EP,\n",
    "    decay_rate= 1,\n",
    "    staircase= False\n",
    ")\n",
    "\n",
    "model = get_model()\n",
    "model.compile(\n",
    "    loss= tfk.losses.SparseCategoricalCrossentropy(from_logits= True),\n",
    "    optimizer= tfk.optimizers.Adam(opt_sch),\n",
    "    metrics=['accuracy']\n",
    ")\n",
    "\n",
    "hist = model.fit(\n",
    "    tr_data,\n",
    "    tr_lbls,\n",
    "    epochs= EP,\n",
    "    batch_size= BS,\n",
    "    verbose= VB,\n",
    "    validation_split= 0.2\n",
    ")   \n",
    "        \n",
    "        "
   ]
  },
  {
   "cell_type": "markdown",
   "metadata": {},
   "source": [
    "### **Working with custom losses and metrics && Fuctional API**"
   ]
  },
  {
   "cell_type": "code",
   "execution_count": 19,
   "metadata": {},
   "outputs": [
    {
     "name": "stdout",
     "output_type": "stream",
     "text": [
      "Epoch 1/10\n",
      "750/750 [==============================] - 5s 5ms/step - loss: 0.5379 - accuracy: 0.8211 - std_of_activation_LastDenseLayer: 1.6912 - val_loss: 0.4112 - val_accuracy: 0.8533 - val_std_of_activation_LastDenseLayer: 1.8137\n",
      "Epoch 2/10\n",
      "750/750 [==============================] - 3s 5ms/step - loss: 0.3802 - accuracy: 0.8624 - std_of_activation_LastDenseLayer: 1.8761 - val_loss: 0.3785 - val_accuracy: 0.8623 - val_std_of_activation_LastDenseLayer: 1.9107\n",
      "Epoch 3/10\n",
      "750/750 [==============================] - 3s 4ms/step - loss: 0.3517 - accuracy: 0.8705 - std_of_activation_LastDenseLayer: 1.9350 - val_loss: 0.3633 - val_accuracy: 0.8658 - val_std_of_activation_LastDenseLayer: 1.9738\n",
      "Epoch 4/10\n",
      "750/750 [==============================] - 3s 4ms/step - loss: 0.3362 - accuracy: 0.8739 - std_of_activation_LastDenseLayer: 2.0146 - val_loss: 0.3565 - val_accuracy: 0.8673 - val_std_of_activation_LastDenseLayer: 2.0009\n",
      "Epoch 5/10\n",
      "750/750 [==============================] - 3s 4ms/step - loss: 0.3255 - accuracy: 0.8767 - std_of_activation_LastDenseLayer: 2.0358 - val_loss: 0.3545 - val_accuracy: 0.8673 - val_std_of_activation_LastDenseLayer: 2.0434\n",
      "Epoch 6/10\n",
      "750/750 [==============================] - 3s 4ms/step - loss: 0.3188 - accuracy: 0.8787 - std_of_activation_LastDenseLayer: 2.0670 - val_loss: 0.3502 - val_accuracy: 0.8677 - val_std_of_activation_LastDenseLayer: 2.0531\n",
      "Epoch 7/10\n",
      "750/750 [==============================] - 3s 4ms/step - loss: 0.3124 - accuracy: 0.8803 - std_of_activation_LastDenseLayer: 2.0856 - val_loss: 0.3464 - val_accuracy: 0.8698 - val_std_of_activation_LastDenseLayer: 2.0828\n",
      "Epoch 8/10\n",
      "750/750 [==============================] - 3s 4ms/step - loss: 0.3079 - accuracy: 0.8816 - std_of_activation_LastDenseLayer: 2.1086 - val_loss: 0.3468 - val_accuracy: 0.8687 - val_std_of_activation_LastDenseLayer: 2.1197\n",
      "Epoch 9/10\n",
      "750/750 [==============================] - 3s 4ms/step - loss: 0.3036 - accuracy: 0.8825 - std_of_activation_LastDenseLayer: 2.1386 - val_loss: 0.3440 - val_accuracy: 0.8704 - val_std_of_activation_LastDenseLayer: 2.1226\n",
      "Epoch 10/10\n",
      "750/750 [==============================] - 3s 4ms/step - loss: 0.3007 - accuracy: 0.8832 - std_of_activation_LastDenseLayer: 2.1479 - val_loss: 0.3434 - val_accuracy: 0.8704 - val_std_of_activation_LastDenseLayer: 2.1469\n"
     ]
    }
   ],
   "source": [
    "# Sequential Model!!\n",
    "inps = tfk.Input(\n",
    "    shape=(784, ), name='Inputs'\n",
    ")\n",
    "\n",
    "lyr = tfk.layers.Dense(64, 'relu', input_shape= (784, ))(inps)\n",
    "lyr = tfk.layers.Dense(64, 'relu')(lyr)\n",
    "lyr = tfk.layers.Dense(64, 'relu')(lyr)\n",
    "outs = tfk.layers.Dense(10, 'relu')(lyr)\n",
    "\n",
    "model_fn = tfk.Model(\n",
    "    inputs= inps,\n",
    "    outputs= outs,\n",
    "    name= 'FuncModel_with_CustomLosses_Metrics'\n",
    ")\n",
    "\n",
    "model.add_loss(\n",
    "    Mean_SQ_Error \n",
    "    # tf.reduce_sum(x1) * 0.1\n",
    ")\n",
    "\n",
    "model_fn.add_metric(\n",
    "    tfk.backend.std(lyr), name='std_of_activation_LastDenseLayer', aggregation='mean'\n",
    ")\n",
    "\n",
    "model_fn.compile(\n",
    "    loss= tfk.losses.SparseCategoricalCrossentropy(from_logits= True),\n",
    "    optimizer= tfk.optimizers.Adam(opt_sch),\n",
    "    metrics=['accuracy']\n",
    ")\n",
    "\n",
    "\n",
    "hist = model_fn.fit(\n",
    "    tr_data,\n",
    "    tr_lbls,\n",
    "    epochs= EP,\n",
    "    batch_size= BS,\n",
    "    verbose= VB,\n",
    "    validation_split= 0.2\n",
    ")   \n"
   ]
  },
  {
   "cell_type": "markdown",
   "metadata": {},
   "source": [
    "### **Adding loss and metrics to a Layer**"
   ]
  },
  {
   "cell_type": "code",
   "execution_count": null,
   "metadata": {},
   "outputs": [],
   "source": [
    "class LogisticEndpoint(tfk.layers.Layer):\n",
    "    # this layer has Multiple functions.\n",
    "    # 1. Calculate loss for Model \n",
    "    # 2. Calculate evaluation metrics\n",
    "    # (No need to specify loss and metrics in model.compile)\n",
    "    # 3. Return a vector of probabilities for each class. tf.nn.softmax\n",
    "    def __init__(self, name=None):\n",
    "        super(LogisticEndpoint, self).__init__(name= name)\n",
    "        self.loss_fn = tfk.losses.SparseCategoricalCrossentropy(from_logits= True)\n",
    "        self.acc = tfk.metrics.BinaryAccuracy()\n",
    "        \n",
    "    def call(self, target, logits, sample_weis=None):\n",
    "        # Compute the training-time loss value and add it\n",
    "        # to the layer using `self.add_loss()`.\n",
    "        loss = self.loss_fn(target, logits, sample_weis)\n",
    "        self.add_loss(loss)\n",
    "        \n",
    "        # Log accuracy as a metric and add it\n",
    "        # to the layer using `self.add_metric()`\n",
    "        acc = self.acc(target, logits, sample_weis)\n",
    "        self.add_metric(acc, name= 'acc')\n",
    "        \n",
    "        # Return the inference-time prediction tensor (for `.predict()`).\n",
    "        return tf.nn.softmax(logits)\n",
    "    \n",
    "    \n",
    "\n",
    "# !!<==..==>!! I'll do this part at home !! !! !!\n"
   ]
  },
  {
   "cell_type": "markdown",
   "metadata": {},
   "source": [
    "### **Automatically setting apart a validation holdout set**\n",
    "> **`model.fit(..., validation_split= 0.xxxx)`  when your data is passed as NumPy arrays.**"
   ]
  },
  {
   "cell_type": "markdown",
   "metadata": {},
   "source": [
    "## **Training and Evaluation from tf.Datasets**\n"
   ]
  },
  {
   "cell_type": "markdown",
   "metadata": {},
   "source": [
    "### **TF.Datasets overview**\n",
    "**Handling data that comes in shape of tf.dataset object**\n",
    "> The tf.data API is a set of utilities in TensorFlow 2.0 for loading and preprocessing data in a way that's fast and scalable."
   ]
  },
  {
   "cell_type": "code",
   "execution_count": 33,
   "metadata": {},
   "outputs": [
    {
     "name": "stdout",
     "output_type": "stream",
     "text": [
      "Model: \"model_20\"\n",
      "_________________________________________________________________\n",
      " Layer (type)                Output Shape              Param #   \n",
      "=================================================================\n",
      " input_17 (InputLayer)       [(None, 784)]             0         \n",
      "                                                                 \n",
      " dense_62 (Dense)            (None, 64)                50240     \n",
      "                                                                 \n",
      " dense_63 (Dense)            (None, 64)                4160      \n",
      "                                                                 \n",
      " dense_64 (Dense)            (None, 10)                650       \n",
      "                                                                 \n",
      "=================================================================\n",
      "Total params: 55,050\n",
      "Trainable params: 55,050\n",
      "Non-trainable params: 0\n",
      "_________________________________________________________________\n",
      "Epoch 1/10\n",
      "938/938 [==============================] - 4s 4ms/step - loss: 2.9572 - accuracy: 0.0987\n",
      "Epoch 2/10\n",
      "938/938 [==============================] - 3s 3ms/step - loss: 1.2169 - accuracy: 0.0812\n",
      "Epoch 3/10\n",
      "938/938 [==============================] - 3s 4ms/step - loss: 0.8844 - accuracy: 0.0889: 0s - loss: 0.8904 - accuracy: 0.\n",
      "Epoch 4/10\n",
      "938/938 [==============================] - 4s 4ms/step - loss: 0.7126 - accuracy: 0.0854\n",
      "Epoch 5/10\n",
      "938/938 [==============================] - 3s 4ms/step - loss: 0.6040 - accuracy: 0.0915\n",
      "Epoch 6/10\n",
      "938/938 [==============================] - 3s 3ms/step - loss: 0.5324 - accuracy: 0.0923\n",
      "Epoch 7/10\n",
      "938/938 [==============================] - 3s 3ms/step - loss: 0.4677 - accuracy: 0.0952\n",
      "Epoch 8/10\n",
      "938/938 [==============================] - 4s 4ms/step - loss: 0.4214 - accuracy: 0.1034\n",
      "Epoch 9/10\n",
      "938/938 [==============================] - 3s 3ms/step - loss: 0.3748 - accuracy: 0.1111\n",
      "Epoch 10/10\n",
      "938/938 [==============================] - 3s 3ms/step - loss: 0.3408 - accuracy: 0.1101\n"
     ]
    },
    {
     "data": {
      "text/plain": [
       "<keras.callbacks.History at 0x217c370afd0>"
      ]
     },
     "execution_count": 33,
     "metadata": {},
     "output_type": "execute_result"
    }
   ],
   "source": [
    "model = compile_model(get_model())\n",
    "\n",
    "# For basic level, we'll use the same mnist data instance to create tf.dataset object\n",
    "\n",
    "# convert numpy data into tf.data.Dataset object (training data)\n",
    "training_dataset = tf.data.Dataset.from_tensor_slices((tr_data, tr_lbls))\n",
    "training_dataset = training_dataset.shuffle(buffer_size=1024).batch(64)  # Shuffle and slice\n",
    "\n",
    "\n",
    "# convert numpy data into tf.data.Dataset object (test data)\n",
    "test_dataset = tf.data.Dataset.from_tensor_slices((ts_data, ts_lbls))\n",
    "test_dataset = test_dataset.batch(64)\n",
    "\n",
    "training_dataset\n",
    "\n",
    "model.fit(\n",
    "    training_dataset, \n",
    "    epochs= EP,\n",
    "    verbose=VB,\n",
    ")"
   ]
  },
  {
   "cell_type": "markdown",
   "metadata": {},
   "source": [
    "### **Using a Validation dataset**"
   ]
  },
  {
   "cell_type": "markdown",
   "metadata": {},
   "source": [
    "## **Other supported input formats**"
   ]
  },
  {
   "cell_type": "markdown",
   "metadata": {},
   "source": [
    "## **Using tfk.utils.Sequence object as input**"
   ]
  },
  {
   "cell_type": "markdown",
   "metadata": {},
   "source": [
    "## **Using sample weighting and class weighting**"
   ]
  },
  {
   "cell_type": "markdown",
   "metadata": {},
   "source": [
    "### **Class Weights**"
   ]
  },
  {
   "cell_type": "markdown",
   "metadata": {},
   "source": [
    "### **Sample Weights**"
   ]
  },
  {
   "cell_type": "markdown",
   "metadata": {},
   "source": [
    "## **Passing data to multi-input/output models**"
   ]
  },
  {
   "cell_type": "markdown",
   "metadata": {},
   "source": [
    "## **Using Callbacks**"
   ]
  },
  {
   "cell_type": "markdown",
   "metadata": {},
   "source": [
    "### **Built-in callbacks**\n"
   ]
  },
  {
   "cell_type": "markdown",
   "metadata": {},
   "source": [
    "### **Writing custom callbacks**\n"
   ]
  },
  {
   "cell_type": "markdown",
   "metadata": {},
   "source": [
    "## **Model Checkpoints**"
   ]
  },
  {
   "cell_type": "markdown",
   "metadata": {},
   "source": [
    "## **Usign learning-rate schedules**"
   ]
  },
  {
   "cell_type": "markdown",
   "metadata": {},
   "source": [
    "### **Passing a schedule to an optimizer**"
   ]
  },
  {
   "cell_type": "markdown",
   "metadata": {},
   "source": [
    "### **Using callbacks to implement a dynamic learning rate schedule**"
   ]
  },
  {
   "cell_type": "markdown",
   "metadata": {},
   "source": [
    "## **Visualizing loss and metrics during training**"
   ]
  },
  {
   "cell_type": "markdown",
   "metadata": {},
   "source": [
    "### **Using Tensorboard callback**"
   ]
  },
  {
   "cell_type": "markdown",
   "metadata": {},
   "source": [
    "# **Wrapup**"
   ]
  }
 ],
 "metadata": {
  "interpreter": {
   "hash": "8b8b0bc04ec3d1dc0d456e2ffa50a3bb2db1f633383799a4f8b8e1b40d883f7f"
  },
  "kernelspec": {
   "display_name": "Python 3.8.8 ('Graphs_IDS')",
   "language": "python",
   "name": "python3"
  },
  "language_info": {
   "codemirror_mode": {
    "name": "ipython",
    "version": 3
   },
   "file_extension": ".py",
   "mimetype": "text/x-python",
   "name": "python",
   "nbconvert_exporter": "python",
   "pygments_lexer": "ipython3",
   "version": "3.8.12"
  },
  "orig_nbformat": 4
 },
 "nbformat": 4,
 "nbformat_minor": 2
}
