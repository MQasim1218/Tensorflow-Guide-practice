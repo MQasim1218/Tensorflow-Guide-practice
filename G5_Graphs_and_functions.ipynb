{
 "cells": [
  {
   "cell_type": "code",
   "execution_count": null,
   "metadata": {},
   "outputs": [],
   "source": [
    "'''\n",
    "    In this guide, we'll learn \n",
    "        1. how TensorFlow allows you to make simple changes to your code to get graphs, \n",
    "        2. how graphs are stored and represented, \n",
    "        3. and how you can use them to accelerate your models.      \n",
    "'''"
   ]
  },
  {
   "cell_type": "markdown",
   "metadata": {},
   "source": [
    "#### **TF.function**\n",
    "> * **`tf.function`: allows us to switch from eager-function to graph function**\n",
    "> * **`EagerExecution`: TensorFlow operations are executed by Python, operation by operation, and returning results back to Python**\n",
    "> * **`GraphExecution:` Graph execution means that tensor computations are executed as a TensorFlow graph**\n",
    "\n",
    "#### **TF.graph**\n",
    "> * **Graphs are data structures that contain a set of `tf.Operation` objects, which represent units of computation and `tf.Tensor` objects, which represent the units of data that flow between operations.**\n",
    "> * **Graphs increases Model `portability` outside of Python and increases `performance`.**\n",
    "> * **Portability: environments without Python interpreter, eg mobile apps, embedded devices, and backend servers**\n",
    "> * **TensorFlow uses graphs as the `format for saved models` when it exports them from Python.**"
   ]
  },
  {
   "cell_type": "markdown",
   "metadata": {},
   "source": [
    "##### **`Graph Optimization`:**\n",
    "> * **`Constant Folding`: Statically infer the value of tensors by folding constant nodes in computation.**\n",
    "> * **Separate sub-parts of a computation that are independent and split them between `threads or devices`.**\n",
    "> * **Simplify arithmetic operations by eliminating common sub-expressions.**\n",
    "\n",
    "**There is an entire optimization system, `Grappler`, to perform this and other speedups.**"
   ]
  },
  {
   "cell_type": "markdown",
   "metadata": {},
   "source": [
    "### **Setup**"
   ]
  },
  {
   "cell_type": "code",
   "execution_count": 3,
   "metadata": {},
   "outputs": [],
   "source": [
    "import tensorflow as tf\n",
    "import timeit as tit\n",
    "from datetime import datetime"
   ]
  },
  {
   "cell_type": "markdown",
   "metadata": {},
   "source": [
    "### **Taking advantage of Graphs**"
   ]
  },
  {
   "cell_type": "code",
   "execution_count": 33,
   "metadata": {},
   "outputs": [
    {
     "name": "stdout",
     "output_type": "stream",
     "text": [
      "Printing Tensor T1\n",
      " [[1.  4.  5.5]]\n",
      "\n",
      "Printing Tensor T2\n",
      " [[13.645496 47.51658 ]\n",
      " [25.756025 41.96839 ]\n",
      " [29.448595 17.214098]]\n",
      "\n",
      "Printing Tensor T3\n",
      " [[-2.6894324  -0.33422378]]\n",
      "\n",
      "Result of Python function:  [[275.94745 309.73346]] \n",
      "\n",
      "Result of TF.Graph function:  [[275.94745 309.73346]] \n",
      "\n",
      "The function failed\n"
     ]
    }
   ],
   "source": [
    "# Defining a regular python function\n",
    "def func(x, y, b):\n",
    "    ten = tf.matmul(x, y)\n",
    "    ten = ten + b\n",
    "    return ten\n",
    "\n",
    "# convert regular function to tf.graph\n",
    "graph_fn = tf.function(func)\n",
    "\n",
    "\n",
    "# Creating test tensors\n",
    "t1 = tf.constant([[1., 4., 5.5]]) # 1 x 3\n",
    "t2 = tf.random.uniform(shape=(3, 2), minval=10, maxval=50, dtype=tf.float32, seed=25) # 3 x 3\n",
    "t3 = tf.random.normal(shape=(1,2)) # 1 x 3 \n",
    "print('Printing Tensor T1\\n', t1.numpy())\n",
    "print()\n",
    "print('Printing Tensor T2\\n', t2.numpy())\n",
    "print()\n",
    "print('Printing Tensor T3\\n', t3.numpy())\n",
    "print()\n",
    "\n",
    "regular_fn_result = func(t1,t2,t3)\n",
    "print('Result of Python function: ', regular_fn_result.numpy(), '\\n')\n",
    "\n",
    "graph_fn_result = graph_fn(t1, t2, t3)\n",
    "print('Result of TF.Graph function: ', graph_fn_result.numpy(), '\\n')\n",
    "\n",
    "# Checking equility of the results\n",
    "try:\n",
    "    assert(regular_fn_result == graph_fn_result)\n",
    "except:\n",
    "    print('The function failed')\n"
   ]
  },
  {
   "cell_type": "code",
   "execution_count": 40,
   "metadata": {},
   "outputs": [
    {
     "name": "stdout",
     "output_type": "stream",
     "text": [
      "tf.Tensor([[40.5]], shape=(1, 1), dtype=float32)\n"
     ]
    }
   ],
   "source": [
    "\n",
    "def inner_fn(t1,t2,t3):\n",
    "    ten = tf.matmul(t1,t2)\n",
    "    ten = ten * t3\n",
    "    return ten\n",
    "# Using @tf.function directly to create graphs\n",
    "@tf.function\n",
    "def outr_fn(x):\n",
    "    t1 = tf.constant([[3.],[6.]])\n",
    "    t2 = tf.constant(4.5)\n",
    "\n",
    "    # tf.function applies to a function and all other functions it calls\n",
    "    return inner_fn(x, t1, t2)\n",
    "        \n",
    "# Calling the tf function\n",
    "t1 = tf.ones(shape=(1, 2))\n",
    "print(outr_fn(t1))\n"
   ]
  },
  {
   "cell_type": "markdown",
   "metadata": {},
   "source": [
    "* ##### **Python funtions to graphs**"
   ]
  },
  {
   "cell_type": "code",
   "execution_count": null,
   "metadata": {},
   "outputs": [],
   "source": []
  },
  {
   "cell_type": "markdown",
   "metadata": {},
   "source": [
    "* ##### **Polymorphism: One funtion, many graphs**"
   ]
  },
  {
   "cell_type": "markdown",
   "metadata": {},
   "source": [
    "### **Using TF.function**"
   ]
  },
  {
   "cell_type": "markdown",
   "metadata": {},
   "source": [
    "* ##### **Graph Exec vs Eager Exec**"
   ]
  },
  {
   "cell_type": "markdown",
   "metadata": {},
   "source": [
    "* ##### **Non-strict Execution**"
   ]
  },
  {
   "cell_type": "markdown",
   "metadata": {},
   "source": [
    "* ##### **Best practices** "
   ]
  },
  {
   "cell_type": "markdown",
   "metadata": {},
   "source": [
    "### **Optimization benchmarks**"
   ]
  },
  {
   "cell_type": "markdown",
   "metadata": {},
   "source": [
    "* ##### **Performance**"
   ]
  },
  {
   "cell_type": "markdown",
   "metadata": {},
   "source": []
  }
 ],
 "metadata": {
  "interpreter": {
   "hash": "c4921d659dc345d00c547c20e6555ee899053119512e0511319e19b47447e7ca"
  },
  "kernelspec": {
   "display_name": "Python 3.8.8 64-bit ('base': conda)",
   "language": "python",
   "name": "python3"
  },
  "language_info": {
   "codemirror_mode": {
    "name": "ipython",
    "version": 3
   },
   "file_extension": ".py",
   "mimetype": "text/x-python",
   "name": "python",
   "nbconvert_exporter": "python",
   "pygments_lexer": "ipython3",
   "version": "3.8.11"
  },
  "orig_nbformat": 4
 },
 "nbformat": 4,
 "nbformat_minor": 2
}
