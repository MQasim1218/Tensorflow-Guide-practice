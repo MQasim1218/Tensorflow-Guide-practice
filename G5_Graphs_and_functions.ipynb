{
 "cells": [
  {
   "cell_type": "code",
   "execution_count": null,
   "metadata": {},
   "outputs": [],
   "source": [
    "'''\n",
    "    In this guide, you'll learn \n",
    "        1. how TensorFlow allows you to make simple changes to your code to get graphs, \n",
    "        2. how graphs are stored and represented, \n",
    "        3. and how you can use them to accelerate your models.\n",
    "        \n",
    "    ---\n",
    "    TF.function\n",
    "    tf.function -- allows us to switch from eager-function to graph function\n",
    "        \n",
    "    --- \n",
    "    TF.graph\n",
    "        Graphs are data structures that contain a set of tf.Operation objects, which represent units of computation; \n",
    "        and tf.Tensor objects, which represent the units of data that flow between operations.\n",
    "    \n",
    "    EagerExecution: TensorFlow operations are executed by Python, \n",
    "                    operation by operation, and returning results back to Python\n",
    "    \n",
    "    GraphExecution: Graph execution means that tensor computations are \n",
    "                    executed as a TensorFlow graph\n",
    "    \n",
    "    Graph Exection increases Model portability outside of Python and increases performance\n",
    "     \n",
    "    \n",
    "'''\n"
   ]
  }
 ],
 "metadata": {
  "language_info": {
   "name": "python"
  },
  "orig_nbformat": 4
 },
 "nbformat": 4,
 "nbformat_minor": 2
}
