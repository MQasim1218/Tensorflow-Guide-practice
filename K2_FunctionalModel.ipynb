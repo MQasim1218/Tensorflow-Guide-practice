{
 "cells": [
  {
   "cell_type": "markdown",
   "metadata": {},
   "source": [
    "## **Setup + Introduction**"
   ]
  },
  {
   "cell_type": "code",
   "execution_count": 25,
   "metadata": {},
   "outputs": [],
   "source": [
    "import numpy as np\n",
    "\n",
    "import tensorflow as tf\n",
    "import tensorflow.keras as tfk\n",
    "from tensorflow.keras import layers as lyrs, optimizers as opts, activations as acts, losses as ls\n",
    "\n",
    "import matplotlib.pyplot as plt\n"
   ]
  },
  {
   "cell_type": "markdown",
   "metadata": {},
   "source": [
    "## **Training, evaluation, and inference**\n",
    "\n",
    ">> **The main idea is that a deep learning model is usually a directed acyclic graph (DAG) of layers. So the functional API is a way to build `graphs of layers`.**"
   ]
  },
  {
   "cell_type": "code",
   "execution_count": 2,
   "metadata": {},
   "outputs": [
    {
     "name": "stdout",
     "output_type": "stream",
     "text": [
      "Model: \"Classification_Model\"\n",
      "_________________________________________________________________\n",
      " Layer (type)                Output Shape              Param #   \n",
      "=================================================================\n",
      " Input_Layer (InputLayer)    [(None, 784)]             0         \n",
      "                                                                 \n",
      " Dense_1 (Dense)             (None, 128)               100480    \n",
      "                                                                 \n",
      " Dense_2 (Dense)             (None, 64)                8256      \n",
      "                                                                 \n",
      " OutputLayer (Dense)         (None, 10)                650       \n",
      "                                                                 \n",
      "=================================================================\n",
      "Total params: 109,386\n",
      "Trainable params: 109,386\n",
      "Non-trainable params: 0\n",
      "_________________________________________________________________\n"
     ]
    }
   ],
   "source": [
    "'''\n",
    "    Creating a Linear totplogy using functional layer!!\n",
    "    Topology:\n",
    "        Inputs([784]) => Dense(units= 64, 'relu') => Dense(units= 32, 'relu') => Dense(units= 10, 'softmax')\n",
    "'''\n",
    "\n",
    "inp = tfk.Input(shape=[784], name='Input_Layer')\n",
    "d1 = lyrs.Dense(128, 'relu', name= 'Dense_1')(inp)\n",
    "d2 = lyrs.Dense(64, 'relu', name= 'Dense_2')(d1)\n",
    "out = lyrs.Dense(10, 'softmax', name= 'OutputLayer')(d2)\n",
    "\n",
    "\n",
    "model = tfk.Model(inputs= inp, outputs= out, name='Classification_Model')\n",
    "model.summary()\n"
   ]
  },
  {
   "cell_type": "code",
   "execution_count": 5,
   "metadata": {},
   "outputs": [
    {
     "name": "stdout",
     "output_type": "stream",
     "text": [
      "('You must install pydot (`pip install pydot`) and install graphviz (see instructions at https://graphviz.gitlab.io/download/) ', 'for plot_model/model_to_dot to work.')\n"
     ]
    }
   ],
   "source": [
    "tfk.utils.plot_model(model, to_file='model.png', show_shapes= True)"
   ]
  },
  {
   "cell_type": "code",
   "execution_count": 67,
   "metadata": {},
   "outputs": [
    {
     "name": "stdout",
     "output_type": "stream",
     "text": [
      "(60000, 28, 28)\n",
      "uint8\n",
      "(10000, 784)\n",
      "<dtype: 'float32'>\n"
     ]
    }
   ],
   "source": [
    "from tensorflow.python.ops.numpy_ops import np_config\n",
    "np_config.enable_numpy_behavior()\n",
    "\n",
    "'''\n",
    "    1. Preparing data\n",
    "    2. Building the Model\n",
    "    3. Train and evaluate \n",
    "'''\n",
    "\n",
    "dataset = tfk.datasets.mnist\n",
    "(tr_data, tr_lbls), (ts_data, ts_lbls) = dataset.load_data()\n",
    "\n",
    "# We Flatten the incoming tensor, to convert its dimensions from [28, 28] to (28 x 28)\n",
    "# We use astype to change type of data\n",
    "\n",
    "print(tr_data.shape)\n",
    "print(tr_data.dtype)\n",
    "\n",
    "tr_data = lyrs.Flatten()(tr_data).astype('float32') / 255.0\n",
    "ts_data = ts_data.reshape(-1,784).astype('float32') / 255.0\n",
    "\n",
    "print(ts_data.shape)\n",
    "print(tr_data.dtype)\n",
    "\n"
   ]
  },
  {
   "cell_type": "code",
   "execution_count": 24,
   "metadata": {},
   "outputs": [
    {
     "name": "stdout",
     "output_type": "stream",
     "text": [
      "Epoch 1/100\n",
      "704/704 [==============================] - 6s 6ms/step - loss: 0.2445 - accuracy: 0.9258 - val_loss: 0.1422 - val_accuracy: 0.9565\n",
      "Epoch 2/100\n",
      "704/704 [==============================] - 3s 5ms/step - loss: 0.1184 - accuracy: 0.9642 - val_loss: 0.1239 - val_accuracy: 0.9620\n",
      "Epoch 3/100\n",
      "704/704 [==============================] - 3s 5ms/step - loss: 0.0884 - accuracy: 0.9727 - val_loss: 0.1263 - val_accuracy: 0.9649\n",
      "Epoch 4/100\n",
      "704/704 [==============================] - 4s 6ms/step - loss: 0.0822 - accuracy: 0.9753 - val_loss: 0.1294 - val_accuracy: 0.9667\n",
      "Epoch 5/100\n",
      "704/704 [==============================] - 4s 6ms/step - loss: 0.0614 - accuracy: 0.9800 - val_loss: 0.1289 - val_accuracy: 0.9679\n",
      "Epoch 6/100\n",
      "704/704 [==============================] - 4s 6ms/step - loss: 0.0589 - accuracy: 0.9820 - val_loss: 0.1320 - val_accuracy: 0.9673\n",
      "Epoch 7/100\n",
      "704/704 [==============================] - 4s 6ms/step - loss: 0.0520 - accuracy: 0.9836 - val_loss: 0.1496 - val_accuracy: 0.9657\n",
      "Epoch 8/100\n",
      "704/704 [==============================] - 4s 5ms/step - loss: 0.0541 - accuracy: 0.9831 - val_loss: 0.1745 - val_accuracy: 0.9643\n",
      "Epoch 9/100\n",
      "704/704 [==============================] - 4s 5ms/step - loss: 0.0462 - accuracy: 0.9851 - val_loss: 0.1703 - val_accuracy: 0.9622\n",
      "Epoch 10/100\n",
      "704/704 [==============================] - 4s 5ms/step - loss: 0.0439 - accuracy: 0.9865 - val_loss: 0.1327 - val_accuracy: 0.9694\n",
      "Epoch 11/100\n",
      "704/704 [==============================] - 3s 5ms/step - loss: 0.0398 - accuracy: 0.9879 - val_loss: 0.2123 - val_accuracy: 0.9613\n",
      "Epoch 12/100\n",
      "704/704 [==============================] - 4s 5ms/step - loss: 0.0420 - accuracy: 0.9876 - val_loss: 0.1563 - val_accuracy: 0.9701\n",
      "Epoch 13/100\n",
      "704/704 [==============================] - 4s 6ms/step - loss: 0.0421 - accuracy: 0.9878 - val_loss: 0.1794 - val_accuracy: 0.9698\n",
      "Epoch 14/100\n",
      "704/704 [==============================] - 4s 6ms/step - loss: 0.0319 - accuracy: 0.9913 - val_loss: 0.1653 - val_accuracy: 0.9711\n",
      "Epoch 15/100\n",
      "704/704 [==============================] - 4s 5ms/step - loss: 0.0324 - accuracy: 0.9911 - val_loss: 0.1582 - val_accuracy: 0.9714\n",
      "Epoch 16/100\n",
      "704/704 [==============================] - 4s 5ms/step - loss: 0.0302 - accuracy: 0.9909 - val_loss: 0.2276 - val_accuracy: 0.9623\n",
      "Epoch 17/100\n",
      "704/704 [==============================] - 3s 5ms/step - loss: 0.0296 - accuracy: 0.9912 - val_loss: 0.1719 - val_accuracy: 0.9698\n",
      "Epoch 18/100\n",
      "704/704 [==============================] - 4s 6ms/step - loss: 0.0262 - accuracy: 0.9926 - val_loss: 0.2266 - val_accuracy: 0.9685\n",
      "Epoch 19/100\n",
      "704/704 [==============================] - 4s 5ms/step - loss: 0.0373 - accuracy: 0.9899 - val_loss: 0.1966 - val_accuracy: 0.9718\n",
      "Epoch 20/100\n",
      "704/704 [==============================] - 3s 5ms/step - loss: 0.0278 - accuracy: 0.9929 - val_loss: 0.1955 - val_accuracy: 0.9706\n",
      "Epoch 21/100\n",
      "704/704 [==============================] - 3s 5ms/step - loss: 0.0371 - accuracy: 0.9906 - val_loss: 0.1883 - val_accuracy: 0.9728\n",
      "Epoch 22/100\n",
      "704/704 [==============================] - 3s 5ms/step - loss: 0.0315 - accuracy: 0.9921 - val_loss: 0.2158 - val_accuracy: 0.9696\n",
      "Epoch 23/100\n",
      "704/704 [==============================] - 3s 5ms/step - loss: 0.0275 - accuracy: 0.9930 - val_loss: 0.2431 - val_accuracy: 0.9693\n",
      "Epoch 24/100\n",
      "704/704 [==============================] - 3s 5ms/step - loss: 0.0323 - accuracy: 0.9916 - val_loss: 0.2323 - val_accuracy: 0.9708\n",
      "Epoch 25/100\n",
      "704/704 [==============================] - 4s 6ms/step - loss: 0.0233 - accuracy: 0.9936 - val_loss: 0.2336 - val_accuracy: 0.9690\n",
      "Epoch 26/100\n",
      "704/704 [==============================] - 4s 5ms/step - loss: 0.0313 - accuracy: 0.9926 - val_loss: 0.2340 - val_accuracy: 0.9711\n",
      "Epoch 27/100\n",
      "704/704 [==============================] - 4s 5ms/step - loss: 0.0195 - accuracy: 0.9946 - val_loss: 0.2615 - val_accuracy: 0.9726\n",
      "Epoch 28/100\n",
      "704/704 [==============================] - 3s 5ms/step - loss: 0.0298 - accuracy: 0.9932 - val_loss: 0.2719 - val_accuracy: 0.9698\n",
      "Epoch 29/100\n",
      "704/704 [==============================] - 3s 5ms/step - loss: 0.0244 - accuracy: 0.9944 - val_loss: 0.3190 - val_accuracy: 0.9611\n",
      "Epoch 30/100\n",
      "704/704 [==============================] - 3s 5ms/step - loss: 0.0294 - accuracy: 0.9927 - val_loss: 0.2932 - val_accuracy: 0.9687\n",
      "Epoch 31/100\n",
      "704/704 [==============================] - 3s 5ms/step - loss: 0.0248 - accuracy: 0.9939 - val_loss: 0.2500 - val_accuracy: 0.9734\n",
      "Epoch 32/100\n",
      "704/704 [==============================] - 3s 5ms/step - loss: 0.0250 - accuracy: 0.9944 - val_loss: 0.2370 - val_accuracy: 0.9739\n",
      "Epoch 33/100\n",
      "704/704 [==============================] - 3s 5ms/step - loss: 0.0265 - accuracy: 0.9942 - val_loss: 0.2824 - val_accuracy: 0.9693\n",
      "Epoch 34/100\n",
      "704/704 [==============================] - 3s 5ms/step - loss: 0.0259 - accuracy: 0.9942 - val_loss: 0.2840 - val_accuracy: 0.9677\n",
      "Epoch 35/100\n",
      "704/704 [==============================] - 3s 5ms/step - loss: 0.0173 - accuracy: 0.9956 - val_loss: 0.2769 - val_accuracy: 0.9723\n",
      "Epoch 36/100\n",
      "704/704 [==============================] - 3s 5ms/step - loss: 0.0237 - accuracy: 0.9947 - val_loss: 0.3235 - val_accuracy: 0.9667\n",
      "Epoch 37/100\n",
      "704/704 [==============================] - 3s 5ms/step - loss: 0.0253 - accuracy: 0.9949 - val_loss: 0.3371 - val_accuracy: 0.9705\n",
      "Epoch 38/100\n",
      "704/704 [==============================] - 3s 5ms/step - loss: 0.0264 - accuracy: 0.9943 - val_loss: 0.3352 - val_accuracy: 0.9666\n",
      "Epoch 39/100\n",
      "704/704 [==============================] - 3s 5ms/step - loss: 0.0246 - accuracy: 0.9948 - val_loss: 0.2773 - val_accuracy: 0.9709\n",
      "Epoch 40/100\n",
      "704/704 [==============================] - 4s 5ms/step - loss: 0.0203 - accuracy: 0.9950 - val_loss: 0.3004 - val_accuracy: 0.9722\n",
      "Epoch 41/100\n",
      "704/704 [==============================] - 3s 5ms/step - loss: 0.0278 - accuracy: 0.9942 - val_loss: 0.3988 - val_accuracy: 0.9661\n",
      "Epoch 42/100\n",
      "704/704 [==============================] - 3s 5ms/step - loss: 0.0237 - accuracy: 0.9953 - val_loss: 0.3589 - val_accuracy: 0.9701\n",
      "Epoch 43/100\n",
      "704/704 [==============================] - 3s 5ms/step - loss: 0.0243 - accuracy: 0.9953 - val_loss: 0.3684 - val_accuracy: 0.9719\n",
      "Epoch 44/100\n",
      "704/704 [==============================] - 3s 5ms/step - loss: 0.0285 - accuracy: 0.9947 - val_loss: 0.3837 - val_accuracy: 0.9683\n",
      "Epoch 45/100\n",
      "704/704 [==============================] - 3s 5ms/step - loss: 0.0282 - accuracy: 0.9949 - val_loss: 0.3539 - val_accuracy: 0.9719\n",
      "Epoch 46/100\n",
      "704/704 [==============================] - 4s 5ms/step - loss: 0.0206 - accuracy: 0.9958 - val_loss: 0.3954 - val_accuracy: 0.9715TA: 0s - loss: 0.0206 - \n",
      "Epoch 47/100\n",
      "704/704 [==============================] - 3s 5ms/step - loss: 0.0261 - accuracy: 0.9954 - val_loss: 0.3898 - val_accuracy: 0.9691\n",
      "Epoch 48/100\n",
      "704/704 [==============================] - 3s 4ms/step - loss: 0.0187 - accuracy: 0.9960 - val_loss: 0.3846 - val_accuracy: 0.9727\n",
      "Epoch 49/100\n",
      "704/704 [==============================] - 3s 5ms/step - loss: 0.0284 - accuracy: 0.9951 - val_loss: 0.4482 - val_accuracy: 0.9717\n",
      "Epoch 50/100\n",
      "704/704 [==============================] - 3s 5ms/step - loss: 0.0255 - accuracy: 0.9958 - val_loss: 0.4283 - val_accuracy: 0.9661\n",
      "Epoch 51/100\n",
      "704/704 [==============================] - 3s 5ms/step - loss: 0.0228 - accuracy: 0.9960 - val_loss: 0.3808 - val_accuracy: 0.9734\n",
      "Epoch 52/100\n",
      "704/704 [==============================] - 3s 5ms/step - loss: 0.0164 - accuracy: 0.9965 - val_loss: 0.3897 - val_accuracy: 0.9729\n",
      "Epoch 53/100\n",
      "704/704 [==============================] - 4s 5ms/step - loss: 0.0172 - accuracy: 0.9964 - val_loss: 0.4252 - val_accuracy: 0.9708\n",
      "Epoch 54/100\n",
      "704/704 [==============================] - 3s 5ms/step - loss: 0.0327 - accuracy: 0.9951 - val_loss: 0.3764 - val_accuracy: 0.9725\n",
      "Epoch 55/100\n",
      "704/704 [==============================] - 4s 5ms/step - loss: 0.0229 - accuracy: 0.9963 - val_loss: 0.4297 - val_accuracy: 0.9723\n",
      "Epoch 56/100\n",
      "704/704 [==============================] - 3s 5ms/step - loss: 0.0203 - accuracy: 0.9966 - val_loss: 0.4190 - val_accuracy: 0.9711\n",
      "Epoch 57/100\n",
      "704/704 [==============================] - 3s 5ms/step - loss: 0.0135 - accuracy: 0.9972 - val_loss: 0.4386 - val_accuracy: 0.9721\n",
      "Epoch 58/100\n",
      "704/704 [==============================] - 3s 5ms/step - loss: 0.0196 - accuracy: 0.9966 - val_loss: 0.5031 - val_accuracy: 0.9698\n",
      "Epoch 59/100\n",
      "704/704 [==============================] - 3s 5ms/step - loss: 0.0206 - accuracy: 0.9966 - val_loss: 0.4493 - val_accuracy: 0.9703\n",
      "Epoch 60/100\n",
      "704/704 [==============================] - 4s 5ms/step - loss: 0.0188 - accuracy: 0.9966 - val_loss: 0.5036 - val_accuracy: 0.9709\n",
      "Epoch 61/100\n",
      "704/704 [==============================] - 4s 5ms/step - loss: 0.0380 - accuracy: 0.9943 - val_loss: 0.4917 - val_accuracy: 0.9704\n",
      "Epoch 62/100\n",
      "704/704 [==============================] - 4s 6ms/step - loss: 0.0266 - accuracy: 0.9962 - val_loss: 0.4794 - val_accuracy: 0.9695\n",
      "Epoch 63/100\n",
      "704/704 [==============================] - 4s 6ms/step - loss: 0.0205 - accuracy: 0.9962 - val_loss: 0.4633 - val_accuracy: 0.9723\n",
      "Epoch 64/100\n",
      "704/704 [==============================] - 3s 5ms/step - loss: 0.0168 - accuracy: 0.9969 - val_loss: 0.5148 - val_accuracy: 0.9720\n",
      "Epoch 65/100\n",
      "704/704 [==============================] - 3s 5ms/step - loss: 0.0265 - accuracy: 0.9961 - val_loss: 0.5981 - val_accuracy: 0.9698\n",
      "Epoch 66/100\n",
      "704/704 [==============================] - 3s 5ms/step - loss: 0.0212 - accuracy: 0.9963 - val_loss: 0.4729 - val_accuracy: 0.9733\n",
      "Epoch 67/100\n",
      "704/704 [==============================] - 3s 4ms/step - loss: 0.0313 - accuracy: 0.9953 - val_loss: 0.4662 - val_accuracy: 0.9703\n",
      "Epoch 68/100\n",
      "704/704 [==============================] - 3s 4ms/step - loss: 0.0199 - accuracy: 0.9970 - val_loss: 0.4699 - val_accuracy: 0.9711\n",
      "Epoch 69/100\n",
      "704/704 [==============================] - 3s 5ms/step - loss: 0.0194 - accuracy: 0.9965 - val_loss: 0.4863 - val_accuracy: 0.9729\n",
      "Epoch 70/100\n",
      "704/704 [==============================] - 4s 5ms/step - loss: 0.0279 - accuracy: 0.9958 - val_loss: 0.4756 - val_accuracy: 0.9737\n",
      "Epoch 71/100\n",
      "704/704 [==============================] - 4s 5ms/step - loss: 0.0184 - accuracy: 0.9971 - val_loss: 0.4864 - val_accuracy: 0.9723\n",
      "Epoch 72/100\n",
      "704/704 [==============================] - 3s 5ms/step - loss: 0.0130 - accuracy: 0.9978 - val_loss: 0.4634 - val_accuracy: 0.9732\n",
      "Epoch 73/100\n",
      "704/704 [==============================] - 4s 5ms/step - loss: 0.0132 - accuracy: 0.9978 - val_loss: 0.5960 - val_accuracy: 0.9703\n",
      "Epoch 74/100\n",
      "704/704 [==============================] - 4s 5ms/step - loss: 0.0298 - accuracy: 0.9961 - val_loss: 0.5302 - val_accuracy: 0.9733\n",
      "Epoch 75/100\n",
      "704/704 [==============================] - 3s 5ms/step - loss: 0.0162 - accuracy: 0.9971 - val_loss: 0.6275 - val_accuracy: 0.9696\n",
      "Epoch 76/100\n",
      "704/704 [==============================] - 4s 5ms/step - loss: 0.0276 - accuracy: 0.9965 - val_loss: 0.6107 - val_accuracy: 0.9708\n",
      "Epoch 77/100\n",
      "704/704 [==============================] - 4s 6ms/step - loss: 0.0201 - accuracy: 0.9969 - val_loss: 0.5065 - val_accuracy: 0.9716\n",
      "Epoch 78/100\n",
      "704/704 [==============================] - 3s 5ms/step - loss: 0.0264 - accuracy: 0.9965 - val_loss: 0.6282 - val_accuracy: 0.9695\n",
      "Epoch 79/100\n",
      "704/704 [==============================] - 4s 5ms/step - loss: 0.0186 - accuracy: 0.9969 - val_loss: 0.4923 - val_accuracy: 0.9752\n",
      "Epoch 80/100\n",
      "704/704 [==============================] - 3s 5ms/step - loss: 0.0215 - accuracy: 0.9971 - val_loss: 0.5368 - val_accuracy: 0.9747\n",
      "Epoch 81/100\n",
      "704/704 [==============================] - 3s 5ms/step - loss: 0.0186 - accuracy: 0.9973 - val_loss: 0.6340 - val_accuracy: 0.9690\n",
      "Epoch 82/100\n",
      "704/704 [==============================] - 4s 5ms/step - loss: 0.0188 - accuracy: 0.9972 - val_loss: 0.5513 - val_accuracy: 0.9729\n",
      "Epoch 83/100\n",
      "704/704 [==============================] - 4s 5ms/step - loss: 0.0131 - accuracy: 0.9977 - val_loss: 0.5140 - val_accuracy: 0.9766\n",
      "Epoch 84/100\n",
      "704/704 [==============================] - 4s 5ms/step - loss: 0.0131 - accuracy: 0.9981 - val_loss: 0.6675 - val_accuracy: 0.9710\n",
      "Epoch 85/100\n",
      "704/704 [==============================] - 4s 5ms/step - loss: 0.0289 - accuracy: 0.9964 - val_loss: 0.6493 - val_accuracy: 0.9707\n",
      "Epoch 86/100\n",
      "704/704 [==============================] - 4s 5ms/step - loss: 0.0240 - accuracy: 0.9969 - val_loss: 0.5843 - val_accuracy: 0.9735\n",
      "Epoch 87/100\n",
      "704/704 [==============================] - 4s 5ms/step - loss: 0.0246 - accuracy: 0.9968 - val_loss: 0.6252 - val_accuracy: 0.9721\n",
      "Epoch 88/100\n",
      "704/704 [==============================] - 4s 5ms/step - loss: 0.0183 - accuracy: 0.9978 - val_loss: 0.6237 - val_accuracy: 0.9739\n",
      "Epoch 89/100\n",
      "704/704 [==============================] - 3s 5ms/step - loss: 0.0129 - accuracy: 0.9980 - val_loss: 0.6109 - val_accuracy: 0.9730\n",
      "Epoch 90/100\n",
      "704/704 [==============================] - 3s 4ms/step - loss: 0.0136 - accuracy: 0.9978 - val_loss: 0.7192 - val_accuracy: 0.9709\n",
      "Epoch 91/100\n",
      "704/704 [==============================] - 3s 4ms/step - loss: 0.0224 - accuracy: 0.9972 - val_loss: 0.6780 - val_accuracy: 0.9711\n",
      "Epoch 92/100\n",
      "704/704 [==============================] - 4s 5ms/step - loss: 0.0285 - accuracy: 0.9966 - val_loss: 0.5677 - val_accuracy: 0.9726\n",
      "Epoch 93/100\n",
      "704/704 [==============================] - 4s 5ms/step - loss: 0.0163 - accuracy: 0.9974 - val_loss: 0.5864 - val_accuracy: 0.9749\n",
      "Epoch 94/100\n",
      "704/704 [==============================] - 3s 5ms/step - loss: 0.0073 - accuracy: 0.9985 - val_loss: 0.6782 - val_accuracy: 0.9733\n",
      "Epoch 95/100\n",
      "704/704 [==============================] - 3s 5ms/step - loss: 0.0177 - accuracy: 0.9977 - val_loss: 0.6446 - val_accuracy: 0.9725\n",
      "Epoch 96/100\n",
      "704/704 [==============================] - 4s 5ms/step - loss: 0.0298 - accuracy: 0.9966 - val_loss: 0.6712 - val_accuracy: 0.9715\n",
      "Epoch 97/100\n",
      "704/704 [==============================] - 3s 5ms/step - loss: 0.0253 - accuracy: 0.9968 - val_loss: 0.7029 - val_accuracy: 0.9706\n",
      "Epoch 98/100\n",
      "704/704 [==============================] - 3s 4ms/step - loss: 0.0229 - accuracy: 0.9969 - val_loss: 0.6960 - val_accuracy: 0.9729\n",
      "Epoch 99/100\n",
      "704/704 [==============================] - 3s 4ms/step - loss: 0.0245 - accuracy: 0.9974 - val_loss: 0.6791 - val_accuracy: 0.9727\n",
      "Epoch 100/100\n",
      "704/704 [==============================] - 3s 4ms/step - loss: 0.0118 - accuracy: 0.9980 - val_loss: 0.7086 - val_accuracy: 0.9747\n"
     ]
    }
   ],
   "source": [
    "model.compile(\n",
    "    optimizer= opts.Adam(learning_rate= 0.005),\n",
    "    loss= ls.SparseCategoricalCrossentropy(),\n",
    "    metrics= ['accuracy']\n",
    ")\n",
    "\n",
    "his = model.fit(\n",
    "    tr_data,\n",
    "    tr_lbls,\n",
    "    validation_split=0.25,\n",
    "    batch_size=64,\n",
    "    epochs=100,\n",
    "    verbose=1\n",
    ")"
   ]
  },
  {
   "cell_type": "code",
   "execution_count": 51,
   "metadata": {},
   "outputs": [
    {
     "name": "stdout",
     "output_type": "stream",
     "text": [
      "dict_keys(['loss', 'accuracy', 'val_loss', 'val_accuracy'])\n"
     ]
    }
   ],
   "source": [
    "\n",
    "\n",
    "def plot_history(history, metric):\n",
    "    r = len(history[metric])\n",
    "    plt.plot(history[metric], label='Training')\n",
    "    plt.plot(history['val_'+ metric], label='Validation')\n",
    "    plt.title(metric)\n",
    "    \n",
    "    if metric == 'loss':\n",
    "        plt.ylim([0, 1])\n",
    "    else:\n",
    "        plt.ylim([0.9, 1.0])\n",
    "    plt.legend()\n",
    "        \n",
    "\n",
    "history = his.history\n",
    "print(history.keys())\n"
   ]
  },
  {
   "cell_type": "code",
   "execution_count": 52,
   "metadata": {},
   "outputs": [
    {
     "data": {
      "image/png": "[encoded data removed]",
      "text/plain": [
       "<Figure size 432x288 with 1 Axes>"
      ]
     },
     "metadata": {
      "needs_background": "light"
     },
     "output_type": "display_data"
    }
   ],
   "source": [
    "\n",
    "plot_history(history, 'loss')\n"
   ]
  },
  {
   "cell_type": "code",
   "execution_count": 53,
   "metadata": {},
   "outputs": [
    {
     "data": {
      "image/png": "[encoded data removed]",
      "text/plain": [
       "<Figure size 432x288 with 1 Axes>"
      ]
     },
     "metadata": {
      "needs_background": "light"
     },
     "output_type": "display_data"
    }
   ],
   "source": [
    "\n",
    "plot_history(history, 'accuracy')\n"
   ]
  },
  {
   "cell_type": "markdown",
   "metadata": {},
   "source": [
    "## **Save and serialize**\n",
    "**The standard way to save a functional model is to call model.save() to save the entire model as a single file. You can later recreate the same model from this file, even if the code that built the model is no longer available.**\n",
    "\n",
    "> **`The Saved Model includes:`**\n",
    "1. **Model Architecture**\n",
    "2. **Model Weights**\n",
    "3. **Model training config**\n",
    "4. **Optimizer and its state**"
   ]
  },
  {
   "cell_type": "code",
   "execution_count": 72,
   "metadata": {},
   "outputs": [
    {
     "name": "stdout",
     "output_type": "stream",
     "text": [
      "7\n",
      "2\n",
      "1\n",
      "0\n",
      "4\n",
      "1\n",
      "4\n",
      "9\n",
      "6\n",
      "9\n"
     ]
    }
   ],
   "source": [
    "# # save Model\n",
    "# model.save('SavedModel')\n",
    "\n",
    "# # delete existing model\n",
    "# del model\n",
    "\n",
    "# Reloading Model\n",
    "model_loaded = tfk.models.load_model('SavedModel')\n",
    "pred = model_loaded(ts_data[:10])\n",
    "\n",
    "\n",
    "tf.nn.softmax(pred)\n",
    "for i in pred:\n",
    "    print(np.argmax(i))\n",
    "    "
   ]
  },
  {
   "cell_type": "markdown",
   "metadata": {},
   "source": [
    "## **Reusing graph of layers to define multiple**"
   ]
  },
  {
   "cell_type": "code",
   "execution_count": 98,
   "metadata": {},
   "outputs": [
    {
     "name": "stdout",
     "output_type": "stream",
     "text": [
      "Model: \"Encoder\"\n",
      "_________________________________________________________________\n",
      " Layer (type)                Output Shape              Param #   \n",
      "=================================================================\n",
      " InputLayer (InputLayer)     [(None, 28, 28, 1)]       0         \n",
      "                                                                 \n",
      " conv2d_24 (Conv2D)          (None, 26, 26, 128)       1280      \n",
      "                                                                 \n",
      " conv2d_25 (Conv2D)          (None, 24, 24, 64)        73792     \n",
      "                                                                 \n",
      " max_pooling2d_6 (MaxPooling  (None, 8, 8, 64)         0         \n",
      " 2D)                                                             \n",
      "                                                                 \n",
      " conv2d_26 (Conv2D)          (None, 6, 6, 32)          18464     \n",
      "                                                                 \n",
      " conv2d_27 (Conv2D)          (None, 4, 4, 16)          4624      \n",
      "                                                                 \n",
      " global_max_pooling2d_4 (Glo  (None, 16)               0         \n",
      " balMaxPooling2D)                                                \n",
      "                                                                 \n",
      "=================================================================\n",
      "Total params: 98,160\n",
      "Trainable params: 98,160\n",
      "Non-trainable params: 0\n",
      "_________________________________________________________________\n"
     ]
    }
   ],
   "source": [
    "# First we will create an Encoder by stacking layers.\n",
    "# Then, we will reuse the existing layers graph to instantiate new model that decodes the encoder-output.\n",
    "\n",
    "encoder_inp = lyrs.Input((28, 28, 1), name='InputLayer')\n",
    "x = lyrs.Conv2D(128, 3, activation='relu')(encoder_inp)\n",
    "x = lyrs.Conv2D(64, 3, activation='relu')(x)\n",
    "x = lyrs.MaxPooling2D(3)(x)\n",
    "x = lyrs.Conv2D(32, 3, activation='relu')(x)\n",
    "x = lyrs.Conv2D(16, 3, activation='relu')(x)\n",
    "encoder_out = lyrs.GlobalMaxPooling2D()(x)\n",
    "\n",
    "model_encoder = tfk.Model(encoder_inp, encoder_out, name='Encoder')\n",
    "model_encoder.summary()\n"
   ]
  },
  {
   "cell_type": "code",
   "execution_count": 99,
   "metadata": {},
   "outputs": [
    {
     "name": "stdout",
     "output_type": "stream",
     "text": [
      "Model: \"autoencoder\"\n",
      "_________________________________________________________________\n",
      " Layer (type)                Output Shape              Param #   \n",
      "=================================================================\n",
      " InputLayer (InputLayer)     [(None, 28, 28, 1)]       0         \n",
      "                                                                 \n",
      " conv2d_24 (Conv2D)          (None, 26, 26, 128)       1280      \n",
      "                                                                 \n",
      " conv2d_25 (Conv2D)          (None, 24, 24, 64)        73792     \n",
      "                                                                 \n",
      " max_pooling2d_6 (MaxPooling  (None, 8, 8, 64)         0         \n",
      " 2D)                                                             \n",
      "                                                                 \n",
      " conv2d_26 (Conv2D)          (None, 6, 6, 32)          18464     \n",
      "                                                                 \n",
      " conv2d_27 (Conv2D)          (None, 4, 4, 16)          4624      \n",
      "                                                                 \n",
      " global_max_pooling2d_4 (Glo  (None, 16)               0         \n",
      " balMaxPooling2D)                                                \n",
      "                                                                 \n",
      " reshape_19 (Reshape)        (None, 4, 4, 1)           0         \n",
      "                                                                 \n",
      " conv2d_transpose_58 (Conv2D  (None, 6, 6, 128)        1280      \n",
      " Transpose)                                                      \n",
      "                                                                 \n",
      " conv2d_transpose_59 (Conv2D  (None, 8, 8, 64)         73792     \n",
      " Transpose)                                                      \n",
      "                                                                 \n",
      " up_sampling2d_13 (UpSamplin  (None, 24, 24, 64)       0         \n",
      " g2D)                                                            \n",
      "                                                                 \n",
      " conv2d_transpose_60 (Conv2D  (None, 26, 26, 32)       18464     \n",
      " Transpose)                                                      \n",
      "                                                                 \n",
      " conv2d_transpose_61 (Conv2D  (None, 28, 28, 1)        289       \n",
      " Transpose)                                                      \n",
      "                                                                 \n",
      "=================================================================\n",
      "Total params: 191,985\n",
      "Trainable params: 191,985\n",
      "Non-trainable params: 0\n",
      "_________________________________________________________________\n"
     ]
    }
   ],
   "source": [
    "# Now creating the decoder!!\n",
    "autoencoder_inp = lyrs.Reshape((4, 4, 1))(encoder_out)\n",
    "x = lyrs.Conv2DTranspose(128, 3, activation='relu')(autoencoder_inp)\n",
    "x = lyrs.Conv2DTranspose(64, 3, activation='relu')(x)\n",
    "x = lyrs.UpSampling2D(3)(x)\n",
    "x = lyrs.Conv2DTranspose(32, 3, activation='relu')(x)\n",
    "autoencoder_out = lyrs.Conv2DTranspose(1, 3, activation='relu')(x)\n",
    "\n",
    "model_autoencoder = tfk.Model(encoder_inp, autoencoder_out, name='autoencoder')\n",
    "model_autoencoder.summary()\n"
   ]
  },
  {
   "cell_type": "markdown",
   "metadata": {},
   "source": [
    "## **Callable Models, just like layers**"
   ]
  },
  {
   "cell_type": "markdown",
   "metadata": {},
   "source": [
    "> **Treating `NeuralNet-Models` like `KerasLayers` allows us to design modular-Models, which can take in any specific input and produce an output. Models can also be combined||stacked like layers to form pipelines(Model architecture)**"
   ]
  },
  {
   "cell_type": "code",
   "execution_count": 134,
   "metadata": {},
   "outputs": [
    {
     "name": "stdout",
     "output_type": "stream",
     "text": [
      "Model: \"Encoder\"\n",
      "_________________________________________________________________\n",
      " Layer (type)                Output Shape              Param #   \n",
      "=================================================================\n",
      " Encoded_Image (InputLayer)  [(None, 150, 150, 1)]     0         \n",
      "                                                                 \n",
      " conv2d_232 (Conv2D)         (None, 148, 148, 256)     2560      \n",
      "                                                                 \n",
      " conv2d_233 (Conv2D)         (None, 146, 146, 256)     590080    \n",
      "                                                                 \n",
      " conv2d_234 (Conv2D)         (None, 144, 144, 256)     590080    \n",
      "                                                                 \n",
      " max_pooling2d_79 (MaxPoolin  (None, 48, 48, 256)      0         \n",
      " g2D)                                                            \n",
      "                                                                 \n",
      " conv2d_235 (Conv2D)         (None, 46, 46, 128)       295040    \n",
      "                                                                 \n",
      " conv2d_236 (Conv2D)         (None, 44, 44, 128)       147584    \n",
      "                                                                 \n",
      " max_pooling2d_80 (MaxPoolin  (None, 22, 22, 128)      0         \n",
      " g2D)                                                            \n",
      "                                                                 \n",
      " conv2d_237 (Conv2D)         (None, 20, 20, 64)        73792     \n",
      "                                                                 \n",
      " conv2d_238 (Conv2D)         (None, 18, 18, 32)        18464     \n",
      "                                                                 \n",
      " conv2d_239 (Conv2D)         (None, 16, 16, 16)        4624      \n",
      "                                                                 \n",
      " max_pooling2d_81 (MaxPoolin  (None, 5, 5, 16)         0         \n",
      " g2D)                                                            \n",
      "                                                                 \n",
      " global_max_pooling2d_23 (Gl  (None, 16)               0         \n",
      " obalMaxPooling2D)                                               \n",
      "                                                                 \n",
      "=================================================================\n",
      "Total params: 1,722,224\n",
      "Trainable params: 1,722,224\n",
      "Non-trainable params: 0\n",
      "_________________________________________________________________\n",
      "Model: \"Decoder\"\n",
      "_________________________________________________________________\n",
      " Layer (type)                Output Shape              Param #   \n",
      "=================================================================\n",
      " Encoded_Image (InputLayer)  [(None, 25)]              0         \n",
      "                                                                 \n",
      " reshape_35 (Reshape)        (None, 5, 5, 1)           0         \n",
      "                                                                 \n",
      " up_sampling2d_49 (UpSamplin  (None, 15, 15, 1)        0         \n",
      " g2D)                                                            \n",
      "                                                                 \n",
      " conv2d_transpose_155 (Conv2  (None, 16, 16, 16)       80        \n",
      " DTranspose)                                                     \n",
      "                                                                 \n",
      " conv2d_transpose_156 (Conv2  (None, 18, 18, 32)       4640      \n",
      " DTranspose)                                                     \n",
      "                                                                 \n",
      " conv2d_transpose_157 (Conv2  (None, 20, 20, 64)       18496     \n",
      " DTranspose)                                                     \n",
      "                                                                 \n",
      " conv2d_transpose_158 (Conv2  (None, 22, 22, 64)       36928     \n",
      " DTranspose)                                                     \n",
      "                                                                 \n",
      " up_sampling2d_50 (UpSamplin  (None, 44, 44, 64)       0         \n",
      " g2D)                                                            \n",
      "                                                                 \n",
      " conv2d_transpose_159 (Conv2  (None, 46, 46, 128)      73856     \n",
      " DTranspose)                                                     \n",
      "                                                                 \n",
      " conv2d_transpose_160 (Conv2  (None, 48, 48, 128)      147584    \n",
      " DTranspose)                                                     \n",
      "                                                                 \n",
      " up_sampling2d_51 (UpSamplin  (None, 144, 144, 128)    0         \n",
      " g2D)                                                            \n",
      "                                                                 \n",
      " conv2d_transpose_161 (Conv2  (None, 146, 146, 64)     73792     \n",
      " DTranspose)                                                     \n",
      "                                                                 \n",
      " conv2d_transpose_162 (Conv2  (None, 148, 148, 64)     36928     \n",
      " DTranspose)                                                     \n",
      "                                                                 \n",
      " conv2d_transpose_163 (Conv2  (None, 150, 150, 1)      577       \n",
      " DTranspose)                                                     \n",
      "                                                                 \n",
      "=================================================================\n",
      "Total params: 392,881\n",
      "Trainable params: 392,881\n",
      "Non-trainable params: 0\n",
      "_________________________________________________________________\n",
      "WARNING:tensorflow:Model was constructed with shape (None, 150, 150, 1) for input KerasTensor(type_spec=TensorSpec(shape=(None, 150, 150, 1), dtype=tf.float32, name='Encoded_Image'), name='Encoded_Image', description=\"created by layer 'Encoded_Image'\"), but it was called on an input with incompatible shape (None, 4, 4, 1).\n"
     ]
    },
    {
     "name": "stderr",
     "output_type": "stream",
     "text": [
      "WARNING:tensorflow:Model was constructed with shape (None, 150, 150, 1) for input KerasTensor(type_spec=TensorSpec(shape=(None, 150, 150, 1), dtype=tf.float32, name='Encoded_Image'), name='Encoded_Image', description=\"created by layer 'Encoded_Image'\"), but it was called on an input with incompatible shape (None, 4, 4, 1).\n"
     ]
    },
    {
     "ename": "ValueError",
     "evalue": "Exception encountered when calling layer \"conv2d_233\" (type Conv2D).\n\nNegative dimension size caused by subtracting 3 from 2 for '{{node Encoder/conv2d_233/Conv2D}} = Conv2D[T=DT_FLOAT, data_format=\"NHWC\", dilations=[1, 1, 1, 1], explicit_paddings=[], padding=\"VALID\", strides=[1, 1, 1, 1], use_cudnn_on_gpu=true](Encoder/conv2d_232/Relu, Encoder/conv2d_233/Conv2D/ReadVariableOp)' with input shapes: [?,2,2,256], [3,3,256,256].\n\nCall arguments received:\n  • inputs=tf.Tensor(shape=(None, 2, 2, 256), dtype=float32)",
     "output_type": "error",
     "traceback": [
      "\u001b[1;31m---------------------------------------------------------------------------\u001b[0m",
      "\u001b[1;31mValueError\u001b[0m                                Traceback (most recent call last)",
      "\u001b[1;32m~\\AppData\\Local\\Temp/ipykernel_9300/162109755.py\u001b[0m in \u001b[0;36m<module>\u001b[1;34m\u001b[0m\n\u001b[0;32m     48\u001b[0m \u001b[0mautoenc_inp\u001b[0m \u001b[1;33m=\u001b[0m \u001b[0mtfk\u001b[0m\u001b[1;33m.\u001b[0m\u001b[0mInput\u001b[0m\u001b[1;33m(\u001b[0m\u001b[1;33m(\u001b[0m\u001b[1;36m150\u001b[0m\u001b[1;33m,\u001b[0m \u001b[1;36m150\u001b[0m\u001b[1;33m,\u001b[0m \u001b[1;36m1\u001b[0m\u001b[1;33m)\u001b[0m\u001b[1;33m,\u001b[0m \u001b[0mname\u001b[0m\u001b[1;33m=\u001b[0m\u001b[1;34m'AutoEncoder_Input'\u001b[0m\u001b[1;33m)\u001b[0m\u001b[1;33m\u001b[0m\u001b[1;33m\u001b[0m\u001b[0m\n\u001b[0;32m     49\u001b[0m \u001b[1;33m\u001b[0m\u001b[0m\n\u001b[1;32m---> 50\u001b[1;33m \u001b[0mencoded_image\u001b[0m \u001b[1;33m=\u001b[0m \u001b[0mModelEncoder\u001b[0m\u001b[1;33m(\u001b[0m\u001b[0mautoencoder_inp\u001b[0m\u001b[1;33m)\u001b[0m\u001b[1;33m\u001b[0m\u001b[1;33m\u001b[0m\u001b[0m\n\u001b[0m\u001b[0;32m     51\u001b[0m \u001b[0mdecoded_image\u001b[0m \u001b[1;33m=\u001b[0m \u001b[0mModelDecoder\u001b[0m\u001b[1;33m(\u001b[0m\u001b[0mencoded_image\u001b[0m\u001b[1;33m)\u001b[0m\u001b[1;33m\u001b[0m\u001b[1;33m\u001b[0m\u001b[0m\n\u001b[0;32m     52\u001b[0m \u001b[1;33m\u001b[0m\u001b[0m\n",
      "\u001b[1;32m~\\anaconda3\\envs\\Graphs_IDS\\lib\\site-packages\\keras\\utils\\traceback_utils.py\u001b[0m in \u001b[0;36merror_handler\u001b[1;34m(*args, **kwargs)\u001b[0m\n\u001b[0;32m     65\u001b[0m     \u001b[1;32mexcept\u001b[0m \u001b[0mException\u001b[0m \u001b[1;32mas\u001b[0m \u001b[0me\u001b[0m\u001b[1;33m:\u001b[0m  \u001b[1;31m# pylint: disable=broad-except\u001b[0m\u001b[1;33m\u001b[0m\u001b[1;33m\u001b[0m\u001b[0m\n\u001b[0;32m     66\u001b[0m       \u001b[0mfiltered_tb\u001b[0m \u001b[1;33m=\u001b[0m \u001b[0m_process_traceback_frames\u001b[0m\u001b[1;33m(\u001b[0m\u001b[0me\u001b[0m\u001b[1;33m.\u001b[0m\u001b[0m__traceback__\u001b[0m\u001b[1;33m)\u001b[0m\u001b[1;33m\u001b[0m\u001b[1;33m\u001b[0m\u001b[0m\n\u001b[1;32m---> 67\u001b[1;33m       \u001b[1;32mraise\u001b[0m \u001b[0me\u001b[0m\u001b[1;33m.\u001b[0m\u001b[0mwith_traceback\u001b[0m\u001b[1;33m(\u001b[0m\u001b[0mfiltered_tb\u001b[0m\u001b[1;33m)\u001b[0m \u001b[1;32mfrom\u001b[0m \u001b[1;32mNone\u001b[0m\u001b[1;33m\u001b[0m\u001b[1;33m\u001b[0m\u001b[0m\n\u001b[0m\u001b[0;32m     68\u001b[0m     \u001b[1;32mfinally\u001b[0m\u001b[1;33m:\u001b[0m\u001b[1;33m\u001b[0m\u001b[1;33m\u001b[0m\u001b[0m\n\u001b[0;32m     69\u001b[0m       \u001b[1;32mdel\u001b[0m \u001b[0mfiltered_tb\u001b[0m\u001b[1;33m\u001b[0m\u001b[1;33m\u001b[0m\u001b[0m\n",
      "\u001b[1;32m~\\anaconda3\\envs\\Graphs_IDS\\lib\\site-packages\\tensorflow\\python\\framework\\ops.py\u001b[0m in \u001b[0;36m_create_c_op\u001b[1;34m(graph, node_def, inputs, control_inputs, op_def)\u001b[0m\n\u001b[0;32m   1937\u001b[0m   \u001b[1;32mexcept\u001b[0m \u001b[0merrors\u001b[0m\u001b[1;33m.\u001b[0m\u001b[0mInvalidArgumentError\u001b[0m \u001b[1;32mas\u001b[0m \u001b[0me\u001b[0m\u001b[1;33m:\u001b[0m\u001b[1;33m\u001b[0m\u001b[1;33m\u001b[0m\u001b[0m\n\u001b[0;32m   1938\u001b[0m     \u001b[1;31m# Convert to ValueError for backwards compatibility.\u001b[0m\u001b[1;33m\u001b[0m\u001b[1;33m\u001b[0m\u001b[1;33m\u001b[0m\u001b[0m\n\u001b[1;32m-> 1939\u001b[1;33m     \u001b[1;32mraise\u001b[0m \u001b[0mValueError\u001b[0m\u001b[1;33m(\u001b[0m\u001b[0me\u001b[0m\u001b[1;33m.\u001b[0m\u001b[0mmessage\u001b[0m\u001b[1;33m)\u001b[0m\u001b[1;33m\u001b[0m\u001b[1;33m\u001b[0m\u001b[0m\n\u001b[0m\u001b[0;32m   1940\u001b[0m \u001b[1;33m\u001b[0m\u001b[0m\n\u001b[0;32m   1941\u001b[0m   \u001b[1;32mreturn\u001b[0m \u001b[0mc_op\u001b[0m\u001b[1;33m\u001b[0m\u001b[1;33m\u001b[0m\u001b[0m\n",
      "\u001b[1;31mValueError\u001b[0m: Exception encountered when calling layer \"conv2d_233\" (type Conv2D).\n\nNegative dimension size caused by subtracting 3 from 2 for '{{node Encoder/conv2d_233/Conv2D}} = Conv2D[T=DT_FLOAT, data_format=\"NHWC\", dilations=[1, 1, 1, 1], explicit_paddings=[], padding=\"VALID\", strides=[1, 1, 1, 1], use_cudnn_on_gpu=true](Encoder/conv2d_232/Relu, Encoder/conv2d_233/Conv2D/ReadVariableOp)' with input shapes: [?,2,2,256], [3,3,256,256].\n\nCall arguments received:\n  • inputs=tf.Tensor(shape=(None, 2, 2, 256), dtype=float32)"
     ]
    }
   ],
   "source": [
    "\"\"\"\n",
    "    In this part, we are going to form a autoencoder by \n",
    "    first creating seperate encoders and decoders, then chaining them together \n",
    "    to form autoencoder architecture\n",
    "\"\"\"\n",
    "\n",
    "Encoder_Inp = tfk.Input(shape=(150, 150, 1), name='Encoded_Image')\n",
    "lyr = lyrs.Conv2D(256, 3, activation='relu')(Encoder_Inp)\n",
    "lyr = lyrs.Conv2D(256, 3, activation='relu')(lyr)\n",
    "lyr = lyrs.Conv2D(256, 3, activation='relu')(lyr)\n",
    "lyr = lyrs.MaxPooling2D(3)(lyr)\n",
    "\n",
    "lyr = lyrs.Conv2D(128, 3, activation='relu')(lyr)\n",
    "lyr = lyrs.Conv2D(128, 3, activation='relu')(lyr)\n",
    "lyr = lyrs.MaxPooling2D(2)(lyr)\n",
    "\n",
    "lyr = lyrs.Conv2D(64, 3, activation='relu')(lyr)\n",
    "lyr = lyrs.Conv2D(32, 3, activation='relu')(lyr)\n",
    "lyr = lyrs.Conv2D(16, 3, activation='relu')(lyr)\n",
    "lyr = lyrs.MaxPooling2D(3)(lyr)\n",
    "Encoder_Out = lyrs.GlobalMaxPooling2D()(lyr)\n",
    "\n",
    "ModelEncoder = tfk.Model(Encoder_Inp, Encoder_Out, name='Encoder')\n",
    "ModelEncoder.summary()\n",
    "\n",
    "\n",
    "Decoder_Inp = tfk.Input(shape=(25, ), name='Encoded_Image')\n",
    "lyr = lyrs.Reshape((5, 5, 1))(Decoder_Inp)\n",
    "lyr = lyrs.UpSampling2D(3)(lyr)\n",
    "\n",
    "lyr = lyrs.Conv2DTranspose(16, 2, activation='relu')(lyr)\n",
    "lyr = lyrs.Conv2DTranspose(32, 3, activation='relu')(lyr)\n",
    "lyr = lyrs.Conv2DTranspose(64, 3, activation='relu')(lyr)\n",
    "lyr = lyrs.Conv2DTranspose(64, 3, activation='relu')(lyr)\n",
    "lyr = lyrs.UpSampling2D(2)(lyr)\n",
    "\n",
    "lyr = lyrs.Conv2DTranspose(128, 3, activation='relu')(lyr)\n",
    "lyr = lyrs.Conv2DTranspose(128, 3, activation='relu')(lyr)\n",
    "lyr = lyrs.UpSampling2D(3)(lyr)\n",
    "\n",
    "lyr = lyrs.Conv2DTranspose(64, 3, activation='relu')(lyr)\n",
    "lyr = lyrs.Conv2DTranspose(64, 3, activation='relu')(lyr)\n",
    "output = lyrs.Conv2DTranspose(1, 3, activation='relu')(lyr)\n",
    "\n",
    "ModelDecoder = tfk.Model(Decoder_Inp, output, name='Decoder')\n",
    "ModelDecoder.summary()\n",
    "\n",
    "autoenc_inp = tfk.Input((150, 150, 1), name='AutoEncoder_Input')\n",
    "\n",
    "encoded_image = ModelEncoder(autoencoder_inp)\n",
    "decoded_image = ModelDecoder(encoded_image)\n",
    "\n",
    "autoencoder = tfk.Model(autoenc_inp, decoded_image, name='AutoEncoder')\n",
    "autoencoder.summary()"
   ]
  },
  {
   "cell_type": "code",
   "execution_count": 133,
   "metadata": {},
   "outputs": [
    {
     "name": "stdout",
     "output_type": "stream",
     "text": [
      "Model: \"encoder\"\n",
      "_________________________________________________________________\n",
      " Layer (type)                Output Shape              Param #   \n",
      "=================================================================\n",
      " original_img (InputLayer)   [(None, 28, 28, 1)]       0         \n",
      "                                                                 \n",
      " conv2d_228 (Conv2D)         (None, 26, 26, 16)        160       \n",
      "                                                                 \n",
      " conv2d_229 (Conv2D)         (None, 24, 24, 32)        4640      \n",
      "                                                                 \n",
      " max_pooling2d_78 (MaxPoolin  (None, 8, 8, 32)         0         \n",
      " g2D)                                                            \n",
      "                                                                 \n",
      " conv2d_230 (Conv2D)         (None, 6, 6, 32)          9248      \n",
      "                                                                 \n",
      " conv2d_231 (Conv2D)         (None, 4, 4, 16)          4624      \n",
      "                                                                 \n",
      " global_max_pooling2d_22 (Gl  (None, 16)               0         \n",
      " obalMaxPooling2D)                                               \n",
      "                                                                 \n",
      "=================================================================\n",
      "Total params: 18,672\n",
      "Trainable params: 18,672\n",
      "Non-trainable params: 0\n",
      "_________________________________________________________________\n",
      "Model: \"decoder\"\n",
      "_________________________________________________________________\n",
      " Layer (type)                Output Shape              Param #   \n",
      "=================================================================\n",
      " encoded_img (InputLayer)    [(None, 16)]              0         \n",
      "                                                                 \n",
      " reshape_34 (Reshape)        (None, 4, 4, 1)           0         \n",
      "                                                                 \n",
      " conv2d_transpose_151 (Conv2  (None, 6, 6, 16)         160       \n",
      " DTranspose)                                                     \n",
      "                                                                 \n",
      " conv2d_transpose_152 (Conv2  (None, 8, 8, 32)         4640      \n",
      " DTranspose)                                                     \n",
      "                                                                 \n",
      " up_sampling2d_48 (UpSamplin  (None, 24, 24, 32)       0         \n",
      " g2D)                                                            \n",
      "                                                                 \n",
      " conv2d_transpose_153 (Conv2  (None, 26, 26, 16)       4624      \n",
      " DTranspose)                                                     \n",
      "                                                                 \n",
      " conv2d_transpose_154 (Conv2  (None, 28, 28, 1)        145       \n",
      " DTranspose)                                                     \n",
      "                                                                 \n",
      "=================================================================\n",
      "Total params: 9,569\n",
      "Trainable params: 9,569\n",
      "Non-trainable params: 0\n",
      "_________________________________________________________________\n",
      "Model: \"autoencoder\"\n",
      "_________________________________________________________________\n",
      " Layer (type)                Output Shape              Param #   \n",
      "=================================================================\n",
      " img (InputLayer)            [(None, 28, 28, 1)]       0         \n",
      "                                                                 \n",
      " encoder (Functional)        (None, 16)                18672     \n",
      "                                                                 \n",
      " decoder (Functional)        (None, 28, 28, 1)         9569      \n",
      "                                                                 \n",
      "=================================================================\n",
      "Total params: 28,241\n",
      "Trainable params: 28,241\n",
      "Non-trainable params: 0\n",
      "_________________________________________________________________\n"
     ]
    }
   ],
   "source": [
    "encoder_input = tfk.Input(shape=(28, 28, 1), name=\"original_img\")\n",
    "x = lyrs.Conv2D(16, 3, activation=\"relu\")(encoder_input)\n",
    "x = lyrs.Conv2D(32, 3, activation=\"relu\")(x)\n",
    "x = lyrs.MaxPooling2D(3)(x)\n",
    "x = lyrs.Conv2D(32, 3, activation=\"relu\")(x)\n",
    "x = lyrs.Conv2D(16, 3, activation=\"relu\")(x)\n",
    "encoder_output = lyrs.GlobalMaxPooling2D()(x)\n",
    "\n",
    "encoder = tfk.Model(encoder_input, encoder_output, name=\"encoder\")\n",
    "encoder.summary()\n",
    "\n",
    "decoder_input = tfk.Input(shape=(16,), name=\"encoded_img\")\n",
    "x = lyrs.Reshape((4, 4, 1))(decoder_input)\n",
    "x = lyrs.Conv2DTranspose(16, 3, activation=\"relu\")(x)\n",
    "x = lyrs.Conv2DTranspose(32, 3, activation=\"relu\")(x)\n",
    "x = lyrs.UpSampling2D(3)(x)\n",
    "x = lyrs.Conv2DTranspose(16, 3, activation=\"relu\")(x)\n",
    "decoder_output = lyrs.Conv2DTranspose(1, 3, activation=\"relu\")(x)\n",
    "\n",
    "decoder = tfk.Model(decoder_input, decoder_output, name=\"decoder\")\n",
    "decoder.summary()\n",
    "\n",
    "autoencoder_input = tfk.Input(shape=(28, 28, 1), name=\"img\")\n",
    "encoded_img = encoder(autoencoder_input)\n",
    "decoded_img = decoder(encoded_img)\n",
    "autoencoder = tfk.Model(autoencoder_input, decoded_img, name=\"autoencoder\")\n",
    "autoencoder.summary()\n"
   ]
  },
  {
   "cell_type": "markdown",
   "metadata": {},
   "source": [
    "## **Manipulate complex graph topologies**"
   ]
  },
  {
   "cell_type": "markdown",
   "metadata": {},
   "source": [
    "> #### **Multi Input||Outputs**"
   ]
  },
  {
   "cell_type": "markdown",
   "metadata": {},
   "source": [
    "> #### **Mini Resnet**"
   ]
  },
  {
   "cell_type": "markdown",
   "metadata": {},
   "source": [
    "## **Shared Layers**"
   ]
  },
  {
   "cell_type": "markdown",
   "metadata": {},
   "source": [
    "## **Extract and reuse Nodes in graph of layers**"
   ]
  },
  {
   "cell_type": "markdown",
   "metadata": {},
   "source": [
    "## **Extend the Func-API using custom-layers**"
   ]
  },
  {
   "cell_type": "markdown",
   "metadata": {},
   "source": [
    "## **Practical Use**"
   ]
  },
  {
   "cell_type": "markdown",
   "metadata": {},
   "source": [
    "> #### **Strengths**"
   ]
  },
  {
   "cell_type": "markdown",
   "metadata": {},
   "source": [
    "> #### **Weaknesses**"
   ]
  },
  {
   "cell_type": "markdown",
   "metadata": {},
   "source": [
    "## **Mix n Match API styles**"
   ]
  },
  {
   "cell_type": "markdown",
   "metadata": {},
   "source": []
  }
 ],
 "metadata": {
  "interpreter": {
   "hash": "8b8b0bc04ec3d1dc0d456e2ffa50a3bb2db1f633383799a4f8b8e1b40d883f7f"
  },
  "kernelspec": {
   "display_name": "Python 3.8.12 ('Graphs_IDS')",
   "language": "python",
   "name": "python3"
  },
  "language_info": {
   "codemirror_mode": {
    "name": "ipython",
    "version": 3
   },
   "file_extension": ".py",
   "mimetype": "text/x-python",
   "name": "python",
   "nbconvert_exporter": "python",
   "pygments_lexer": "ipython3",
   "version": "3.8.12"
  },
  "orig_nbformat": 4
 },
 "nbformat": 4,
 "nbformat_minor": 2
}
