{
 "cells": [
  {
   "cell_type": "markdown",
   "metadata": {},
   "source": [
    "## **Setup + Introduction**"
   ]
  },
  {
   "cell_type": "code",
   "execution_count": 1,
   "metadata": {},
   "outputs": [],
   "source": [
    "import numpy as np\n",
    "\n",
    "import tensorflow as tf\n",
    "import tensorflow.keras as tfk\n",
    "from tensorflow.keras import layers as lyrs, optimizers as opts, activations as acts, losses as ls\n",
    "\n",
    "import matplotlib.pyplot as plt\n"
   ]
  },
  {
   "cell_type": "markdown",
   "metadata": {},
   "source": [
    "## **Training, evaluation, and inference**\n",
    "\n",
    ">> **The main idea is that a deep learning model is usually a directed acyclic graph (DAG) of layers. So the functional API is a way to build `graphs of layers`.**"
   ]
  },
  {
   "cell_type": "code",
   "execution_count": 2,
   "metadata": {},
   "outputs": [
    {
     "name": "stdout",
     "output_type": "stream",
     "text": [
      "Model: \"Classification_Model\"\n",
      "_________________________________________________________________\n",
      " Layer (type)                Output Shape              Param #   \n",
      "=================================================================\n",
      " Input_Layer (InputLayer)    [(None, 784)]             0         \n",
      "                                                                 \n",
      " Dense_1 (Dense)             (None, 128)               100480    \n",
      "                                                                 \n",
      " Dense_2 (Dense)             (None, 64)                8256      \n",
      "                                                                 \n",
      " OutputLayer (Dense)         (None, 10)                650       \n",
      "                                                                 \n",
      "=================================================================\n",
      "Total params: 109,386\n",
      "Trainable params: 109,386\n",
      "Non-trainable params: 0\n",
      "_________________________________________________________________\n"
     ]
    }
   ],
   "source": [
    "'''\n",
    "    Creating a Linear totplogy using functional layer!!\n",
    "    Topology:\n",
    "        Inputs([784]) => Dense(units= 64, 'relu') => Dense(units= 32, 'relu') => Dense(units= 10, 'softmax')\n",
    "'''\n",
    "\n",
    "inp = tfk.Input(shape=[784], name='Input_Layer')\n",
    "d1 = lyrs.Dense(128, 'relu', name= 'Dense_1')(inp)\n",
    "d2 = lyrs.Dense(64, 'relu', name= 'Dense_2')(d1)\n",
    "out = lyrs.Dense(10, 'softmax', name= 'OutputLayer')(d2)\n",
    "\n",
    "\n",
    "model = tfk.Model(inputs= inp, outputs= out, name='Classification_Model')\n",
    "model.summary()\n"
   ]
  },
  {
   "cell_type": "code",
   "execution_count": 5,
   "metadata": {},
   "outputs": [
    {
     "data": {
      "image/png": "[encoded data removed]",
      "text/plain": [
       "<IPython.core.display.Image object>"
      ]
     },
     "execution_count": 5,
     "metadata": {},
     "output_type": "execute_result"
    }
   ],
   "source": [
    "tfk.utils.plot_model(model, to_file='model.png', show_shapes= True)"
   ]
  },
  {
   "cell_type": "code",
   "execution_count": 4,
   "metadata": {},
   "outputs": [
    {
     "name": "stdout",
     "output_type": "stream",
     "text": [
      "(60000, 28, 28)\n",
      "uint8\n",
      "(10000, 784)\n",
      "<dtype: 'float32'>\n"
     ]
    }
   ],
   "source": [
    "from tensorflow.python.ops.numpy_ops import np_config\n",
    "np_config.enable_numpy_behavior()\n",
    "\n",
    "'''\n",
    "    1. Preparing data\n",
    "    2. Building the Model\n",
    "    3. Train and evaluate \n",
    "'''\n",
    "\n",
    "dataset = tfk.datasets.mnist\n",
    "(tr_data, tr_lbls), (ts_data, ts_lbls) = dataset.load_data()\n",
    "\n",
    "# We Flatten the incoming tensor, to convert its dimensions from [28, 28] to (28 x 28)\n",
    "# We use astype to change type of data\n",
    "\n",
    "print(tr_data.shape)\n",
    "print(tr_data.dtype)\n",
    "\n",
    "tr_data = lyrs.Flatten()(tr_data).astype('float32') / 255.0\n",
    "ts_data = ts_data.reshape(-1,784).astype('float32') / 255.0\n",
    "\n",
    "print(ts_data.shape)\n",
    "print(tr_data.dtype)\n"
   ]
  },
  {
   "cell_type": "code",
   "execution_count": 5,
   "metadata": {},
   "outputs": [
    {
     "name": "stdout",
     "output_type": "stream",
     "text": [
      "Epoch 1/20\n",
      "704/704 [==============================] - 4s 5ms/step - loss: 0.2483 - accuracy: 0.9247 - val_loss: 0.1587 - val_accuracy: 0.9527\n",
      "Epoch 2/20\n",
      "704/704 [==============================] - 3s 4ms/step - loss: 0.1200 - accuracy: 0.9635 - val_loss: 0.1770 - val_accuracy: 0.9499\n",
      "Epoch 3/20\n",
      "704/704 [==============================] - 3s 4ms/step - loss: 0.0913 - accuracy: 0.9718 - val_loss: 0.1393 - val_accuracy: 0.9593\n",
      "Epoch 4/20\n",
      "704/704 [==============================] - 3s 4ms/step - loss: 0.0794 - accuracy: 0.9752 - val_loss: 0.1355 - val_accuracy: 0.9639\n",
      "Epoch 5/20\n",
      "704/704 [==============================] - 3s 4ms/step - loss: 0.0673 - accuracy: 0.9800 - val_loss: 0.1462 - val_accuracy: 0.9633\n",
      "Epoch 6/20\n",
      "704/704 [==============================] - 3s 4ms/step - loss: 0.0595 - accuracy: 0.9815 - val_loss: 0.1480 - val_accuracy: 0.9653\n",
      "Epoch 7/20\n",
      "704/704 [==============================] - 3s 4ms/step - loss: 0.0519 - accuracy: 0.9839 - val_loss: 0.1458 - val_accuracy: 0.9663\n",
      "Epoch 8/20\n",
      "704/704 [==============================] - 3s 5ms/step - loss: 0.0532 - accuracy: 0.9837 - val_loss: 0.1691 - val_accuracy: 0.9613\n",
      "Epoch 9/20\n",
      "704/704 [==============================] - 3s 5ms/step - loss: 0.0443 - accuracy: 0.9865 - val_loss: 0.1418 - val_accuracy: 0.9677\n",
      "Epoch 10/20\n",
      "704/704 [==============================] - 4s 5ms/step - loss: 0.0419 - accuracy: 0.9867 - val_loss: 0.1579 - val_accuracy: 0.9693\n",
      "Epoch 11/20\n",
      "704/704 [==============================] - 3s 5ms/step - loss: 0.0410 - accuracy: 0.9885 - val_loss: 0.1865 - val_accuracy: 0.9651\n",
      "Epoch 12/20\n",
      "704/704 [==============================] - 3s 5ms/step - loss: 0.0395 - accuracy: 0.9879 - val_loss: 0.1733 - val_accuracy: 0.9689\n",
      "Epoch 13/20\n",
      "704/704 [==============================] - 3s 5ms/step - loss: 0.0302 - accuracy: 0.9908 - val_loss: 0.1997 - val_accuracy: 0.9649\n",
      "Epoch 14/20\n",
      "704/704 [==============================] - 3s 5ms/step - loss: 0.0364 - accuracy: 0.9893 - val_loss: 0.1764 - val_accuracy: 0.9698\n",
      "Epoch 15/20\n",
      "704/704 [==============================] - 3s 5ms/step - loss: 0.0362 - accuracy: 0.9896 - val_loss: 0.2107 - val_accuracy: 0.9679\n",
      "Epoch 16/20\n",
      "704/704 [==============================] - 3s 4ms/step - loss: 0.0297 - accuracy: 0.9913 - val_loss: 0.1946 - val_accuracy: 0.9671\n",
      "Epoch 17/20\n",
      "704/704 [==============================] - 3s 5ms/step - loss: 0.0273 - accuracy: 0.9922 - val_loss: 0.2143 - val_accuracy: 0.9693\n",
      "Epoch 18/20\n",
      "704/704 [==============================] - 3s 5ms/step - loss: 0.0368 - accuracy: 0.9895 - val_loss: 0.2102 - val_accuracy: 0.9716\n",
      "Epoch 19/20\n",
      "704/704 [==============================] - 3s 5ms/step - loss: 0.0317 - accuracy: 0.9914 - val_loss: 0.2275 - val_accuracy: 0.9678\n",
      "Epoch 20/20\n",
      "704/704 [==============================] - 3s 5ms/step - loss: 0.0356 - accuracy: 0.9909 - val_loss: 0.2524 - val_accuracy: 0.9653\n"
     ]
    }
   ],
   "source": [
    "model.compile(\n",
    "    optimizer= opts.Adam(learning_rate= 0.005),\n",
    "    loss= ls.SparseCategoricalCrossentropy(),\n",
    "    metrics= ['accuracy']\n",
    ")\n",
    "\n",
    "his = model.fit(\n",
    "    tr_data,\n",
    "    tr_lbls,\n",
    "    validation_split=0.25,\n",
    "    batch_size=64,\n",
    "    epochs=20,\n",
    "    verbose=1\n",
    ")"
   ]
  },
  {
   "cell_type": "code",
   "execution_count": 6,
   "metadata": {},
   "outputs": [
    {
     "name": "stdout",
     "output_type": "stream",
     "text": [
      "dict_keys(['loss', 'accuracy', 'val_loss', 'val_accuracy'])\n"
     ]
    }
   ],
   "source": [
    "\n",
    "\n",
    "def plot_history(history, metric):\n",
    "    r = len(history[metric])\n",
    "    plt.plot(history[metric], label='Training')\n",
    "    plt.plot(history['val_'+ metric], label='Validation')\n",
    "    plt.title(metric)\n",
    "    \n",
    "    if metric == 'loss':\n",
    "        plt.ylim([0, 1])\n",
    "    else:\n",
    "        plt.ylim([0.9, 1.0])\n",
    "    plt.legend()\n",
    "        \n",
    "\n",
    "history = his.history\n",
    "print(history.keys())\n"
   ]
  },
  {
   "cell_type": "code",
   "execution_count": 7,
   "metadata": {},
   "outputs": [
    {
     "data": {
      "image/png": "[encoded data removed]",
      "text/plain": [
       "<Figure size 432x288 with 1 Axes>"
      ]
     },
     "metadata": {
      "needs_background": "light"
     },
     "output_type": "display_data"
    }
   ],
   "source": [
    "\n",
    "plot_history(history, 'loss')\n"
   ]
  },
  {
   "cell_type": "code",
   "execution_count": 8,
   "metadata": {},
   "outputs": [
    {
     "data": {
      "image/png": "[encoded data removed]",
      "text/plain": [
       "<Figure size 432x288 with 1 Axes>"
      ]
     },
     "metadata": {
      "needs_background": "light"
     },
     "output_type": "display_data"
    }
   ],
   "source": [
    "\n",
    "plot_history(history, 'accuracy')\n"
   ]
  },
  {
   "cell_type": "markdown",
   "metadata": {},
   "source": [
    "## **Save and serialize**\n",
    "**The standard way to save a functional model is to call model.save() to save the entire model as a single file. You can later recreate the same model from this file, even if the code that built the model is no longer available.**\n",
    "\n",
    "> **`The Saved Model includes:`**\n",
    "1. **Model Architecture**\n",
    "2. **Model Weights**\n",
    "3. **Model training config**\n",
    "4. **Optimizer and its state**"
   ]
  },
  {
   "cell_type": "code",
   "execution_count": 10,
   "metadata": {},
   "outputs": [
    {
     "name": "stderr",
     "output_type": "stream",
     "text": [
      "WARNING:absl:Function `_wrapped_model` contains input name(s) Input_Layer with unsupported characters which will be renamed to input_layer in the SavedModel.\n"
     ]
    },
    {
     "name": "stdout",
     "output_type": "stream",
     "text": [
      "INFO:tensorflow:Assets written to: SavedModel\\assets\n"
     ]
    },
    {
     "name": "stderr",
     "output_type": "stream",
     "text": [
      "INFO:tensorflow:Assets written to: SavedModel\\assets\n"
     ]
    },
    {
     "name": "stdout",
     "output_type": "stream",
     "text": [
      "7\n",
      "2\n",
      "1\n",
      "0\n",
      "4\n",
      "1\n",
      "4\n",
      "9\n",
      "6\n",
      "9\n"
     ]
    }
   ],
   "source": [
    "# save Model\n",
    "model.save('SavedModel')\n",
    "\n",
    "# delete existing model\n",
    "# !! del model !!\n",
    "\n",
    "# Reloading Model\n",
    "model_loaded = tfk.models.load_model('SavedModel')\n",
    "pred = model_loaded(ts_data[:10])\n",
    "\n",
    "\n",
    "tf.nn.softmax(pred)\n",
    "for i in pred:\n",
    "    print(np.argmax(i))\n",
    "    "
   ]
  },
  {
   "cell_type": "markdown",
   "metadata": {},
   "source": [
    "## **Reusing graph of layers to define multiple**"
   ]
  },
  {
   "cell_type": "code",
   "execution_count": 15,
   "metadata": {},
   "outputs": [
    {
     "name": "stdout",
     "output_type": "stream",
     "text": [
      "Model: \"Encoder\"\n",
      "_________________________________________________________________\n",
      " Layer (type)                Output Shape              Param #   \n",
      "=================================================================\n",
      " InputLayer (InputLayer)     [(None, 28, 28, 1)]       0         \n",
      "                                                                 \n",
      " conv2d_12 (Conv2D)          (None, 26, 26, 128)       1280      \n",
      "                                                                 \n",
      " conv2d_13 (Conv2D)          (None, 24, 24, 128)       147584    \n",
      "                                                                 \n",
      " max_pooling2d_4 (MaxPooling  (None, 8, 8, 128)        0         \n",
      " 2D)                                                             \n",
      "                                                                 \n",
      " conv2d_14 (Conv2D)          (None, 6, 6, 64)          73792     \n",
      "                                                                 \n",
      " conv2d_15 (Conv2D)          (None, 4, 4, 64)          36928     \n",
      "                                                                 \n",
      " global_max_pooling2d_2 (Glo  (None, 64)               0         \n",
      " balMaxPooling2D)                                                \n",
      "                                                                 \n",
      "=================================================================\n",
      "Total params: 259,584\n",
      "Trainable params: 259,584\n",
      "Non-trainable params: 0\n",
      "_________________________________________________________________\n"
     ]
    }
   ],
   "source": [
    "# First we will create an Encoder by stacking layers.\n",
    "# Then, we will reuse the existing layers graph to instantiate new model that decodes the encoder-output.\n",
    "\n",
    "encoder_inp = lyrs.Input((28, 28, 1), name='InputLayer')\n",
    "x = lyrs.Conv2D(128, 3, activation='relu')(encoder_inp)\n",
    "x = lyrs.Conv2D(128, 3, activation='relu')(x)\n",
    "x = lyrs.MaxPooling2D(3)(x)\n",
    "x = lyrs.Conv2D(64, 3, activation='relu')(x)\n",
    "x = lyrs.Conv2D(64, 3, activation='relu')(x)\n",
    "encoder_out = lyrs.GlobalMaxPooling2D()(x)\n",
    "\n",
    "model_encoder = tfk.Model(encoder_inp, encoder_out, name='Encoder')\n",
    "model_encoder.summary()\n"
   ]
  },
  {
   "cell_type": "code",
   "execution_count": 17,
   "metadata": {},
   "outputs": [
    {
     "name": "stdout",
     "output_type": "stream",
     "text": [
      "Model: \"autoencoder\"\n",
      "_________________________________________________________________\n",
      " Layer (type)                Output Shape              Param #   \n",
      "=================================================================\n",
      " InputLayer (InputLayer)     [(None, 28, 28, 1)]       0         \n",
      "                                                                 \n",
      " conv2d_12 (Conv2D)          (None, 26, 26, 128)       1280      \n",
      "                                                                 \n",
      " conv2d_13 (Conv2D)          (None, 24, 24, 128)       147584    \n",
      "                                                                 \n",
      " max_pooling2d_4 (MaxPooling  (None, 8, 8, 128)        0         \n",
      " 2D)                                                             \n",
      "                                                                 \n",
      " conv2d_14 (Conv2D)          (None, 6, 6, 64)          73792     \n",
      "                                                                 \n",
      " conv2d_15 (Conv2D)          (None, 4, 4, 64)          36928     \n",
      "                                                                 \n",
      " global_max_pooling2d_2 (Glo  (None, 64)               0         \n",
      " balMaxPooling2D)                                                \n",
      "                                                                 \n",
      " reshape_3 (Reshape)         (None, 8, 8, 1)           0         \n",
      "                                                                 \n",
      " conv2d_transpose_13 (Conv2D  (None, 10, 10, 128)      1280      \n",
      " Transpose)                                                      \n",
      "                                                                 \n",
      " conv2d_transpose_14 (Conv2D  (None, 12, 12, 64)       73792     \n",
      " Transpose)                                                      \n",
      "                                                                 \n",
      " up_sampling2d_4 (UpSampling  (None, 36, 36, 64)       0         \n",
      " 2D)                                                             \n",
      "                                                                 \n",
      " conv2d_transpose_15 (Conv2D  (None, 38, 38, 32)       18464     \n",
      " Transpose)                                                      \n",
      "                                                                 \n",
      " conv2d_transpose_16 (Conv2D  (None, 40, 40, 1)        289       \n",
      " Transpose)                                                      \n",
      "                                                                 \n",
      "=================================================================\n",
      "Total params: 353,409\n",
      "Trainable params: 353,409\n",
      "Non-trainable params: 0\n",
      "_________________________________________________________________\n"
     ]
    }
   ],
   "source": [
    "# Now creating the decoder!!\n",
    "autoencoder_inp = lyrs.Reshape((8, 8, 1))(encoder_out)\n",
    "x = lyrs.Conv2DTranspose(128, 3, activation='relu')(autoencoder_inp)\n",
    "x = lyrs.Conv2DTranspose(64, 3, activation='relu')(x)\n",
    "x = lyrs.UpSampling2D(3)(x)\n",
    "x = lyrs.Conv2DTranspose(32, 3, activation='relu')(x)\n",
    "autoencoder_out = lyrs.Conv2DTranspose(1, 3, activation='relu')(x)\n",
    "\n",
    "model_autoencoder = tfk.Model(encoder_inp, autoencoder_out, name='autoencoder')\n",
    "model_autoencoder.summary()\n"
   ]
  },
  {
   "cell_type": "markdown",
   "metadata": {},
   "source": [
    "## **Callable Models, just like layers**"
   ]
  },
  {
   "cell_type": "markdown",
   "metadata": {},
   "source": [
    "> **Treating `NeuralNet-Models` like `KerasLayers` allows us to design modular-Models, which can take in any specific input and produce an output. Models can also be combined||stacked like layers to form pipelines(Model architecture)**"
   ]
  },
  {
   "cell_type": "code",
   "execution_count": 29,
   "metadata": {},
   "outputs": [
    {
     "name": "stdout",
     "output_type": "stream",
     "text": [
      "Model: \"Encoder\"\n",
      "_________________________________________________________________\n",
      " Layer (type)                Output Shape              Param #   \n",
      "=================================================================\n",
      " Encoded_Image (InputLayer)  [(None, 150, 150, 1)]     0         \n",
      "                                                                 \n",
      " conv2d_75 (Conv2D)          (None, 148, 148, 128)     1280      \n",
      "                                                                 \n",
      " conv2d_76 (Conv2D)          (None, 146, 146, 128)     147584    \n",
      "                                                                 \n",
      " conv2d_77 (Conv2D)          (None, 144, 144, 128)     147584    \n",
      "                                                                 \n",
      " max_pooling2d_25 (MaxPoolin  (None, 48, 48, 128)      0         \n",
      " g2D)                                                            \n",
      "                                                                 \n",
      " conv2d_78 (Conv2D)          (None, 46, 46, 64)        73792     \n",
      "                                                                 \n",
      " conv2d_79 (Conv2D)          (None, 44, 44, 64)        36928     \n",
      "                                                                 \n",
      " conv2d_80 (Conv2D)          (None, 42, 42, 32)        18464     \n",
      "                                                                 \n",
      " max_pooling2d_26 (MaxPoolin  (None, 14, 14, 32)       0         \n",
      " g2D)                                                            \n",
      "                                                                 \n",
      " conv2d_81 (Conv2D)          (None, 12, 12, 32)        9248      \n",
      "                                                                 \n",
      " conv2d_82 (Conv2D)          (None, 10, 10, 32)        9248      \n",
      "                                                                 \n",
      " conv2d_83 (Conv2D)          (None, 8, 8, 16)          4624      \n",
      "                                                                 \n",
      " max_pooling2d_27 (MaxPoolin  (None, 4, 4, 16)         0         \n",
      " g2D)                                                            \n",
      "                                                                 \n",
      " global_max_pooling2d_10 (Gl  (None, 16)               0         \n",
      " obalMaxPooling2D)                                               \n",
      "                                                                 \n",
      "=================================================================\n",
      "Total params: 448,752\n",
      "Trainable params: 448,752\n",
      "Non-trainable params: 0\n",
      "_________________________________________________________________\n",
      "Model: \"Decoder\"\n",
      "_________________________________________________________________\n",
      " Layer (type)                Output Shape              Param #   \n",
      "=================================================================\n",
      " Encoded_Image (InputLayer)  [(None, 16)]              0         \n",
      "                                                                 \n",
      " reshape_13 (Reshape)        (None, 4, 4, 1)           0         \n",
      "                                                                 \n",
      " up_sampling2d_26 (UpSamplin  (None, 12, 12, 1)        0         \n",
      " g2D)                                                            \n",
      "                                                                 \n",
      " conv2d_transpose_80 (Conv2D  (None, 13, 13, 32)       160       \n",
      " Transpose)                                                      \n",
      "                                                                 \n",
      " conv2d_transpose_81 (Conv2D  (None, 15, 15, 32)       9248      \n",
      " Transpose)                                                      \n",
      "                                                                 \n",
      " conv2d_transpose_82 (Conv2D  (None, 17, 17, 64)       18496     \n",
      " Transpose)                                                      \n",
      "                                                                 \n",
      " conv2d_transpose_83 (Conv2D  (None, 19, 19, 64)       36928     \n",
      " Transpose)                                                      \n",
      "                                                                 \n",
      " up_sampling2d_27 (UpSamplin  (None, 38, 38, 64)       0         \n",
      " g2D)                                                            \n",
      "                                                                 \n",
      " conv2d_transpose_84 (Conv2D  (None, 40, 40, 128)      73856     \n",
      " Transpose)                                                      \n",
      "                                                                 \n",
      " conv2d_transpose_85 (Conv2D  (None, 42, 42, 128)      147584    \n",
      " Transpose)                                                      \n",
      "                                                                 \n",
      " up_sampling2d_28 (UpSamplin  (None, 126, 126, 128)    0         \n",
      " g2D)                                                            \n",
      "                                                                 \n",
      " conv2d_transpose_86 (Conv2D  (None, 128, 128, 64)     73792     \n",
      " Transpose)                                                      \n",
      "                                                                 \n",
      " conv2d_transpose_87 (Conv2D  (None, 130, 130, 64)     36928     \n",
      " Transpose)                                                      \n",
      "                                                                 \n",
      " conv2d_transpose_88 (Conv2D  (None, 132, 132, 1)      577       \n",
      " Transpose)                                                      \n",
      "                                                                 \n",
      "=================================================================\n",
      "Total params: 397,569\n",
      "Trainable params: 397,569\n",
      "Non-trainable params: 0\n",
      "_________________________________________________________________\n",
      "Model: \"AutoEncoder\"\n",
      "_________________________________________________________________\n",
      " Layer (type)                Output Shape              Param #   \n",
      "=================================================================\n",
      " AutoEncoder_Input (InputLay  [(None, 150, 150, 1)]    0         \n",
      " er)                                                             \n",
      "                                                                 \n",
      " Encoder (Functional)        (None, 16)                448752    \n",
      "                                                                 \n",
      " Decoder (Functional)        (None, 132, 132, 1)       397569    \n",
      "                                                                 \n",
      "=================================================================\n",
      "Total params: 846,321\n",
      "Trainable params: 846,321\n",
      "Non-trainable params: 0\n",
      "_________________________________________________________________\n"
     ]
    }
   ],
   "source": [
    "\"\"\"\n",
    "    In this part, we are going to form a autoencoder by \n",
    "    first creating seperate encoders and decoders, then chaining them together \n",
    "    to form autoencoder architecture\n",
    "\"\"\"\n",
    "\n",
    "Encoder_Inp = tfk.Input(shape=(150, 150, 1), name='Encoded_Image')\n",
    "lyr = lyrs.Conv2D(128, 3, activation='relu')(Encoder_Inp)\n",
    "lyr = lyrs.Conv2D(128, 3, activation='relu')(lyr)\n",
    "lyr = lyrs.Conv2D(128, 3, activation='relu')(lyr)\n",
    "lyr = lyrs.MaxPooling2D(3)(lyr)\n",
    "\n",
    "lyr = lyrs.Conv2D(64, 3, activation='relu')(lyr)\n",
    "lyr = lyrs.Conv2D(64, 3, activation='relu')(lyr)\n",
    "lyr = lyrs.Conv2D(32, 3, activation='relu')(lyr)\n",
    "lyr = lyrs.MaxPooling2D(3)(lyr)\n",
    "\n",
    "lyr = lyrs.Conv2D(32, 3, activation='relu')(lyr)\n",
    "lyr = lyrs.Conv2D(32, 3, activation='relu')(lyr)\n",
    "lyr = lyrs.Conv2D(16, 3, activation='relu')(lyr)\n",
    "lyr = lyrs.MaxPooling2D(2)(lyr)\n",
    "Encoder_Out = lyrs.GlobalMaxPooling2D()(lyr)\n",
    "\n",
    "ModelEncoder = tfk.Model(Encoder_Inp, Encoder_Out, name='Encoder')\n",
    "ModelEncoder.summary()\n",
    "\n",
    "\n",
    "Decoder_Inp = tfk.Input(shape=(16, ), name='Encoded_Image')\n",
    "lyr = lyrs.Reshape((4, 4, 1))(Decoder_Inp)\n",
    "lyr = lyrs.UpSampling2D(3)(lyr)\n",
    "\n",
    "lyr = lyrs.Conv2DTranspose(32, 2, activation='relu')(lyr)\n",
    "lyr = lyrs.Conv2DTranspose(32, 3, activation='relu')(lyr)\n",
    "lyr = lyrs.Conv2DTranspose(64, 3, activation='relu')(lyr)\n",
    "lyr = lyrs.Conv2DTranspose(64, 3, activation='relu')(lyr)\n",
    "lyr = lyrs.UpSampling2D(2)(lyr)\n",
    "\n",
    "lyr = lyrs.Conv2DTranspose(128, 3, activation='relu')(lyr)\n",
    "lyr = lyrs.Conv2DTranspose(128, 3, activation='relu')(lyr)\n",
    "lyr = lyrs.UpSampling2D(3)(lyr)\n",
    "\n",
    "lyr = lyrs.Conv2DTranspose(64, 3, activation='relu')(lyr)\n",
    "lyr = lyrs.Conv2DTranspose(64, 3, activation='relu')(lyr)\n",
    "output = lyrs.Conv2DTranspose(1, 3, activation='relu')(lyr)\n",
    "\n",
    "ModelDecoder = tfk.Model(Decoder_Inp, output, name='Decoder')\n",
    "ModelDecoder.summary()\n",
    "\n",
    "autoenc_inp = tfk.Input((150, 150, 1), name='AutoEncoder_Input')\n",
    "\n",
    "encoded_image = ModelEncoder(autoenc_inp)\n",
    "decoded_image = ModelDecoder(encoded_image)\n",
    "\n",
    "autoencoder = tfk.Model(autoenc_inp, decoded_image, name='AutoEncoder')\n",
    "autoencoder.summary()"
   ]
  },
  {
   "cell_type": "code",
   "execution_count": null,
   "metadata": {},
   "outputs": [],
   "source": [
    "encoder_input = tfk.Input(shape=(28, 28, 1), name=\"original_img\")\n",
    "x = lyrs.Conv2D(16, 3, activation=\"relu\")(encoder_input)\n",
    "x = lyrs.Conv2D(32, 3, activation=\"relu\")(x)\n",
    "x = lyrs.MaxPooling2D(3)(x)\n",
    "x = lyrs.Conv2D(32, 3, activation=\"relu\")(x)\n",
    "x = lyrs.Conv2D(16, 3, activation=\"relu\")(x)\n",
    "encoder_output = lyrs.GlobalMaxPooling2D()(x)\n",
    "\n",
    "encoder = tfk.Model(encoder_input, encoder_output, name=\"encoder\")\n",
    "encoder.summary()\n",
    "\n",
    "decoder_input = tfk.Input(shape=(16,), name=\"encoded_img\")\n",
    "x = lyrs.Reshape((4, 4, 1))(decoder_input)\n",
    "x = lyrs.Conv2DTranspose(16, 3, activation=\"relu\")(x)\n",
    "x = lyrs.Conv2DTranspose(32, 3, activation=\"relu\")(x)\n",
    "x = lyrs.UpSampling2D(3)(x)\n",
    "x = lyrs.Conv2DTranspose(16, 3, activation=\"relu\")(x)\n",
    "decoder_output = lyrs.Conv2DTranspose(1, 3, activation=\"relu\")(x)\n",
    "\n",
    "decoder = tfk.Model(decoder_input, decoder_output, name=\"decoder\")\n",
    "decoder.summary()\n",
    "\n",
    "autoencoder_input = tfk.Input(shape=(28, 28, 1), name=\"img\")\n",
    "encoded_img = encoder(autoencoder_input)\n",
    "decoded_img = decoder(encoded_img)\n",
    "autoencoder = tfk.Model(autoencoder_input, decoded_img, name=\"autoencoder\")\n",
    "autoencoder.summary()\n"
   ]
  },
  {
   "cell_type": "markdown",
   "metadata": {},
   "source": [
    "> **As you can see, the model can be nested: a model can contain sub-models (since a model is just like a layer). A common use case for model nesting is `ensembling`. For example, here's how to ensemble a set of models into a single model that `averages their predictions`**"
   ]
  },
  {
   "cell_type": "code",
   "execution_count": 52,
   "metadata": {},
   "outputs": [
    {
     "name": "stdout",
     "output_type": "stream",
     "text": [
      "Model: \"Ensemble_Model\"\n",
      "__________________________________________________________________________________________________\n",
      " Layer (type)                   Output Shape         Param #     Connected to                     \n",
      "==================================================================================================\n",
      " input_66 (InputLayer)          [(None, 256)]        0           []                               \n",
      "                                                                                                  \n",
      " Model_1 (Functional)           (None, 16)           42192       ['input_66[0][0]']               \n",
      "                                                                                                  \n",
      " Model_2 (Functional)           (None, 16)           42192       ['input_66[0][0]']               \n",
      "                                                                                                  \n",
      " Model_3 (Functional)           (None, 16)           42192       ['input_66[0][0]']               \n",
      "                                                                                                  \n",
      " average_12 (Average)           (None, 16)           0           ['Model_1[0][0]',                \n",
      "                                                                  'Model_2[0][0]',                \n",
      "                                                                  'Model_3[0][0]']                \n",
      "                                                                                                  \n",
      "==================================================================================================\n",
      "Total params: 126,576\n",
      "Trainable params: 126,576\n",
      "Non-trainable params: 0\n",
      "__________________________________________________________________________________________________\n",
      "dad\n"
     ]
    },
    {
     "data": {
      "text/plain": [
       "Ellipsis"
      ]
     },
     "execution_count": 52,
     "metadata": {},
     "output_type": "execute_result"
    }
   ],
   "source": [
    "def get_Model(name):\n",
    "    inp = tfk.Input(shape=(256, ))\n",
    "    lyr = lyrs.Dense(128, activation=acts.relu)(inp)\n",
    "    lyr = lyrs.Dense(64, activation=acts.relu)(lyr)\n",
    "    out = lyrs.Dense(16, activation=acts.relu)(lyr)\n",
    "    return tfk.Model(inp, out, name=name)\n",
    "\n",
    "# Creating 3 Samilar Models...\n",
    "m1 = get_Model('Model_1')\n",
    "m2 = get_Model('Model_2')\n",
    "m3 = get_Model('Model_3')\n",
    "\n",
    "# Calling the models on an input-layer...\n",
    "inp = tfk.Input(shape=(256, ))\n",
    "y1, y2, y3 = m1(inp), m2(inp), m3(inp)\n",
    "\n",
    "# Averaging the models_outputs using average layer...\n",
    "out = lyrs.average([y1, y2, y3])\n",
    "\n",
    "# Ensemble learning\n",
    "EnsmebleModel = tfk.Model(inputs= inp, outputs= out, name='Ensemble_Model')\n",
    "EnsmebleModel.summary()\n"
   ]
  },
  {
   "cell_type": "markdown",
   "metadata": {},
   "source": [
    "## **Manipulate complex graph topologies**"
   ]
  },
  {
   "cell_type": "markdown",
   "metadata": {},
   "source": [
    "> #### **Multi Inputs / Outputs**\n",
    "\n",
    "**Printing Movie Tickets for customers**\n",
    "\n",
    "**`Inputs:`**\n",
    "1. The Title of the ticket\n",
    "2. The text body of the ticket(categorical input)\n",
    "3. Tags added by the user\n",
    "\n",
    "**`Outputs:`**\n",
    "1. Priority between 0-1\n",
    "2. The department that should handle the ticket(softmax over the set of departments)\n"
   ]
  },
  {
   "cell_type": "code",
   "execution_count": 73,
   "metadata": {},
   "outputs": [],
   "source": [
    "num_tags = 12 # Number of unique issue-tags.\n",
    "num_words = 10000 # Size of vocabulary when preprocessing the text.\n",
    "num_depts = 4 # Number of departments for predictions."
   ]
  },
  {
   "cell_type": "code",
   "execution_count": 85,
   "metadata": {},
   "outputs": [
    {
     "data": {
      "image/png": "[encoded data removed]",
      "text/plain": [
       "<IPython.core.display.Image object>"
      ]
     },
     "execution_count": 85,
     "metadata": {},
     "output_type": "execute_result"
    }
   ],
   "source": [
    "num_tags = 12  # Number of unique issue tags\n",
    "num_words = 10000  # Size of vocabulary obtained when preprocessing text data\n",
    "num_departments = 4  # Number of departments for predictions\n",
    "\n",
    "title_input = tfk.Input(\n",
    "    shape=(None,), name=\"title\"\n",
    ")  # Variable-length sequence of ints\n",
    "body_input = tfk.Input(shape=(None,), name=\"body\")  # Variable-length sequence of ints\n",
    "tags_input = tfk.Input(\n",
    "    shape=(num_tags,), name=\"tags\"\n",
    ")  # Binary vectors of size `num_tags`\n",
    "\n",
    "# Embed each word in the title into a 64-dimensional vector\n",
    "title_features = lyrs.Embedding(num_words, 64)(title_input)\n",
    "# Embed each word in the text into a 64-dimensional vector\n",
    "body_features = lyrs.Embedding(num_words, 64)(body_input)\n",
    "\n",
    "# Reduce sequence of embedded words in the title into a single 128-dimensional vector\n",
    "title_features = lyrs.LSTM(128)(title_features)\n",
    "# Reduce sequence of embedded words in the body into a single 32-dimensional vector\n",
    "body_features = lyrs.LSTM(128)(body_features)\n",
    "\n",
    "# Merge all available features into a single large vector via concatenation\n",
    "x = lyrs.concatenate([title_features, body_features, tags_input])\n",
    "\n",
    "# Stick a logistic regression for priority prediction on top of the features\n",
    "priority_pred = lyrs.Dense(1, name=\"priority\")(x)\n",
    "# Stick a department classifier on top of the features\n",
    "department_pred = lyrs.Dense(num_departments, name=\"department\")(x)\n",
    "\n",
    "# Instantiate an end-to-end model predicting both priority and department\n",
    "model = tfk.Model(\n",
    "    inputs=[title_input, body_input, tags_input],\n",
    "    outputs=[priority_pred, department_pred],\n",
    ")\n",
    "\n",
    "tfk.utils.plot_model(model, 'Model_TicketClassifier.png', show_shapes=True)"
   ]
  },
  {
   "cell_type": "code",
   "execution_count": 86,
   "metadata": {},
   "outputs": [
    {
     "name": "stdout",
     "output_type": "stream",
     "text": [
      "Epoch 1/20\n"
     ]
    }
   ],
   "source": [
    "model.compile(\n",
    "    optimizer=tfk.optimizers.RMSprop(1e-3),\n",
    "    loss=[\n",
    "        tfk.losses.BinaryCrossentropy(from_logits=True),\n",
    "        tfk.losses.CategoricalCrossentropy(from_logits=True),\n",
    "    ],\n",
    "    loss_weights=[1.0, 0.2],\n",
    ")\n",
    "\n",
    "\n",
    "# Dummy input data\n",
    "title_data = np.random.randint(num_words, size=(1280, 10))\n",
    "body_data = np.random.randint(num_words, size=(1280, 100))\n",
    "tags_data = np.random.randint(2, size=(1280, num_tags)).astype(\"float32\")\n",
    "\n",
    "# Dummy target data\n",
    "priority_targets = np.random.random(size=(1280, 1))\n",
    "dept_targets = np.random.randint(2, size=(1280, num_departments))\n",
    "\n",
    "model.fit(\n",
    "    {\"title\": title_data, \"body\": body_data, \"tags\": tags_data},\n",
    "    {\"priority\": priority_targets, \"department\": dept_targets},\n",
    "    epochs=20,\n",
    "    batch_size=32,\n",
    ")\n"
   ]
  },
  {
   "cell_type": "markdown",
   "metadata": {},
   "source": [
    "> #### **Mini Resnet**"
   ]
  },
  {
   "cell_type": "markdown",
   "metadata": {},
   "source": [
    "## **Shared Layers**"
   ]
  },
  {
   "cell_type": "markdown",
   "metadata": {},
   "source": [
    "## **Extract and reuse Nodes in graph of layers**"
   ]
  },
  {
   "cell_type": "markdown",
   "metadata": {},
   "source": [
    "## **Extend the Func-API using custom-layers**"
   ]
  },
  {
   "cell_type": "markdown",
   "metadata": {},
   "source": [
    "## **Practical Use**"
   ]
  },
  {
   "cell_type": "markdown",
   "metadata": {},
   "source": [
    "> #### **Strengths**"
   ]
  },
  {
   "cell_type": "markdown",
   "metadata": {},
   "source": [
    "> #### **Weaknesses**"
   ]
  },
  {
   "cell_type": "markdown",
   "metadata": {},
   "source": [
    "## **Mix n Match API styles**"
   ]
  }
 ],
 "metadata": {
  "interpreter": {
   "hash": "8b8b0bc04ec3d1dc0d456e2ffa50a3bb2db1f633383799a4f8b8e1b40d883f7f"
  },
  "kernelspec": {
   "display_name": "Python 3.8.12 ('Graphs_IDS')",
   "language": "python",
   "name": "python3"
  },
  "language_info": {
   "codemirror_mode": {
    "name": "ipython",
    "version": 3
   },
   "file_extension": ".py",
   "mimetype": "text/x-python",
   "name": "python",
   "nbconvert_exporter": "python",
   "pygments_lexer": "ipython3",
   "version": "3.8.12"
  },
  "orig_nbformat": 4
 },
 "nbformat": 4,
 "nbformat_minor": 2
}
