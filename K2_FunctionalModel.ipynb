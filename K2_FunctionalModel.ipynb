{
 "cells": [
  {
   "cell_type": "markdown",
   "metadata": {},
   "source": [
    "## **Setup + Introduction**"
   ]
  },
  {
   "cell_type": "code",
   "execution_count": 1,
   "metadata": {},
   "outputs": [],
   "source": [
    "import numpy as np\n",
    "\n",
    "import tensorflow as tf\n",
    "import tensorflow.keras as tfk\n",
    "from tensorflow.keras import layers as lyrs, optimizers as opts, activations as acts, losses as ls\n",
    "\n",
    "import matplotlib.pyplot as plt\n"
   ]
  },
  {
   "cell_type": "markdown",
   "metadata": {},
   "source": [
    "## **Training, evaluation, and inference**\n",
    "\n",
    ">> **The main idea is that a deep learning model is usually a directed acyclic graph (DAG) of layers. So the functional API is a way to build `graphs of layers`.**"
   ]
  },
  {
   "cell_type": "code",
   "execution_count": 2,
   "metadata": {},
   "outputs": [
    {
     "name": "stdout",
     "output_type": "stream",
     "text": [
      "Model: \"Classification_Model\"\n",
      "_________________________________________________________________\n",
      " Layer (type)                Output Shape              Param #   \n",
      "=================================================================\n",
      " Input_Layer (InputLayer)    [(None, 784)]             0         \n",
      "                                                                 \n",
      " Dense_1 (Dense)             (None, 128)               100480    \n",
      "                                                                 \n",
      " Dense_2 (Dense)             (None, 64)                8256      \n",
      "                                                                 \n",
      " OutputLayer (Dense)         (None, 10)                650       \n",
      "                                                                 \n",
      "=================================================================\n",
      "Total params: 109,386\n",
      "Trainable params: 109,386\n",
      "Non-trainable params: 0\n",
      "_________________________________________________________________\n"
     ]
    }
   ],
   "source": [
    "'''\n",
    "    Creating a Linear totplogy using functional layer!!\n",
    "    Topology:\n",
    "        Inputs([784]) => Dense(units= 64, 'relu') => Dense(units= 32, 'relu') => Dense(units= 10, 'softmax')\n",
    "'''\n",
    "\n",
    "inp = tfk.Input(shape=[784], name='Input_Layer')\n",
    "d1 = lyrs.Dense(128, 'relu', name= 'Dense_1')(inp)\n",
    "d2 = lyrs.Dense(64, 'relu', name= 'Dense_2')(d1)\n",
    "out = lyrs.Dense(10, 'softmax', name= 'OutputLayer')(d2)\n",
    "\n",
    "\n",
    "model = tfk.Model(inputs= inp, outputs= out, name='Classification_Model')\n",
    "model.summary()\n"
   ]
  },
  {
   "cell_type": "code",
   "execution_count": 5,
   "metadata": {},
   "outputs": [
    {
     "data": {
      "image/png": "[encoded data removed]",
      "text/plain": [
       "<IPython.core.display.Image object>"
      ]
     },
     "execution_count": 5,
     "metadata": {},
     "output_type": "execute_result"
    }
   ],
   "source": [
    "tfk.utils.plot_model(model, to_file='model.png', show_shapes= True)"
   ]
  },
  {
   "cell_type": "code",
   "execution_count": 6,
   "metadata": {},
   "outputs": [
    {
     "name": "stdout",
     "output_type": "stream",
     "text": [
      "(60000, 28, 28)\n",
      "uint8\n",
      "(10000, 784)\n",
      "<dtype: 'float32'>\n"
     ]
    }
   ],
   "source": [
    "from tensorflow.python.ops.numpy_ops import np_config\n",
    "np_config.enable_numpy_behavior()\n",
    "\n",
    "'''\n",
    "    1. Preparing data\n",
    "    2. Building the Model\n",
    "    3. Train and evaluate \n",
    "'''\n",
    "\n",
    "dataset = tfk.datasets.mnist\n",
    "(tr_data, tr_lbls), (ts_data, ts_lbls) = dataset.load_data()\n",
    "\n",
    "# We Flatten the incoming tensor, to convert its dimensions from [28, 28] to (28 x 28)\n",
    "# We use astype to change type of data\n",
    "\n",
    "print(tr_data.shape)\n",
    "print(tr_data.dtype)\n",
    "\n",
    "tr_data = lyrs.Flatten()(tr_data).astype('float32') / 255.0\n",
    "ts_data = ts_data.reshape(-1,784).astype('float32') / 255.0\n",
    "\n",
    "print(ts_data.shape)\n",
    "print(tr_data.dtype)\n"
   ]
  },
  {
   "cell_type": "code",
   "execution_count": 3,
   "metadata": {},
   "outputs": [
    {
     "ename": "NameError",
     "evalue": "name 'tr_data' is not defined",
     "output_type": "error",
     "traceback": [
      "\u001b[1;31m---------------------------------------------------------------------------\u001b[0m",
      "\u001b[1;31mNameError\u001b[0m                                 Traceback (most recent call last)",
      "\u001b[1;32m~\\AppData\\Local\\Temp/ipykernel_15916/848816042.py\u001b[0m in \u001b[0;36m<module>\u001b[1;34m\u001b[0m\n\u001b[0;32m      6\u001b[0m \u001b[1;33m\u001b[0m\u001b[0m\n\u001b[0;32m      7\u001b[0m his = model.fit(\n\u001b[1;32m----> 8\u001b[1;33m     \u001b[0mtr_data\u001b[0m\u001b[1;33m,\u001b[0m\u001b[1;33m\u001b[0m\u001b[1;33m\u001b[0m\u001b[0m\n\u001b[0m\u001b[0;32m      9\u001b[0m     \u001b[0mtr_lbls\u001b[0m\u001b[1;33m,\u001b[0m\u001b[1;33m\u001b[0m\u001b[1;33m\u001b[0m\u001b[0m\n\u001b[0;32m     10\u001b[0m     \u001b[0mvalidation_split\u001b[0m\u001b[1;33m=\u001b[0m\u001b[1;36m0.25\u001b[0m\u001b[1;33m,\u001b[0m\u001b[1;33m\u001b[0m\u001b[1;33m\u001b[0m\u001b[0m\n",
      "\u001b[1;31mNameError\u001b[0m: name 'tr_data' is not defined"
     ]
    }
   ],
   "source": [
    "model.compile(\n",
    "    optimizer= opts.Adam(learning_rate= 0.005),\n",
    "    loss= ls.SparseCategoricalCrossentropy(),\n",
    "    metrics= ['accuracy']\n",
    ")\n",
    "\n",
    "his = model.fit(\n",
    "    tr_data,\n",
    "    tr_lbls,\n",
    "    validation_split=0.25,\n",
    "    batch_size=64,\n",
    "    epochs=20,\n",
    "    verbose=1\n",
    ")"
   ]
  },
  {
   "cell_type": "code",
   "execution_count": 51,
   "metadata": {},
   "outputs": [
    {
     "name": "stdout",
     "output_type": "stream",
     "text": [
      "dict_keys(['loss', 'accuracy', 'val_loss', 'val_accuracy'])\n"
     ]
    }
   ],
   "source": [
    "\n",
    "\n",
    "def plot_history(history, metric):\n",
    "    r = len(history[metric])\n",
    "    plt.plot(history[metric], label='Training')\n",
    "    plt.plot(history['val_'+ metric], label='Validation')\n",
    "    plt.title(metric)\n",
    "    \n",
    "    if metric == 'loss':\n",
    "        plt.ylim([0, 1])\n",
    "    else:\n",
    "        plt.ylim([0.9, 1.0])\n",
    "    plt.legend()\n",
    "        \n",
    "\n",
    "history = his.history\n",
    "print(history.keys())\n"
   ]
  },
  {
   "cell_type": "code",
   "execution_count": 52,
   "metadata": {},
   "outputs": [
    {
     "data": {
      "image/png": "[encoded data removed]",
      "text/plain": [
       "<Figure size 432x288 with 1 Axes>"
      ]
     },
     "metadata": {
      "needs_background": "light"
     },
     "output_type": "display_data"
    }
   ],
   "source": [
    "\n",
    "plot_history(history, 'loss')\n"
   ]
  },
  {
   "cell_type": "code",
   "execution_count": 53,
   "metadata": {},
   "outputs": [
    {
     "data": {
      "image/png": "[encoded data removed]",
      "text/plain": [
       "<Figure size 432x288 with 1 Axes>"
      ]
     },
     "metadata": {
      "needs_background": "light"
     },
     "output_type": "display_data"
    }
   ],
   "source": [
    "\n",
    "plot_history(history, 'accuracy')\n"
   ]
  },
  {
   "cell_type": "markdown",
   "metadata": {},
   "source": [
    "## **Save and serialize**\n",
    "**The standard way to save a functional model is to call model.save() to save the entire model as a single file. You can later recreate the same model from this file, even if the code that built the model is no longer available.**\n",
    "\n",
    "> **`The Saved Model includes:`**\n",
    "1. **Model Architecture**\n",
    "2. **Model Weights**\n",
    "3. **Model training config**\n",
    "4. **Optimizer and its state**"
   ]
  },
  {
   "cell_type": "code",
   "execution_count": 72,
   "metadata": {},
   "outputs": [
    {
     "name": "stdout",
     "output_type": "stream",
     "text": [
      "7\n",
      "2\n",
      "1\n",
      "0\n",
      "4\n",
      "1\n",
      "4\n",
      "9\n",
      "6\n",
      "9\n"
     ]
    }
   ],
   "source": [
    "# # save Model\n",
    "# model.save('SavedModel')\n",
    "\n",
    "# # delete existing model\n",
    "# del model\n",
    "\n",
    "# Reloading Model\n",
    "model_loaded = tfk.models.load_model('SavedModel')\n",
    "pred = model_loaded(ts_data[:10])\n",
    "\n",
    "\n",
    "tf.nn.softmax(pred)\n",
    "for i in pred:\n",
    "    print(np.argmax(i))\n",
    "    "
   ]
  },
  {
   "cell_type": "markdown",
   "metadata": {},
   "source": [
    "## **Reusing graph of layers to define multiple**"
   ]
  },
  {
   "cell_type": "code",
   "execution_count": 98,
   "metadata": {},
   "outputs": [
    {
     "name": "stdout",
     "output_type": "stream",
     "text": [
      "Model: \"Encoder\"\n",
      "_________________________________________________________________\n",
      " Layer (type)                Output Shape              Param #   \n",
      "=================================================================\n",
      " InputLayer (InputLayer)     [(None, 28, 28, 1)]       0         \n",
      "                                                                 \n",
      " conv2d_24 (Conv2D)          (None, 26, 26, 128)       1280      \n",
      "                                                                 \n",
      " conv2d_25 (Conv2D)          (None, 24, 24, 64)        73792     \n",
      "                                                                 \n",
      " max_pooling2d_6 (MaxPooling  (None, 8, 8, 64)         0         \n",
      " 2D)                                                             \n",
      "                                                                 \n",
      " conv2d_26 (Conv2D)          (None, 6, 6, 32)          18464     \n",
      "                                                                 \n",
      " conv2d_27 (Conv2D)          (None, 4, 4, 16)          4624      \n",
      "                                                                 \n",
      " global_max_pooling2d_4 (Glo  (None, 16)               0         \n",
      " balMaxPooling2D)                                                \n",
      "                                                                 \n",
      "=================================================================\n",
      "Total params: 98,160\n",
      "Trainable params: 98,160\n",
      "Non-trainable params: 0\n",
      "_________________________________________________________________\n"
     ]
    }
   ],
   "source": [
    "# First we will create an Encoder by stacking layers.\n",
    "# Then, we will reuse the existing layers graph to instantiate new model that decodes the encoder-output.\n",
    "\n",
    "encoder_inp = lyrs.Input((28, 28, 1), name='InputLayer')\n",
    "x = lyrs.Conv2D(128, 3, activation='relu')(encoder_inp)\n",
    "x = lyrs.Conv2D(64, 3, activation='relu')(x)\n",
    "x = lyrs.MaxPooling2D(3)(x)\n",
    "x = lyrs.Conv2D(32, 3, activation='relu')(x)\n",
    "x = lyrs.Conv2D(16, 3, activation='relu')(x)\n",
    "encoder_out = lyrs.GlobalMaxPooling2D()(x)\n",
    "\n",
    "model_encoder = tfk.Model(encoder_inp, encoder_out, name='Encoder')\n",
    "model_encoder.summary()\n"
   ]
  },
  {
   "cell_type": "code",
   "execution_count": 99,
   "metadata": {},
   "outputs": [
    {
     "name": "stdout",
     "output_type": "stream",
     "text": [
      "Model: \"autoencoder\"\n",
      "_________________________________________________________________\n",
      " Layer (type)                Output Shape              Param #   \n",
      "=================================================================\n",
      " InputLayer (InputLayer)     [(None, 28, 28, 1)]       0         \n",
      "                                                                 \n",
      " conv2d_24 (Conv2D)          (None, 26, 26, 128)       1280      \n",
      "                                                                 \n",
      " conv2d_25 (Conv2D)          (None, 24, 24, 64)        73792     \n",
      "                                                                 \n",
      " max_pooling2d_6 (MaxPooling  (None, 8, 8, 64)         0         \n",
      " 2D)                                                             \n",
      "                                                                 \n",
      " conv2d_26 (Conv2D)          (None, 6, 6, 32)          18464     \n",
      "                                                                 \n",
      " conv2d_27 (Conv2D)          (None, 4, 4, 16)          4624      \n",
      "                                                                 \n",
      " global_max_pooling2d_4 (Glo  (None, 16)               0         \n",
      " balMaxPooling2D)                                                \n",
      "                                                                 \n",
      " reshape_19 (Reshape)        (None, 4, 4, 1)           0         \n",
      "                                                                 \n",
      " conv2d_transpose_58 (Conv2D  (None, 6, 6, 128)        1280      \n",
      " Transpose)                                                      \n",
      "                                                                 \n",
      " conv2d_transpose_59 (Conv2D  (None, 8, 8, 64)         73792     \n",
      " Transpose)                                                      \n",
      "                                                                 \n",
      " up_sampling2d_13 (UpSamplin  (None, 24, 24, 64)       0         \n",
      " g2D)                                                            \n",
      "                                                                 \n",
      " conv2d_transpose_60 (Conv2D  (None, 26, 26, 32)       18464     \n",
      " Transpose)                                                      \n",
      "                                                                 \n",
      " conv2d_transpose_61 (Conv2D  (None, 28, 28, 1)        289       \n",
      " Transpose)                                                      \n",
      "                                                                 \n",
      "=================================================================\n",
      "Total params: 191,985\n",
      "Trainable params: 191,985\n",
      "Non-trainable params: 0\n",
      "_________________________________________________________________\n"
     ]
    }
   ],
   "source": [
    "# Now creating the decoder!!\n",
    "autoencoder_inp = lyrs.Reshape((4, 4, 1))(encoder_out)\n",
    "x = lyrs.Conv2DTranspose(128, 3, activation='relu')(autoencoder_inp)\n",
    "x = lyrs.Conv2DTranspose(64, 3, activation='relu')(x)\n",
    "x = lyrs.UpSampling2D(3)(x)\n",
    "x = lyrs.Conv2DTranspose(32, 3, activation='relu')(x)\n",
    "autoencoder_out = lyrs.Conv2DTranspose(1, 3, activation='relu')(x)\n",
    "\n",
    "model_autoencoder = tfk.Model(encoder_inp, autoencoder_out, name='autoencoder')\n",
    "model_autoencoder.summary()\n"
   ]
  },
  {
   "cell_type": "markdown",
   "metadata": {},
   "source": [
    "## **Callable Models, just like layers**"
   ]
  },
  {
   "cell_type": "markdown",
   "metadata": {},
   "source": [
    "> **Treating `NeuralNet-Models` like `KerasLayers` allows us to design modular-Models, which can take in any specific input and produce an output. Models can also be combined||stacked like layers to form pipelines(Model architecture)**"
   ]
  },
  {
   "cell_type": "code",
   "execution_count": null,
   "metadata": {},
   "outputs": [],
   "source": [
    "\"\"\"\n",
    "    In this part, we are going to form a autoencoder by \n",
    "    first creating seperate encoders and decoders, then chaining them together \n",
    "    to form autoencoder architecture\n",
    "\"\"\"\n",
    "\n",
    "Encoder_Inp = tfk.Input(shape=(150, 150, 1), name='Encoded_Image')\n",
    "lyr = lyrs.Conv2D(256, 3, activation='relu')(Encoder_Inp)\n",
    "lyr = lyrs.Conv2D(256, 3, activation='relu')(lyr)\n",
    "lyr = lyrs.Conv2D(256, 3, activation='relu')(lyr)\n",
    "lyr = lyrs.MaxPooling2D(3)(lyr)\n",
    "\n",
    "lyr = lyrs.Conv2D(128, 3, activation='relu')(lyr)\n",
    "lyr = lyrs.Conv2D(128, 3, activation='relu')(lyr)\n",
    "lyr = lyrs.MaxPooling2D(2)(lyr)\n",
    "\n",
    "lyr = lyrs.Conv2D(64, 3, activation='relu')(lyr)\n",
    "lyr = lyrs.Conv2D(32, 3, activation='relu')(lyr)\n",
    "lyr = lyrs.Conv2D(16, 3, activation='relu')(lyr)\n",
    "lyr = lyrs.MaxPooling2D(3)(lyr)\n",
    "Encoder_Out = lyrs.GlobalMaxPooling2D()(lyr)\n",
    "\n",
    "ModelEncoder = tfk.Model(Encoder_Inp, Encoder_Out, name='Encoder')\n",
    "ModelEncoder.summary()\n",
    "\n",
    "\n",
    "Decoder_Inp = tfk.Input(shape=(25, ), name='Encoded_Image')\n",
    "lyr = lyrs.Reshape((5, 5, 1))(Decoder_Inp)\n",
    "lyr = lyrs.UpSampling2D(3)(lyr)\n",
    "\n",
    "lyr = lyrs.Conv2DTranspose(16, 2, activation='relu')(lyr)\n",
    "lyr = lyrs.Conv2DTranspose(32, 3, activation='relu')(lyr)\n",
    "lyr = lyrs.Conv2DTranspose(64, 3, activation='relu')(lyr)\n",
    "lyr = lyrs.Conv2DTranspose(64, 3, activation='relu')(lyr)\n",
    "lyr = lyrs.UpSampling2D(2)(lyr)\n",
    "\n",
    "lyr = lyrs.Conv2DTranspose(128, 3, activation='relu')(lyr)\n",
    "lyr = lyrs.Conv2DTranspose(128, 3, activation='relu')(lyr)\n",
    "lyr = lyrs.UpSampling2D(3)(lyr)\n",
    "\n",
    "lyr = lyrs.Conv2DTranspose(64, 3, activation='relu')(lyr)\n",
    "lyr = lyrs.Conv2DTranspose(64, 3, activation='relu')(lyr)\n",
    "output = lyrs.Conv2DTranspose(1, 3, activation='relu')(lyr)\n",
    "\n",
    "ModelDecoder = tfk.Model(Decoder_Inp, output, name='Decoder')\n",
    "ModelDecoder.summary()\n",
    "\n",
    "autoenc_inp = tfk.Input((150, 150, 1), name='AutoEncoder_Input')\n",
    "\n",
    "encoded_image = ModelEncoder(autoencoder_inp)\n",
    "decoded_image = ModelDecoder(encoded_image)\n",
    "\n",
    "autoencoder = tfk.Model(autoenc_inp, decoded_image, name='AutoEncoder')\n",
    "autoencoder.summary()"
   ]
  },
  {
   "cell_type": "code",
   "execution_count": 133,
   "metadata": {},
   "outputs": [
    {
     "name": "stdout",
     "output_type": "stream",
     "text": [
      "Model: \"encoder\"\n",
      "_________________________________________________________________\n",
      " Layer (type)                Output Shape              Param #   \n",
      "=================================================================\n",
      " original_img (InputLayer)   [(None, 28, 28, 1)]       0         \n",
      "                                                                 \n",
      " conv2d_228 (Conv2D)         (None, 26, 26, 16)        160       \n",
      "                                                                 \n",
      " conv2d_229 (Conv2D)         (None, 24, 24, 32)        4640      \n",
      "                                                                 \n",
      " max_pooling2d_78 (MaxPoolin  (None, 8, 8, 32)         0         \n",
      " g2D)                                                            \n",
      "                                                                 \n",
      " conv2d_230 (Conv2D)         (None, 6, 6, 32)          9248      \n",
      "                                                                 \n",
      " conv2d_231 (Conv2D)         (None, 4, 4, 16)          4624      \n",
      "                                                                 \n",
      " global_max_pooling2d_22 (Gl  (None, 16)               0         \n",
      " obalMaxPooling2D)                                               \n",
      "                                                                 \n",
      "=================================================================\n",
      "Total params: 18,672\n",
      "Trainable params: 18,672\n",
      "Non-trainable params: 0\n",
      "_________________________________________________________________\n",
      "Model: \"decoder\"\n",
      "_________________________________________________________________\n",
      " Layer (type)                Output Shape              Param #   \n",
      "=================================================================\n",
      " encoded_img (InputLayer)    [(None, 16)]              0         \n",
      "                                                                 \n",
      " reshape_34 (Reshape)        (None, 4, 4, 1)           0         \n",
      "                                                                 \n",
      " conv2d_transpose_151 (Conv2  (None, 6, 6, 16)         160       \n",
      " DTranspose)                                                     \n",
      "                                                                 \n",
      " conv2d_transpose_152 (Conv2  (None, 8, 8, 32)         4640      \n",
      " DTranspose)                                                     \n",
      "                                                                 \n",
      " up_sampling2d_48 (UpSamplin  (None, 24, 24, 32)       0         \n",
      " g2D)                                                            \n",
      "                                                                 \n",
      " conv2d_transpose_153 (Conv2  (None, 26, 26, 16)       4624      \n",
      " DTranspose)                                                     \n",
      "                                                                 \n",
      " conv2d_transpose_154 (Conv2  (None, 28, 28, 1)        145       \n",
      " DTranspose)                                                     \n",
      "                                                                 \n",
      "=================================================================\n",
      "Total params: 9,569\n",
      "Trainable params: 9,569\n",
      "Non-trainable params: 0\n",
      "_________________________________________________________________\n",
      "Model: \"autoencoder\"\n",
      "_________________________________________________________________\n",
      " Layer (type)                Output Shape              Param #   \n",
      "=================================================================\n",
      " img (InputLayer)            [(None, 28, 28, 1)]       0         \n",
      "                                                                 \n",
      " encoder (Functional)        (None, 16)                18672     \n",
      "                                                                 \n",
      " decoder (Functional)        (None, 28, 28, 1)         9569      \n",
      "                                                                 \n",
      "=================================================================\n",
      "Total params: 28,241\n",
      "Trainable params: 28,241\n",
      "Non-trainable params: 0\n",
      "_________________________________________________________________\n"
     ]
    }
   ],
   "source": [
    "encoder_input = tfk.Input(shape=(28, 28, 1), name=\"original_img\")\n",
    "x = lyrs.Conv2D(16, 3, activation=\"relu\")(encoder_input)\n",
    "x = lyrs.Conv2D(32, 3, activation=\"relu\")(x)\n",
    "x = lyrs.MaxPooling2D(3)(x)\n",
    "x = lyrs.Conv2D(32, 3, activation=\"relu\")(x)\n",
    "x = lyrs.Conv2D(16, 3, activation=\"relu\")(x)\n",
    "encoder_output = lyrs.GlobalMaxPooling2D()(x)\n",
    "\n",
    "encoder = tfk.Model(encoder_input, encoder_output, name=\"encoder\")\n",
    "encoder.summary()\n",
    "\n",
    "decoder_input = tfk.Input(shape=(16,), name=\"encoded_img\")\n",
    "x = lyrs.Reshape((4, 4, 1))(decoder_input)\n",
    "x = lyrs.Conv2DTranspose(16, 3, activation=\"relu\")(x)\n",
    "x = lyrs.Conv2DTranspose(32, 3, activation=\"relu\")(x)\n",
    "x = lyrs.UpSampling2D(3)(x)\n",
    "x = lyrs.Conv2DTranspose(16, 3, activation=\"relu\")(x)\n",
    "decoder_output = lyrs.Conv2DTranspose(1, 3, activation=\"relu\")(x)\n",
    "\n",
    "decoder = tfk.Model(decoder_input, decoder_output, name=\"decoder\")\n",
    "decoder.summary()\n",
    "\n",
    "autoencoder_input = tfk.Input(shape=(28, 28, 1), name=\"img\")\n",
    "encoded_img = encoder(autoencoder_input)\n",
    "decoded_img = decoder(encoded_img)\n",
    "autoencoder = tfk.Model(autoencoder_input, decoded_img, name=\"autoencoder\")\n",
    "autoencoder.summary()\n"
   ]
  },
  {
   "cell_type": "code",
   "execution_count": null,
   "metadata": {},
   "outputs": [],
   "source": [
    "def get_Model():\n",
    "    pass"
   ]
  },
  {
   "cell_type": "markdown",
   "metadata": {},
   "source": [
    "## **Manipulate complex graph topologies**"
   ]
  },
  {
   "cell_type": "markdown",
   "metadata": {},
   "source": [
    "> #### **Multi Input||Outputs**\n",
    "\n",
    "**Printing Movie Tickets for customers**\n",
    "\n",
    "**`Inputs:`**\n",
    "1. The Title of the ticket\n",
    "2. The text body of the ticket(categorical input)\n",
    "3. Tags added by the user\n",
    "\n",
    "**`Outputs:`**\n",
    "1. Priority between 0-1\n",
    "2. The department that should handle the ticket(softmax over the set of departments)\n"
   ]
  },
  {
   "cell_type": "code",
   "execution_count": 4,
   "metadata": {},
   "outputs": [],
   "source": [
    "num_tags = 12 # Number of unique issue-tags.\n",
    "num_words = 10000 # Size of vocabulary when preprocessing the text.\n",
    "num_depts = 4 # Number of departments for predictions."
   ]
  },
  {
   "cell_type": "code",
   "execution_count": 19,
   "metadata": {},
   "outputs": [],
   "source": [
    "# Defining Inputs for a ticket\n",
    "\n",
    "title_input = tfk.Input(\n",
    "    shape= (None, ), name='titles'\n",
    ") # Variable-length sequence of ints.\n",
    "\n",
    "body_input = tfk.Input(\n",
    "    shape=(None, ), name='text'\n",
    ") # Variable-length sequence of ints.\n",
    "\n",
    "tags_input = tfk.Input(\n",
    "    shape=(num_tags, ), name='tags'\n",
    ") # Binary-vectors of size 'num_tags'\n"
   ]
  },
  {
   "cell_type": "code",
   "execution_count": 31,
   "metadata": {},
   "outputs": [
    {
     "name": "stdout",
     "output_type": "stream",
     "text": [
      "Im here\n"
     ]
    },
    {
     "data": {
      "image/png": "[encoded data removed]",
      "text/plain": [
       "<IPython.core.display.Image object>"
      ]
     },
     "execution_count": 31,
     "metadata": {},
     "output_type": "execute_result"
    }
   ],
   "source": [
    "\"\"\"\n",
    "    First create 64-dimensional embeddings for each title word and each text words\n",
    "    Reduce sequence of words into a single (n) dimensional vector\n",
    "\"\"\"\n",
    "\n",
    "# Embed each title-word, text-words into a 64 dimensional vector.\n",
    "title_features = lyrs.Embedding(num_words, 64)(title_input)\n",
    "text_features  = lyrs.Embedding(num_words, 64)(body_input)\n",
    "\n",
    "# Reduce sequences to a single vector using LSTM layers\n",
    "title_features = lyrs.Bidirectional(\n",
    "    lyrs.LSTM(128, activation='tanh')\n",
    ")(title_features) # Vector with (128*2, ) dimension\n",
    "\n",
    "text_features = lyrs.Bidirectional(\n",
    "    lyrs.LSTM(64, activation='tanh')\n",
    ")(text_features)  # Vector with (48*2, ) dimension\n",
    "\n",
    "# Merge all layers into one layer\n",
    "x = lyrs.concatenate([title_features, text_features, tags_input])\n",
    "# Stick a logistic regression chapee on top of the combined Inputs to get priority for a ticekt..\n",
    "# Priority [0.0-1.0].\n",
    "\n",
    "priority_perdiction = lyrs.Dense(1, name='priority')(x)\n",
    "# Create another layer for predicting department.\n",
    "dept_pridiction = lyrs.Dense(4, name='Department')(x)\n",
    "\n",
    "print(\"Im here\")\n",
    "\n",
    "\n",
    "inputs = [title_input, body_input, tags_input]\n",
    "outputs = [priority_perdiction, dept_pridiction]\n",
    "\n",
    "model = tfk.Model(\n",
    "    inputs, outputs, name='Ticket_prediction_Model'\n",
    ")\n",
    "\n",
    "tfk.utils.plot_model(model, 'Ticket_classifier.png', show_shapes= True)"
   ]
  },
  {
   "cell_type": "code",
   "execution_count": 32,
   "metadata": {},
   "outputs": [],
   "source": [
    "# Compiling the Model and assigning weights\n",
    "# We can assign seperate (perhaps optimizers) losses to each of the ouptuts in the Model\n",
    "\n",
    "model.compile(\n",
    "    optimizer= [\n",
    "        opts.Adam(),\n",
    "        opts.Adadelta(),\n",
    "    ],\n",
    "    \n",
    "    loss= [\n",
    "        ls.BinaryCrossentropy(from_logits= True),\n",
    "        ls.SparseCategoricalCrossentropy(from_logits= True)\n",
    "    ],\n",
    "    \n",
    "    # loss_weights=[1.0, 2.0],\n",
    "    # loss_weights={\"priority\": 1.0, \"department\": 0.2} :: Specifying layers to add specific weights\n",
    "    # metrics=['accuracy']\n",
    ")"
   ]
  },
  {
   "cell_type": "code",
   "execution_count": 29,
   "metadata": {},
   "outputs": [
    {
     "name": "stdout",
     "output_type": "stream",
     "text": [
      "Epoch 1/2\n"
     ]
    },
    {
     "ename": "ValueError",
     "evalue": "in user code:\n\n    File \"C:\\Users\\ahsan\\anaconda3\\envs\\Graphs_IDS\\lib\\site-packages\\keras\\engine\\training.py\", line 878, in train_function  *\n        return step_function(self, iterator)\n    File \"C:\\Users\\ahsan\\anaconda3\\envs\\Graphs_IDS\\lib\\site-packages\\keras\\engine\\training.py\", line 867, in step_function  **\n        outputs = model.distribute_strategy.run(run_step, args=(data,))\n    File \"C:\\Users\\ahsan\\anaconda3\\envs\\Graphs_IDS\\lib\\site-packages\\keras\\engine\\training.py\", line 860, in run_step  **\n        outputs = model.train_step(data)\n    File \"C:\\Users\\ahsan\\anaconda3\\envs\\Graphs_IDS\\lib\\site-packages\\keras\\engine\\training.py\", line 809, in train_step\n        loss = self.compiled_loss(\n    File \"C:\\Users\\ahsan\\anaconda3\\envs\\Graphs_IDS\\lib\\site-packages\\keras\\engine\\compile_utils.py\", line 201, in __call__\n        loss_value = loss_obj(y_t, y_p, sample_weight=sw)\n    File \"C:\\Users\\ahsan\\anaconda3\\envs\\Graphs_IDS\\lib\\site-packages\\keras\\losses.py\", line 141, in __call__\n        losses = call_fn(y_true, y_pred)\n    File \"C:\\Users\\ahsan\\anaconda3\\envs\\Graphs_IDS\\lib\\site-packages\\keras\\losses.py\", line 245, in call  **\n        return ag_fn(y_true, y_pred, **self._fn_kwargs)\n    File \"C:\\Users\\ahsan\\anaconda3\\envs\\Graphs_IDS\\lib\\site-packages\\keras\\losses.py\", line 1737, in sparse_categorical_crossentropy\n        return backend.sparse_categorical_crossentropy(\n    File \"C:\\Users\\ahsan\\anaconda3\\envs\\Graphs_IDS\\lib\\site-packages\\keras\\backend.py\", line 5113, in sparse_categorical_crossentropy\n        res = tf.nn.sparse_softmax_cross_entropy_with_logits(\n\n    ValueError: `labels.shape` must equal `logits.shape` except for the last dimension. Received: labels.shape=(128,) and logits.shape=(32, 4)\n",
     "output_type": "error",
     "traceback": [
      "\u001b[1;31m---------------------------------------------------------------------------\u001b[0m",
      "\u001b[1;31mValueError\u001b[0m                                Traceback (most recent call last)",
      "\u001b[1;32m~\\AppData\\Local\\Temp/ipykernel_5260/181270929.py\u001b[0m in \u001b[0;36m<module>\u001b[1;34m\u001b[0m\n\u001b[0;32m     10\u001b[0m \u001b[0mdept_targets\u001b[0m \u001b[1;33m=\u001b[0m \u001b[0mnp\u001b[0m\u001b[1;33m.\u001b[0m\u001b[0mrandom\u001b[0m\u001b[1;33m.\u001b[0m\u001b[0mrandint\u001b[0m\u001b[1;33m(\u001b[0m\u001b[1;36m2\u001b[0m\u001b[1;33m,\u001b[0m \u001b[0msize\u001b[0m\u001b[1;33m=\u001b[0m\u001b[1;33m(\u001b[0m\u001b[1;36m1280\u001b[0m\u001b[1;33m,\u001b[0m \u001b[0mnum_depts\u001b[0m\u001b[1;33m)\u001b[0m\u001b[1;33m)\u001b[0m\u001b[1;33m\u001b[0m\u001b[1;33m\u001b[0m\u001b[0m\n\u001b[0;32m     11\u001b[0m \u001b[1;33m\u001b[0m\u001b[0m\n\u001b[1;32m---> 12\u001b[1;33m model.fit(\n\u001b[0m\u001b[0;32m     13\u001b[0m     \u001b[1;33m{\u001b[0m\u001b[1;34m\"titles\"\u001b[0m\u001b[1;33m:\u001b[0m \u001b[0mtitle_data\u001b[0m\u001b[1;33m,\u001b[0m \u001b[1;34m\"text\"\u001b[0m\u001b[1;33m:\u001b[0m \u001b[0mbody_data\u001b[0m\u001b[1;33m,\u001b[0m \u001b[1;34m\"tags\"\u001b[0m\u001b[1;33m:\u001b[0m \u001b[0mtags_data\u001b[0m\u001b[1;33m}\u001b[0m\u001b[1;33m,\u001b[0m\u001b[1;33m\u001b[0m\u001b[1;33m\u001b[0m\u001b[0m\n\u001b[0;32m     14\u001b[0m     \u001b[1;33m{\u001b[0m\u001b[1;34m\"priority\"\u001b[0m\u001b[1;33m:\u001b[0m \u001b[0mpriority_targets\u001b[0m\u001b[1;33m,\u001b[0m \u001b[1;34m\"Department\"\u001b[0m\u001b[1;33m:\u001b[0m \u001b[0mdept_targets\u001b[0m\u001b[1;33m}\u001b[0m\u001b[1;33m,\u001b[0m\u001b[1;33m\u001b[0m\u001b[1;33m\u001b[0m\u001b[0m\n",
      "\u001b[1;32m~\\anaconda3\\envs\\Graphs_IDS\\lib\\site-packages\\keras\\utils\\traceback_utils.py\u001b[0m in \u001b[0;36merror_handler\u001b[1;34m(*args, **kwargs)\u001b[0m\n\u001b[0;32m     65\u001b[0m     \u001b[1;32mexcept\u001b[0m \u001b[0mException\u001b[0m \u001b[1;32mas\u001b[0m \u001b[0me\u001b[0m\u001b[1;33m:\u001b[0m  \u001b[1;31m# pylint: disable=broad-except\u001b[0m\u001b[1;33m\u001b[0m\u001b[1;33m\u001b[0m\u001b[0m\n\u001b[0;32m     66\u001b[0m       \u001b[0mfiltered_tb\u001b[0m \u001b[1;33m=\u001b[0m \u001b[0m_process_traceback_frames\u001b[0m\u001b[1;33m(\u001b[0m\u001b[0me\u001b[0m\u001b[1;33m.\u001b[0m\u001b[0m__traceback__\u001b[0m\u001b[1;33m)\u001b[0m\u001b[1;33m\u001b[0m\u001b[1;33m\u001b[0m\u001b[0m\n\u001b[1;32m---> 67\u001b[1;33m       \u001b[1;32mraise\u001b[0m \u001b[0me\u001b[0m\u001b[1;33m.\u001b[0m\u001b[0mwith_traceback\u001b[0m\u001b[1;33m(\u001b[0m\u001b[0mfiltered_tb\u001b[0m\u001b[1;33m)\u001b[0m \u001b[1;32mfrom\u001b[0m \u001b[1;32mNone\u001b[0m\u001b[1;33m\u001b[0m\u001b[1;33m\u001b[0m\u001b[0m\n\u001b[0m\u001b[0;32m     68\u001b[0m     \u001b[1;32mfinally\u001b[0m\u001b[1;33m:\u001b[0m\u001b[1;33m\u001b[0m\u001b[1;33m\u001b[0m\u001b[0m\n\u001b[0;32m     69\u001b[0m       \u001b[1;32mdel\u001b[0m \u001b[0mfiltered_tb\u001b[0m\u001b[1;33m\u001b[0m\u001b[1;33m\u001b[0m\u001b[0m\n",
      "\u001b[1;32m~\\anaconda3\\envs\\Graphs_IDS\\lib\\site-packages\\tensorflow\\python\\framework\\func_graph.py\u001b[0m in \u001b[0;36mautograph_handler\u001b[1;34m(*args, **kwargs)\u001b[0m\n\u001b[0;32m   1127\u001b[0m           \u001b[1;32mexcept\u001b[0m \u001b[0mException\u001b[0m \u001b[1;32mas\u001b[0m \u001b[0me\u001b[0m\u001b[1;33m:\u001b[0m  \u001b[1;31m# pylint:disable=broad-except\u001b[0m\u001b[1;33m\u001b[0m\u001b[1;33m\u001b[0m\u001b[0m\n\u001b[0;32m   1128\u001b[0m             \u001b[1;32mif\u001b[0m \u001b[0mhasattr\u001b[0m\u001b[1;33m(\u001b[0m\u001b[0me\u001b[0m\u001b[1;33m,\u001b[0m \u001b[1;34m\"ag_error_metadata\"\u001b[0m\u001b[1;33m)\u001b[0m\u001b[1;33m:\u001b[0m\u001b[1;33m\u001b[0m\u001b[1;33m\u001b[0m\u001b[0m\n\u001b[1;32m-> 1129\u001b[1;33m               \u001b[1;32mraise\u001b[0m \u001b[0me\u001b[0m\u001b[1;33m.\u001b[0m\u001b[0mag_error_metadata\u001b[0m\u001b[1;33m.\u001b[0m\u001b[0mto_exception\u001b[0m\u001b[1;33m(\u001b[0m\u001b[0me\u001b[0m\u001b[1;33m)\u001b[0m\u001b[1;33m\u001b[0m\u001b[1;33m\u001b[0m\u001b[0m\n\u001b[0m\u001b[0;32m   1130\u001b[0m             \u001b[1;32melse\u001b[0m\u001b[1;33m:\u001b[0m\u001b[1;33m\u001b[0m\u001b[1;33m\u001b[0m\u001b[0m\n\u001b[0;32m   1131\u001b[0m               \u001b[1;32mraise\u001b[0m\u001b[1;33m\u001b[0m\u001b[1;33m\u001b[0m\u001b[0m\n",
      "\u001b[1;31mValueError\u001b[0m: in user code:\n\n    File \"C:\\Users\\ahsan\\anaconda3\\envs\\Graphs_IDS\\lib\\site-packages\\keras\\engine\\training.py\", line 878, in train_function  *\n        return step_function(self, iterator)\n    File \"C:\\Users\\ahsan\\anaconda3\\envs\\Graphs_IDS\\lib\\site-packages\\keras\\engine\\training.py\", line 867, in step_function  **\n        outputs = model.distribute_strategy.run(run_step, args=(data,))\n    File \"C:\\Users\\ahsan\\anaconda3\\envs\\Graphs_IDS\\lib\\site-packages\\keras\\engine\\training.py\", line 860, in run_step  **\n        outputs = model.train_step(data)\n    File \"C:\\Users\\ahsan\\anaconda3\\envs\\Graphs_IDS\\lib\\site-packages\\keras\\engine\\training.py\", line 809, in train_step\n        loss = self.compiled_loss(\n    File \"C:\\Users\\ahsan\\anaconda3\\envs\\Graphs_IDS\\lib\\site-packages\\keras\\engine\\compile_utils.py\", line 201, in __call__\n        loss_value = loss_obj(y_t, y_p, sample_weight=sw)\n    File \"C:\\Users\\ahsan\\anaconda3\\envs\\Graphs_IDS\\lib\\site-packages\\keras\\losses.py\", line 141, in __call__\n        losses = call_fn(y_true, y_pred)\n    File \"C:\\Users\\ahsan\\anaconda3\\envs\\Graphs_IDS\\lib\\site-packages\\keras\\losses.py\", line 245, in call  **\n        return ag_fn(y_true, y_pred, **self._fn_kwargs)\n    File \"C:\\Users\\ahsan\\anaconda3\\envs\\Graphs_IDS\\lib\\site-packages\\keras\\losses.py\", line 1737, in sparse_categorical_crossentropy\n        return backend.sparse_categorical_crossentropy(\n    File \"C:\\Users\\ahsan\\anaconda3\\envs\\Graphs_IDS\\lib\\site-packages\\keras\\backend.py\", line 5113, in sparse_categorical_crossentropy\n        res = tf.nn.sparse_softmax_cross_entropy_with_logits(\n\n    ValueError: `labels.shape` must equal `logits.shape` except for the last dimension. Received: labels.shape=(128,) and logits.shape=(32, 4)\n"
     ]
    }
   ],
   "source": [
    "# Training the Model with dumy data to see the results.\n",
    "\n",
    "# Dummy input data\n",
    "title_data = np.random.randint(num_words, size=(1280, 10))\n",
    "body_data = np.random.randint(num_words, size=(1280, 100))\n",
    "tags_data = np.random.randint(2, size=(1280, num_tags)).astype(\"float32\")\n",
    "\n",
    "# Dummy target data\n",
    "priority_targets = np.random.random(size=(1280, 1))\n",
    "dept_targets = np.random.randint(2, size=(1280, num_depts))\n",
    "\n",
    "model.fit(\n",
    "    {\"titles\": title_data, \"text\": body_data, \"tags\": tags_data},\n",
    "    {\"priority\": priority_targets, \"Department\": dept_targets},\n",
    "    epochs=2,\n",
    "    batch_size=32,\n",
    ")\n"
   ]
  },
  {
   "cell_type": "markdown",
   "metadata": {},
   "source": [
    "> #### **Mini Resnet**"
   ]
  },
  {
   "cell_type": "markdown",
   "metadata": {},
   "source": [
    "## **Shared Layers**"
   ]
  },
  {
   "cell_type": "markdown",
   "metadata": {},
   "source": [
    "## **Extract and reuse Nodes in graph of layers**"
   ]
  },
  {
   "cell_type": "markdown",
   "metadata": {},
   "source": [
    "## **Extend the Func-API using custom-layers**"
   ]
  },
  {
   "cell_type": "markdown",
   "metadata": {},
   "source": [
    "## **Practical Use**"
   ]
  },
  {
   "cell_type": "markdown",
   "metadata": {},
   "source": [
    "> #### **Strengths**"
   ]
  },
  {
   "cell_type": "markdown",
   "metadata": {},
   "source": [
    "> #### **Weaknesses**"
   ]
  },
  {
   "cell_type": "markdown",
   "metadata": {},
   "source": [
    "## **Mix n Match API styles**"
   ]
  }
 ],
 "metadata": {
  "interpreter": {
   "hash": "8b8b0bc04ec3d1dc0d456e2ffa50a3bb2db1f633383799a4f8b8e1b40d883f7f"
  },
  "kernelspec": {
   "display_name": "Python 3.8.12 ('Graphs_IDS')",
   "language": "python",
   "name": "python3"
  },
  "language_info": {
   "codemirror_mode": {
    "name": "ipython",
    "version": 3
   },
   "file_extension": ".py",
   "mimetype": "text/x-python",
   "name": "python",
   "nbconvert_exporter": "python",
   "pygments_lexer": "ipython3",
   "version": "3.8.12"
  },
  "orig_nbformat": 4
 },
 "nbformat": 4,
 "nbformat_minor": 2
}
