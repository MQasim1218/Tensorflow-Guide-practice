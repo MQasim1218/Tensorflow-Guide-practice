{
  "cells": [
    {
      "cell_type": "code",
      "execution_count": 2,
      "metadata": {
        "id": "80ed6vi4n_Uu"
      },
      "outputs": [],
      "source": [
        "import tensorflow as tf\n",
        "import numpy as np"
      ]
    },
    {
      "cell_type": "markdown",
      "metadata": {
        "id": "ZLGaeFPaPpxz"
      },
      "source": [
        "##### Tensors are multi-dimensional arrays with a uniform type (dtype).\n",
        "\n",
        "##### All tensors are immutable like Python numbers and strings\n"
      ]
    },
    {
      "cell_type": "markdown",
      "metadata": {
        "id": "1ah-HG2QQMg8"
      },
      "source": [
        "# Tensor Bascis\n"
      ]
    },
    {
      "cell_type": "markdown",
      "metadata": {
        "id": "JxzbnjAVQQvP"
      },
      "source": [
        "### Rank of tensors\n"
      ]
    },
    {
      "cell_type": "code",
      "execution_count": 16,
      "metadata": {
        "colab": {
          "base_uri": "https://localhost:8080/"
        },
        "id": "glYGrFGaQL3V",
        "outputId": "721177c1-bbe8-4e1d-e299-421f22adea03"
      },
      "outputs": [
        {
          "name": "stdout",
          "output_type": "stream",
          "text": [
            "tf.Tensor(\n",
            "[[[1 2]\n",
            "  [3 4]]\n",
            "\n",
            " [[5 4]\n",
            "  [5 6]]\n",
            "\n",
            " [[7 7]\n",
            "  [9 1]]\n",
            "\n",
            " [[2 3]\n",
            "  [6 5]]], shape=(4, 2, 2), dtype=int32)\n"
          ]
        }
      ],
      "source": [
        "# Rank 0 tensor (dimension = (None)) || shape= ()\n",
        "r0ten = tf.constant(5)\n",
        "r0ten\n",
        "\n",
        "# Rank 1 tensor (dimension = 1) || shape=(n)\n",
        "r1ten = tf.constant([1, 2, 3, 4])\n",
        "r1ten\n",
        "\n",
        "# Rank 2 tensor (2 dimensional) || shape=(m, n)\n",
        "r2ten = tf.constant([\n",
        "    [7, 4], [3, 8],\n",
        "    [3, 9], [3, 3],\n",
        "    [7, 1], [8, 2]\n",
        "])\n",
        "r2ten\n",
        "\n",
        "# Rank 3 tensor (3d array) || shape= (l, m, n)\n",
        "r3ten = tf.constant([\n",
        "    [[1, 2], [3, 4]],\n",
        "    [[5, 4], [5, 6]],\n",
        "    [[7, 7], [9, 1]],\n",
        "    [[2, 3], [6, 5]]\n",
        "])\n",
        "print(r3ten)\n"
      ]
    },
    {
      "cell_type": "markdown",
      "metadata": {
        "id": "TxSmGV1yT0Bi"
      },
      "source": [
        "### Tensor arthemetic\n"
      ]
    },
    {
      "cell_type": "code",
      "execution_count": 4,
      "metadata": {
        "colab": {
          "base_uri": "https://localhost:8080/"
        },
        "id": "eE03eBjCUVAg",
        "outputId": "1eb619ed-f60c-412f-cd21-e6c6452156df"
      },
      "outputs": [
        {
          "name": "stdout",
          "output_type": "stream",
          "text": [
            "tf.Tensor(\n",
            "[[3 3]\n",
            " [7 7]], shape=(2, 2), dtype=int32)\n",
            "tf.Tensor(\n",
            "[[3 3]\n",
            " [7 7]], shape=(2, 2), dtype=int32)\n"
          ]
        }
      ],
      "source": [
        "a = tf.constant([[1, 2],\n",
        "                 [3, 4]])\n",
        "b = tf.constant([[1, 1],\n",
        "                 [1, 1]])\n",
        "# Addition\n",
        "print(a + b)\n",
        "print(tf.add(a, b))\n",
        "\n",
        "\n",
        "# Subtraction\n",
        "print(a - b)\n",
        "print(tf.subtract(a, b))\n",
        "\n",
        "# Multiplication (Element wise)\n",
        "print(a * b)\n",
        "print(tf.multiply(a, b))\n",
        "\n",
        "\n",
        "# Exponentation (element wise)\n",
        "print(a ** 2)\n",
        "\n",
        "# Matrix multiplication\n",
        "print(tf.matmul(a, b))\n",
        "print(a @ b)\n"
      ]
    },
    {
      "cell_type": "markdown",
      "metadata": {},
      "source": [
        "#### Other Tensor functions\n"
      ]
    },
    {
      "cell_type": "code",
      "execution_count": 7,
      "metadata": {},
      "outputs": [
        {
          "data": {
            "text/plain": [
              "<tf.Tensor: shape=(2, 3), dtype=float32, numpy=\n",
              "array([[8.4379470e-01, 4.2010065e-02, 1.1419519e-01],\n",
              "       [9.8113519e-01, 1.7970119e-02, 8.9467951e-04]], dtype=float32)>"
            ]
          },
          "execution_count": 7,
          "metadata": {},
          "output_type": "execute_result"
        }
      ],
      "source": [
        "ten = tf.constant([\n",
        "    [5, 2, 3],\n",
        "    [8, 4, 1]\n",
        "], dtype=tf.float32)\n",
        "\n",
        "tf.argmax(ten)\n",
        "tf.nn.softmax(ten)\n"
      ]
    },
    {
      "cell_type": "markdown",
      "metadata": {},
      "source": [
        "### Initializing Tensors"
      ]
    },
    {
      "cell_type": "markdown",
      "metadata": {},
      "source": [
        "##### **Special Tensors**"
      ]
    },
    {
      "cell_type": "code",
      "execution_count": null,
      "metadata": {},
      "outputs": [],
      "source": [
        "# Method 1 (tf.constant) ==> Already covered\n",
        "\n",
        "# Method 2 (tf.ones() || tf.zeros() )\n",
        "tf.ones((3, 3), dtype=tf.float64, name='OnesMatrix').numpy()\n",
        "tf.ones([4, 5], dtype=tf.float64, name='OnesMatrix').numpy()\n",
        "\n",
        "tf.zeros((2, 4), dtype=tf.float64).numpy()\n",
        "tf.zeros([6, 3], dtype=tf.int32).numpy()\n",
        "\n",
        "# Method 3 (tf.eye() Identity-Matrix)\n",
        "\n",
        "# Creates a regular identity matrix\n",
        "tf.eye(5)\n",
        "\n",
        "# Creates an identity matrix `tf.eye(m, n)` with m rows and n columns.. \n",
        "# n can be greater than or less than m\n",
        "tf.eye(3, 4)\n",
        "\n",
        "# batch-shape parameter takes a tensor(nd-ary) and outputs a batch of identity matrices\n",
        "tf.eye(3, 3, batch_shape=[2])\n",
        "tf.eye(4, batch_shape=[2, 4])\n"
      ]
    },
    {
      "cell_type": "markdown",
      "metadata": {},
      "source": [
        "##### **Random tensors**"
      ]
    },
    {
      "cell_type": "code",
      "execution_count": 112,
      "metadata": {},
      "outputs": [
        {
          "data": {
            "text/plain": [
              "<tf.Tensor: shape=(6,), dtype=int32, numpy=array([20, 23, 26, 29, 32, 35])>"
            ]
          },
          "execution_count": 112,
          "metadata": {},
          "output_type": "execute_result"
        }
      ],
      "source": [
        "# Distributions :: Normal|| binomial anything!!\n",
        "tf.random.normal([2, 2], dtype=tf.float16).numpy()\n",
        "tf.random.normal([5, 2], mean=3, stddev=5, seed=2, dtype=tf.float16).numpy()\n",
        "\n",
        "# Possion distribution parameters\n",
        "# lam -> value to distribute new numbers around\n",
        "x = tf.random.poisson([2,2], [10, 20], seed= 1, dtype=tf.int32).numpy()\n",
        "tf.random.poisson([3, 3], [12, 32 ,15],seed= 2.5, dtype=tf.int32).numpy()\n",
        "\n",
        "tf.random.uniform([3, 3], 10, 20, dtype=tf.int32).numpy()\n",
        "tf.random.uniform([3, 3], 10, 20, dtype=tf.int32).numpy()\n",
        "\n",
        "tf.linspace(10, 20, 11).numpy()\n",
        "tf.linspace([0,0], [10,-10], 11)\n",
        "\n",
        "tf.range(start= 20, limit= 36, delta= 3)"
      ]
    },
    {
      "cell_type": "markdown",
      "metadata": {},
      "source": [
        "### Indexing tensors"
      ]
    },
    {
      "cell_type": "code",
      "execution_count": 137,
      "metadata": {},
      "outputs": [
        {
          "name": "stdout",
          "output_type": "stream",
          "text": [
            "tf.Tensor(\n",
            "[[11 14 17]\n",
            " [12 10 16]\n",
            " [15 16 19]], shape=(3, 3), dtype=int32)\n",
            "\n",
            "[11 14 17]\n",
            "[12 10 16]\n",
            "\n",
            "Individual values\n",
            "19\n"
          ]
        }
      ],
      "source": [
        "# Basic indexing\n",
        "x = tf.random.uniform([3,3],minval=10, maxval=20, dtype= tf.int32)\n",
        "print(x)\n",
        "\n",
        "print()\n",
        "print(x[0].numpy())\n",
        "print(x[1].numpy())\n",
        "\n",
        "\n",
        "print(\"\\nIndividual values\")\n",
        "print(x[2][-1].numpy())"
      ]
    },
    {
      "cell_type": "markdown",
      "metadata": {},
      "source": [
        "##### **Slicing along axis** "
      ]
    },
    {
      "cell_type": "code",
      "execution_count": 247,
      "metadata": {},
      "outputs": [
        {
          "name": "stdout",
          "output_type": "stream",
          "text": [
            "tf.Tensor(\n",
            "[[ 12  43 -32]\n",
            " [  3  32 -43]\n",
            " [ -4  21 -54]\n",
            " [-12  10 -65]\n",
            " [-21   0 -77]], shape=(5, 3), dtype=int32)\n",
            "(5, 3)\n"
          ]
        },
        {
          "data": {
            "text/plain": [
              "array([ 12,   3,  -4, -12, -21])"
            ]
          },
          "execution_count": 247,
          "metadata": {},
          "output_type": "execute_result"
        }
      ],
      "source": [
        "x = tf.linspace([12, 43, -32], [-21, 0, -77], 5)\n",
        "x = tf.cast(x, dtype= tf.int32)\n",
        "print(x)\n",
        "\n",
        "print(x.shape)\n",
        "\n",
        "# Printing entire tensor\n",
        "x[:].numpy()\n",
        "\n",
        "# Printing tensor upto index 3\n",
        "x[:3].numpy()\n",
        "\n",
        "# Printing first element of all rows\n",
        "x[:, 0].numpy()\n",
        "\n"
      ]
    },
    {
      "cell_type": "code",
      "execution_count": 210,
      "metadata": {},
      "outputs": [
        {
          "name": "stdout",
          "output_type": "stream",
          "text": [
            "(5, 5)\n",
            "(5, 5)\n",
            "[[2455 3545]\n",
            " [1175 2220]]\n"
          ]
        }
      ],
      "source": [
        "#################################################\n",
        "############ Playing with Tensors ###############\n",
        "#################################################\n",
        "\n",
        "t1 = tf.random.poisson([6, 8], 5, dtype=tf.int32)\n",
        "t1.numpy()\n",
        "\n",
        "t2 = tf.random.normal([8, 7], mean= 5, stddev= 15, dtype=tf.float32)\n",
        "t2 = tf.cast(t2, tf.int32)\n",
        "t2.numpy()\n",
        "\n",
        "t = t1 @ t2\n",
        "t.numpy()\n",
        "\n",
        "\n",
        "t1_slice = t1[0:-1, 3:].numpy()\n",
        "t_slice = t[-5:, 2:]\n",
        "\n",
        "# -1 reverses the matrix rows\n",
        "t3 = t_slice[:: -1, :: -1] * t1_slice\n",
        "print(t3.shape)\n",
        "print(tf.gather(t3, [2,1]).numpy()[:, 1:-1:2])\n"
      ]
    },
    {
      "cell_type": "markdown",
      "metadata": {},
      "source": [
        "##### **Reshape**"
      ]
    },
    {
      "cell_type": "code",
      "execution_count": 230,
      "metadata": {},
      "outputs": [
        {
          "name": "stdout",
          "output_type": "stream",
          "text": [
            "tf.Tensor(\n",
            "[[  0  23 -29 -29]\n",
            " [ 18 -30  12  19]\n",
            " [ 26  -2  -6 -16]\n",
            " [-32  16  27   4]\n",
            " [-30 -12  25  26]], shape=(5, 4), dtype=int32)\n"
          ]
        },
        {
          "data": {
            "text/plain": [
              "<tf.Tensor: shape=(2, 10), dtype=int32, numpy=\n",
              "array([[  0,  23, -29, -29,  18, -30,  12,  19,  26,  -2],\n",
              "       [ -6, -16, -32,  16,  27,   4, -30, -12,  25,  26]])>"
            ]
          },
          "execution_count": 230,
          "metadata": {},
          "output_type": "execute_result"
        }
      ],
      "source": [
        "t = tf.random.uniform([5,4], minval= -32, maxval=32, dtype=tf.int32)\n",
        "print(t)\n",
        "\n",
        "tf.reshape(t, [10, 2])\n",
        "tf.reshape(t, [2, -1])\n",
        "\n",
        "# tf.reshape(t, [7, 3]) || This isn't possible"
      ]
    },
    {
      "cell_type": "markdown",
      "metadata": {},
      "source": [
        "##### **Ragged Tensor**"
      ]
    },
    {
      "cell_type": "code",
      "execution_count": 242,
      "metadata": {},
      "outputs": [
        {
          "name": "stdout",
          "output_type": "stream",
          "text": [
            "(5, None)\n"
          ]
        }
      ],
      "source": [
        "rt = [  [3,4,5,6,0], [6,5,3], [2,4,7,6,9,8], [3,4,90], [0]  ]\n",
        "rt = tf.ragged.constant(rt)\n",
        "\n",
        "print(rt.shape)"
      ]
    },
    {
      "cell_type": "markdown",
      "metadata": {},
      "source": [
        "##### **String tensors**"
      ]
    },
    {
      "cell_type": "code",
      "execution_count": 248,
      "metadata": {},
      "outputs": [
        {
          "name": "stdout",
          "output_type": "stream",
          "text": [
            "<tf.RaggedTensor [[b'Gray', b'wolf'], [b'Quick', b'brown', b'fox'], [b'Lazy', b'dog']]>\n"
          ]
        }
      ],
      "source": [
        "strten = tf.constant([\n",
        "    \"Gray wolf\", \"Quick brown fox\", \"Lazy dog\"\n",
        "])\n",
        "\n",
        "print(tf.strings.split(strten, sep=\" \"))\n"
      ]
    },
    {
      "cell_type": "code",
      "execution_count": 12,
      "metadata": {},
      "outputs": [
        {
          "name": "stdout",
          "output_type": "stream",
          "text": [
            "SparseTensor(indices=tf.Tensor(\n",
            "[[2 2]\n",
            " [3 3]], shape=(2, 2), dtype=int64), values=tf.Tensor([1 2], shape=(2,), dtype=int32), dense_shape=tf.Tensor([4 4], shape=(2,), dtype=int64))\n",
            "\n",
            "Dense\n",
            " tf.Tensor(\n",
            "[[0 0 0 0]\n",
            " [0 0 0 0]\n",
            " [0 0 1 0]\n",
            " [0 0 0 2]], shape=(4, 4), dtype=int32)\n"
          ]
        }
      ],
      "source": [
        "st = tf.sparse.SparseTensor(\n",
        "                    indices= [[2,2], [3,3]],\n",
        "                    values=  [1,2],\n",
        "                    dense_shape= [4,4]\n",
        ")\n",
        "print(st)\n",
        "\n",
        "st = tf.sparse.to_dense(st)\n",
        "print('\\nDense\\n', st)"
      ]
    }
  ],
  "metadata": {
    "colab": {
      "collapsed_sections": [],
      "name": "G2. Tensors.ipynb",
      "provenance": []
    },
    "kernelspec": {
      "display_name": "Python 3",
      "name": "python3"
    },
    "language_info": {
      "codemirror_mode": {
        "name": "ipython",
        "version": 3
      },
      "file_extension": ".py",
      "mimetype": "text/x-python",
      "name": "python",
      "nbconvert_exporter": "python",
      "pygments_lexer": "ipython3",
      "version": "3.8.11"
    }
  },
  "nbformat": 4,
  "nbformat_minor": 0
}
